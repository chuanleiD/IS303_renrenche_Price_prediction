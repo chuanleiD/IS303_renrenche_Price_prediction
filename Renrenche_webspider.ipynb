{
 "cells": [
  {
   "cell_type": "code",
   "execution_count": 11,
   "id": "24fbc266",
   "metadata": {},
   "outputs": [],
   "source": [
    "import requests\n",
    "from bs4 import BeautifulSoup"
   ]
  },
  {
   "cell_type": "code",
   "execution_count": 12,
   "id": "a3ac905f",
   "metadata": {},
   "outputs": [],
   "source": [
    "def get_page(url):\n",
    "    try:\n",
    "        response = requests.get(url)\n",
    "        if response.status_code == 200:\n",
    "            return response\n",
    "    except:\n",
    "        print('error')\n",
    "        return None"
   ]
  },
  {
   "cell_type": "code",
   "execution_count": 13,
   "id": "1dd5578b",
   "metadata": {},
   "outputs": [],
   "source": [
    "#经测试，发现是静态html文件，这就比较好办了\n",
    "#获得html文件所有内容\n",
    "url = 'https://www.renrenche.com/cn/ershouche/pr-10-15/p2/'\n",
    "session = requests.Session()\n",
    "html = session.get(url)"
   ]
  },
  {
   "cell_type": "code",
   "execution_count": 16,
   "id": "1396c0c1",
   "metadata": {},
   "outputs": [
    {
     "name": "stdout",
     "output_type": "stream",
     "text": [
      "['/car/b9ef87a6510f4f23', '/km/car/d5999208795a9dab', '/bj/car/b7a4a03f67a2aaf9', '/huizhou/car/397fb20ed5c51d19', '/bj/car/4c3a5a1c7245070d', '/bj/car/d24eec2d76efbbcf', '/bj/car/9028a457a892f353', '/gz/car/3a33b950587c42d8', '/suz/car/33a6bc0ec4ee2a3e', '/bj/car/6e17f5b590422c41', '/bj/car/22a31018ee8c1aff', '/dg/car/0e02fd9d6b486ff4', '/car/4ff33463db363659', '/bj/car/8a272499f4d42d5a', '/huizhou/car/9557dabefceaeb5e', '/cd/car/30e8731e961c911e', '/cd/car/cf0c57cadb026e0c', '/huizhou/car/052a0a4407d35a42', '/qd/car/6bd9c84a0af09bd7', '/bj/car/b6e6a0bb5d829962', '/bj/car/9eae7772840c323b', '/bj/car/998b0e1f246e7860', '/bj/car/c32e92b4525abf01', '/dg/car/be580598e679364a', '/dg/car/863efcdbd45b7ca4', '/bj/car/0c6c09e4d52bac8c', '/bj/car/8c66c9312fb7e040', '/bj/car/9ee493268be19083', '/cq/car/7b161682de1c2180', '/bj/car/d80888badd9e2169', '/dg/car/43cdba2050eaea60', '/cd/car/88cb5ab44d55e41a', '/km/car/34ee626cacdfd359', '/bj/car/10e24cc7d8722bd7', '/bj/car/ffb657948ffe2519', '/bj/car/d0b28d3fcc7d68ef', '/cd/car/b963dbe3d059a223', '/cd/car/44089b46c88deada', '/qd/car/f786ddf6bef5f6cb', '/zz/car/534dd26f0891a038', '/bj/car/a067dbea188fd13a', '/fs/car/cde32299e903a25c']\n"
     ]
    }
   ],
   "source": [
    "#筛选出所有的详情链接\n",
    "soup = BeautifulSoup(html.text, 'lxml')\n",
    "car_detail_url = []\n",
    "\n",
    "class_car = []\n",
    "class_car = soup.find_all(class_=\"span6 list-item car-item\")\n",
    "for i in class_car:\n",
    "    car_detail_url.append(i.a.attrs['href'])\n",
    "    \n",
    "class_car2 = []    \n",
    "class_car2 = soup.find_all(class_=\"span6 list-item car-item margin-left-0\")\n",
    "for j in class_car2:\n",
    "    car_detail_url.append(j.a.attrs['href'])\n",
    "\n",
    "print(car_detail_url)\n",
    "    \n"
   ]
  },
  {
   "cell_type": "code",
   "execution_count": 15,
   "id": "8b512014",
   "metadata": {},
   "outputs": [
    {
     "name": "stdout",
     "output_type": "stream",
     "text": [
      "['/car/b9ef87a6510f4f23', '/km/car/d5999208795a9dab', '/bj/car/b7a4a03f67a2aaf9', '/huizhou/car/397fb20ed5c51d19', '/bj/car/4c3a5a1c7245070d', '/bj/car/d24eec2d76efbbcf', '/bj/car/9028a457a892f353', '/gz/car/3a33b950587c42d8', '/suz/car/33a6bc0ec4ee2a3e', '/bj/car/6e17f5b590422c41', '/bj/car/22a31018ee8c1aff', '/dg/car/0e02fd9d6b486ff4', '/car/4ff33463db363659', '/bj/car/8a272499f4d42d5a', '/huizhou/car/9557dabefceaeb5e', '/cd/car/30e8731e961c911e', '/cd/car/cf0c57cadb026e0c', '/huizhou/car/052a0a4407d35a42', '/qd/car/6bd9c84a0af09bd7', '/bj/car/b6e6a0bb5d829962', '/bj/car/9eae7772840c323b', '/bj/car/998b0e1f246e7860', '/bj/car/c32e92b4525abf01', '/dg/car/be580598e679364a', '/dg/car/863efcdbd45b7ca4', '/bj/car/0c6c09e4d52bac8c', '/bj/car/8c66c9312fb7e040', '/bj/car/9ee493268be19083', '/cq/car/7b161682de1c2180', '/bj/car/d80888badd9e2169', '/dg/car/43cdba2050eaea60', '/cd/car/88cb5ab44d55e41a', '/km/car/34ee626cacdfd359', '/bj/car/10e24cc7d8722bd7', '/bj/car/ffb657948ffe2519', '/bj/car/d0b28d3fcc7d68ef', '/cd/car/b963dbe3d059a223', '/cd/car/44089b46c88deada', '/qd/car/f786ddf6bef5f6cb', '/zz/car/534dd26f0891a038', '/bj/car/a067dbea188fd13a', '/fs/car/cde32299e903a25c']\n"
     ]
    }
   ],
   "source": []
  },
  {
   "cell_type": "code",
   "execution_count": null,
   "id": "04439f5d",
   "metadata": {},
   "outputs": [],
   "source": []
  }
 ],
 "metadata": {
  "kernelspec": {
   "display_name": "Python 3 (ipykernel)",
   "language": "python",
   "name": "python3"
  },
  "language_info": {
   "codemirror_mode": {
    "name": "ipython",
    "version": 3
   },
   "file_extension": ".py",
   "mimetype": "text/x-python",
   "name": "python",
   "nbconvert_exporter": "python",
   "pygments_lexer": "ipython3",
   "version": "3.9.7"
  }
 },
 "nbformat": 4,
 "nbformat_minor": 5
}
