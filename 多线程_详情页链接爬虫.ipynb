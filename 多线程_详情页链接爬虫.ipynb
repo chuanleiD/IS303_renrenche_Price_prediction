{
 "cells": [
  {
   "cell_type": "code",
   "execution_count": 1,
   "id": "f280c75e",
   "metadata": {},
   "outputs": [],
   "source": [
    "import time\n",
    "import requests\n",
    "import threading\n",
    "from bs4 import BeautifulSoup"
   ]
  },
  {
   "cell_type": "code",
   "execution_count": 2,
   "id": "4e506fc1",
   "metadata": {},
   "outputs": [],
   "source": [
    "global car_detail_url \n",
    "car_detail_url = []"
   ]
  },
  {
   "cell_type": "code",
   "execution_count": 3,
   "id": "1eacfed3",
   "metadata": {},
   "outputs": [],
   "source": [
    "#由概述页获得详情页连接\n",
    "#---------------------------\n",
    "# 传入url概述页连接\n",
    "# 解析出连接添加到全局变量列表中\n",
    "#---------------------------\n",
    "\n",
    "def get_detail_url(url):\n",
    "    global car_detail_url\n",
    "    \n",
    "    html = requests.get(url)\n",
    "    \n",
    "    class_car = []\n",
    "    class_car2 = []\n",
    "    class_car3 = []\n",
    "    \n",
    "    soup = BeautifulSoup(html.text, 'lxml')\n",
    "    class_car = soup.find_all(class_=\"span6 list-item car-item\")\n",
    "    class_car2 = soup.find_all(class_=\"span6 list-item car-item margin-left-0\")\n",
    "    \n",
    "    for i in class_car:\n",
    "        myhref = i.a.attrs['href']\n",
    "        if len(myhref)<33 and len(myhref)>23: \n",
    "            class_car3.append([i.a.attrs['href']])\n",
    "    \n",
    "    for j in class_car2:\n",
    "        myhref = i.a.attrs['href']\n",
    "        if len(myhref)<35 and len(myhref)>23:\n",
    "            class_car3.append([j.a.attrs['href']])\n",
    "    \n",
    "    car_detail_url.extend(class_car3)\n",
    "    print(url)\n",
    "    print(class_car3)\n",
    "    print()"
   ]
  },
  {
   "cell_type": "markdown",
   "id": "dbd7d58c",
   "metadata": {},
   "source": [
    "### 分次解析连接\n",
    "#### 依次输入：0-3、3-5、5-8、8-10、10-13、13-15、15-18、18-20、20-25、25-30、30-35"
   ]
  },
  {
   "cell_type": "code",
   "execution_count": 4,
   "id": "68b13e91",
   "metadata": {},
   "outputs": [
    {
     "name": "stdout",
     "output_type": "stream",
     "text": [
      "https://www.renrenche.com/cn/ershouche/pr-30-35/p50/\n",
      "[['/tz/car/4503488346093cd1'], ['/linyi/car/02a8b9d183fece56'], ['/ny/car/7c3cffb9f7bb69f1'], ['/linyi/car/64998483ea612332'], ['/yt/car/272d0b4174958813'], ['/lf/car/b570d462b1af9959'], ['/fs/car/36d3d1340da7b0eb'], ['/lf/car/54bd45545d0e49d9'], ['/zk/car/2eca865e5b3d64b1'], ['/heze/car/963ea37b90c0f2af'], ['/nt/car/4e640b8e0d978b1c'], ['/lf/car/f86bb856b5103230'], ['/pds/car/769da8996c16e5b9'], ['/zz/car/f6c7d38bde3b88c1'], ['/songyuan/car/b7349cd4ccd6ae0e'], ['/sq/car/d26c8c734df5e174'], ['/lf/car/9a5bc13ddbb40e0c'], ['/zunyi/car/9bd3beeee0676351'], ['/yulin/car/878b259cd1242bc5'], ['/zz/car/e0a25364630e8c12'], ['/lf/car/4cd5d3a15673d67f'], ['/ld/car/be66d7725edeff4f'], ['/cq/car/1fedf908336e6497'], ['/jiyuan/car/01783797596b6434'], ['/xt/car/18b7e221e5de9899'], ['/lf/car/716bffbc436e55e7'], ['/wz/car/4918c8a17ddd5f97'], ['/yichun/car/2c26cc01f3c898f6'], ['/yinchuan/car/66a4d4b06bcefa20'], ['/dz/car/539fcf821f5137cd'], ['/xn/car/3248345ce105bc24'], ['/bj/car/24ff56fe456514a4'], ['/cz/car/b03906bbfe76daf9'], ['/hz/car/1fd64e7ac28dd07e'], ['/zk/car/5c9df02b3649f512'], ['/songyuan/car/5e357dd1698e1cdc'], ['/hu/car/798a725a8e7c71ce'], ['/zz/car/6360d21ae7e77609'], ['/wz/car/b7f3454b127ee504'], ['/fushun/car/bb74d6c5a60312e7']]\n",
      "\n",
      "https://www.renrenche.com/cn/ershouche/pr-30-35/p2/\n",
      "[['/bj/car/68d6c6e062401c52'], ['/bj/car/18a56e9b4db32f7d'], ['/bj/car/b03341302381e429'], ['/gy/car/5a22a98a231f3482'], ['/bj/car/d99a4a2a4394b27c'], ['/bj/car/83812aa7e5a626bc'], ['/bj/car/09cdad5bd74c1a20'], ['/huizhou/car/24900514cb4d628f'], ['/zz/car/2bc4524a4f6251dd'], ['/bj/car/6bbf02da9475c8ff'], ['/bj/car/632343cec1a57081'], ['/gy/car/3a66942c283fbbe8'], ['/bj/car/c6067c640b198b83'], ['/bj/car/bb21a0de112f8fa3'], ['/bj/car/ef8d8d4420ba59ba'], ['/bj/car/2fe77bdc77579d9e'], ['/km/car/492aa1f9c8422198'], ['/suz/car/7d7bcc8486520b0c'], ['/km/car/45c6ce5013ac876f'], ['/suz/car/302e5b93d913cb91'], ['/bj/car/bb4a0dcfe454b9c0'], ['/huizhou/car/e7077233723339a1'], ['/bj/car/f97f725af55f5ec9'], ['/bj/car/26f11104cd94219d'], ['/bj/car/af5e958840d4d0bd'], ['/huizhou/car/bfb89e43e84de6fe'], ['/bj/car/7b76e63e7668538c'], ['/suz/car/0eac590bc44fb14b'], ['/bj/car/2b984eb03509a0af'], ['/suz/car/bfe5cbcf3d806bc6'], ['/bj/car/0fa764a1d24b21eb'], ['/bj/car/a48be842b5d797fc'], ['/bj/car/f17c27719ff1d870'], ['/bj/car/f0e3643f627b5e86'], ['/bj/car/34728fb2e303cb52'], ['/km/car/0378ef5c3ee95ec3'], ['/bj/car/585b61a9a62b3b36'], ['/bj/car/8440c5e48d614d03'], ['/bj/car/b6d3fdb576d70b5e'], ['/bj/car/8ac67e05d667eff3']]\n",
      "\n",
      "https://www.renrenche.com/cn/ershouche/pr-30-35/p5/\n",
      "[['/sh/car/8ebae5488f2e8d82'], ['/bj/car/30cd6d6059918812'], ['/sh/car/b022cf5d02124d84'], ['/sq/car/49417f7183fbcfcb'], ['/sz/car/b9eda4899e7cb100'], ['/zz/car/40b6ba1dc48913f0'], ['/zz/car/662181895dac0969'], ['/zz/car/12a3ffd0a530a02b'], ['/zz/car/850d830ea3d6dcf3'], ['/cd/car/ad5d33d5b9ba7392'], ['/cd/car/eaa9a1718bddd51c'], ['/dg/car/381306c738c70273'], ['/zz/car/22e3e72324f23a93'], ['/dg/car/a7c1a9d53f39a905'], ['/xiantao/car/0a195a282a4482f1'], ['/wz/car/9d9b561ac1b0115c'], ['/zz/car/dda304248b75fd35'], ['/huizhou/car/52daa317757c07c2'], ['/xa/car/7ea4458295c476c3'], ['/fz/car/ef58932e4b847ff3'], ['/nb/car/1f2f1a4f9b277707'], ['/sz/car/e313aff83a9b3da0'], ['/cd/car/a4e87dcfefbaefc2'], ['/zz/car/e33b6ab8c62d2b15'], ['/sz/car/70ffc69ddb8bf220'], ['/nb/car/de6a753939d62c7a'], ['/cd/car/e87746b0973ab2d8'], ['/wh/car/f2eef6782ac513a7'], ['/gy/car/c942261fd9d5df8d'], ['/cd/car/7e0806d6382875ea'], ['/sh/car/e50c84f5b1971641'], ['/zhuzhou/car/6e940b6ff267746c'], ['/zz/car/85ffa165a16fab3d'], ['/cq/car/29acbee6633345de'], ['/cd/car/523bd081e7675677'], ['/sy/car/eb82b5501564bffd'], ['/sy/car/e42a74ad7cfd0cfa'], ['/km/car/ee6a842061ff1c6a'], ['/sz/car/3705f1d99f58ac42'], ['/bj/car/227c3ae06e224036']]\n",
      "\n",
      "https://www.renrenche.com/cn/ershouche/pr-30-35/p3/\n",
      "[['/bj/car/81490e8647a8534a'], ['/bj/car/789f0ae784aece52'], ['/bj/car/e9f0a7d845eecd74'], ['/suz/car/d49f5af5f1db465e'], ['/bj/car/e11bfd1de509a081'], ['/bj/car/9717072b210d752c'], ['/bj/car/93a3261da7c92737'], ['/bj/car/ee2972e73ddbec08'], ['/bj/car/10f05745a9b3ced2'], ['/bj/car/88187a2a0c0a63ab'], ['/cd/car/11c080de7c647134'], ['/bj/car/f6c4525bd6073a5f'], ['/bj/car/b01b4335b5cab711'], ['/bj/car/abf330a9e5957aee'], ['/bj/car/3ca8e9a9ac26eb9f'], ['/bj/car/ccf9681975327476'], ['/cd/car/c62574c0646640dc'], ['/sz/car/a2102dcb2bd7e641'], ['/bj/car/a85d40d82f1257dd'], ['/bj/car/fc91ddbc4298cba6'], ['/cd/car/c77c1ba5b912c015'], ['/bj/car/4cca5d3a7eaf7c17'], ['/bj/car/bc325b2f16e2b064'], ['/bj/car/0dead0dc4c38c288'], ['/bj/car/b3440bef03350a3f'], ['/bj/car/24147834f2cb5ba9'], ['/bj/car/7cf4f2b3d012eb93'], ['/bj/car/d7a0f4e315d9a7d8'], ['/sz/car/7bf2314e7b2b7e81'], ['/cd/car/0a9b2a6ef52c0026'], ['/bj/car/7a6d8dc119f33079'], ['/bj/car/528fb3dc42464455'], ['/bj/car/8e3c8d286820c959'], ['/bj/car/ad2343813b44b88a'], ['/bj/car/680d038e64ff0828'], ['/suz/car/49c16f72d028ca3d'], ['/cd/car/b15eb5ed304398d2'], ['/bj/car/45f265c34db5d535'], ['/bj/car/3da488b5c4ab5c6e'], ['/bj/car/7707487e9b25d27e']]\n",
      "\n",
      "https://www.renrenche.com/cn/ershouche/pr-30-35/p36/\n",
      "[['/gz/car/d325e9f03d3abc90'], ['/cd/car/f8de7b1695bcc5ed'], ['/sx/car/5111ae4434aca120'], ['/zz/car/b676f873538a9762'], ['/huizhou/car/2beaa0143093699f'], ['/bj/car/73187fac3697d479'], ['/gz/car/d42441379cf0d25b'], ['/sh/car/9ee2d2ee13975028'], ['/zz/car/b176c4b8a49c5fcb'], ['/gz/car/80595bdd8dbdfd70'], ['/xm/car/ed4f06dd63e9e20c'], ['/wx/car/6d3dbc476132eb0c'], ['/sh/car/ebb22ba61bfebdf0'], ['/sh/car/c103873ff801b5f8'], ['/sh/car/f9911ec0e6f7ab27'], ['/sz/car/50fa0f411ebdfd10'], ['/wz/car/5dac9052a909c4a9'], ['/hf/car/1c69a41d97db592a'], ['/rizhao/car/283816fbdc98e8d1'], ['/pds/car/bc02e70a06a3c6b1'], ['/nb/car/cc4896f6aec8cb75'], ['/lf/car/0c7edd5c5c4c57f5'], ['/bj/car/59a097bc320d1787'], ['/zz/car/9d03218e9f69fe72'], ['/wx/car/bedf30482e94e0dc'], ['/hf/car/8233ae9c03db2ce0'], ['/ja/car/57dfb78a7087259a'], ['/cd/car/e15cb632b4305385'], ['/cq/car/3e4e192338a1db7a'], ['/sh/car/7da0e5fa381f7062'], ['/sh/car/668ec47ed739fb2f'], ['/suz/car/35bb8e1f130baed2'], ['/bj/car/017d7590f3f64340'], ['/nn/car/90c8fd5a2c8d346d'], ['/km/car/ed4c9581d3ebe089'], ['/sh/car/1d512897ffe193ea'], ['/linyi/car/aee5ecc325521388'], ['/nb/car/1b715170a4e0f987'], ['/qingyang/car/1e8621a1c1ea2aa7'], ['/fushun/car/285416c547be00f7']]\n",
      "\n",
      "https://www.renrenche.com/cn/ershouche/pr-30-35/p38/\n",
      "[['/hrb/car/b7c8e8722a2d4527'], ['/cd/car/57cebd2d4aefebd1'], ['/xa/car/514583b2199d426c'], ['/zz/car/667349ac38870a27'], ['/zz/car/3d3934a24bf0b0dc'], ['/sh/car/aea0eef219977e56'], ['/suz/car/e9408d3daffd450d'], ['/xa/car/52541589e6491c01'], ['/sh/car/40e3a314315f774b'], ['/jn/car/0d7501766c27b498'], ['/sz/car/52f993a867ead929'], ['/nj/car/2c7e522d058faf85'], ['/songyuan/car/c525b1090a7567c6'], ['/km/car/d11f1068baf0cfff'], ['/cd/car/faaee01817756dc1'], ['/bj/car/7e908355a4a45d73'], ['/sh/car/b4402bec52a6fead'], ['/zh/car/6e9f15b8dcfb63ca'], ['/hf/car/d74ec026ccffe006'], ['/qd/car/0c1b27478c68499c'], ['/lf/car/6ad297f17123a8e4'], ['/gz/car/76b72ab05ab0ffcf'], ['/tj/car/d65e05b58ce63f64'], ['/cc/car/d5a2821c2404fc32'], ['/gz/car/8a31f253ebc749a8'], ['/sh/car/4e3c51b4bb560528'], ['/zz/car/a1ee4dea7a905615'], ['/bj/car/6e2e81f67a397624'], ['/bj/car/67dc601abe69ad70'], ['/lf/car/6e81d8c0a73b782e'], ['/sh/car/ad7eaff7741ab753'], ['/sy/car/3ba78e006b97ded2'], ['/sy/car/eb4f514f6c7e808b'], ['/bj/car/a910941a3f11763e'], ['/sh/car/43b3b35d3a91c310'], ['/km/car/b7ad39be903c1c40'], ['/sy/car/bb9aee902c810a4f'], ['/zz/car/2bc5d111d57df87c'], ['/bj/car/4bb2f9ddc9298c1a'], ['/lf/car/0b7c99d0d5307c18']]\n",
      "\n",
      "https://www.renrenche.com/cn/ershouche/pr-30-35/p7/\n",
      "[['/nj/car/27aa2f7ef9486fd4'], ['/cd/car/71929c23b34ca9f7'], ['/gz/car/2037dd15009c1543'], ['/zz/car/22908bd6b47e2d5c'], ['/dl/car/5ee2ef957714307b'], ['/cc/car/81a5cbd5cd182a52'], ['/wf/car/090e375c55a6d999'], ['/sy/car/3315f8ad07db111a'], ['/ny/car/d2706a4be4a26943'], ['/zh/car/1a9d715cbbfeba39'], ['/huzhou/car/74fbc9e1fffc971c'], ['/dt/car/bb42fa1a1a7bcba6'], ['/cd/car/1777a4b8ed2c288e'], ['/nj/car/924ee640755f5069'], ['/dg/car/a11959bb8ef2a105'], ['/nb/car/d291b3169f6f1231'], ['/zz/car/2b5f89d3e98538af'], ['/zz/car/586566e4968b3dec'], ['/zz/car/3ac8c5da6a995651'], ['/cq/car/9221ed9483e06725'], ['/cq/car/a40a38ecc4c9c40a'], ['/cq/car/14480810d7621aca'], ['/cq/car/aa192c99b003ae8f'], ['/cq/car/a66cfe052dc0887a'], ['/zz/car/bca9d5f9611b4d64'], ['/zz/car/0ba52948ccebd4ad'], ['/cq/car/3751cc6cfcc6151c'], ['/cq/car/72db035a75feb286'], ['/cq/car/d1998a2d2e57c2e6'], ['/cq/car/ab08de0951c9fce4'], ['/zz/car/12d6813db4c5fadd'], ['/gy/car/0944af885e8422ac'], ['/gz/car/32859062865f6e44'], ['/xa/car/a46b1b6b60ce0da7'], ['/nb/car/e9bde944932dabf6'], ['/gz/car/3684dd22ef99273f'], ['/zz/car/6e59ed0d5f74d461'], ['/cq/car/f22dd1fb5c338a7f'], ['/zz/car/0d2fe4ec6a0c40b4'], ['/cq/car/6ca77efc964662eb']]\n",
      "\n"
     ]
    },
    {
     "name": "stdout",
     "output_type": "stream",
     "text": [
      "https://www.renrenche.com/cn/ershouche/pr-30-35/p37/\n",
      "[['/km/car/92de57cc81588af8'], ['/dl/car/3f867f68f05ee4ec'], ['/gz/car/c7f6aa7d02d06a41'], ['/bj/car/b89976d03461d7f7'], ['/nb/car/9b60d3d137396ba6'], ['/zz/car/d8700edbb33d53c5'], ['/linyi/car/86789b8fb1ca4b28'], ['/bj/car/b464cc588a43531c'], ['/nj/car/08841a3ce692c3ed'], ['/gz/car/458c56b3aedce615'], ['/nb/car/5b7d84500443349f'], ['/gz/car/ceea797359f9cb3b'], ['/sy/car/dbdc1e1b8114b868'], ['/bj/car/1fcd5149d25d89d0'], ['/cc/car/7ee94f6fc4221562'], ['/nj/car/6e2a12e66086442f'], ['/sh/car/b1724294f17c8572'], ['/ganzhou/car/009aa5acb7807a0d'], ['/cc/car/1d88697755086a80'], ['/qd/car/df152fcc6200c51b'], ['/sz/car/95fccff494e9ea8c'], ['/bj/car/968d6dbcca802f75'], ['/sy/car/95daade2daa4158e'], ['/sh/car/a8813e488cb15bf0'], ['/my/car/5bf75fa487d4f437'], ['/suz/car/4b7a1f439be4f8c0'], ['/dg/car/d05a1e9652ac6e6a'], ['/bj/car/00294720698204a2'], ['/ts/car/ea4795f989157fcc'], ['/cd/car/f6c4a4ba0d2c911a'], ['/wuzhou/car/0877755cefc0413e'], ['/wh/car/de825f960e8807a6'], ['/sh/car/894ef6f1263cfcbc'], ['/cc/car/b79961dea0c0a17e'], ['/ts/car/afa091125c830ed1'], ['/tj/car/3f850b07ffe8c7a8'], ['/sh/car/0e297b74214f53ff'], ['/sy/car/5162faef38154084'], ['/ny/car/3a5ad9bdcd7ce8c6'], ['/wx/car/68db6fb13425af64']]\n",
      "\n",
      "https://www.renrenche.com/cn/ershouche/pr-30-35/p47/\n",
      "[['/sjz/car/a7760b7900940377'], ['/lf/car/8fd87b530171f361'], ['/ld/car/3e05e1ef580aea73'], ['/heze/car/bcc644fc2382f3e7'], ['/xx/car/683dda6d9afce69a'], ['/sq/car/7c714033a847dbf6'], ['/xn/car/9849e2056e0a6734'], ['/yinchuan/car/30b80137e54f642f'], ['/lf/car/d27e1c530a8979a7'], ['/bozhou/car/c392e7ea690c17fa'], ['/dg/car/160d714aa3bc833a'], ['/ny/car/42d3c33c1d98c69b'], ['/ts/car/95f7757fafb139f4'], ['/qianjiang/car/29abcd917fbee448'], ['/bengbu/car/89d317c435159c5d'], ['/dz/car/5c8be754d04a13de'], ['/qd/car/ef5a741942c96218'], ['/xx/car/634ca778aa087534'], ['/zz/car/876416cbe33abe44'], ['/wf/car/505f968f1c715948'], ['/huzhou/car/76990bcab6e3bba8'], ['/lf/car/75498d4c67e37a03'], ['/fz/car/7a64441bb966a10e'], ['/hrb/car/da74e754ff957d62'], ['/hd/car/262e2a7c857a6576'], ['/lf/car/f9cd9e7953bcc7b0'], ['/linyi/car/3f53d1f93ff49672'], ['/zh/car/d373e1de67a798a8'], ['/wz/car/0d97d1072938b383'], ['/my/car/46c8e7792a038079'], ['/linyi/car/91ef3410c837aa50'], ['/huzhou/car/416cd71459d1fa04'], ['/bj/car/e00738bfa092fde4'], ['/sjz/car/8a2ef32b69005cf5'], ['/qinzhou/car/777edda5b7b10084'], ['/zz/car/aeae4b244d266ee5'], ['/sq/car/effd47678d2be1b1'], ['/jn/car/d890d5c7682006e9'], ['/fs/car/5460f80f90b4a30a'], ['/sq/car/376bac2dc8c601ab']]\n",
      "\n",
      "https://www.renrenche.com/cn/ershouche/pr-30-35/p48/\n",
      "[['/zunyi/car/53ad51de72ea3f3e'], ['/gg/car/7977d44fa60aadc6'], ['/sq/car/409ec8991c16a9f2'], ['/zh/car/13a7a71645f69050'], ['/fz/car/a5ab0c3a69e7d958'], ['/sjz/car/4ccfecf073458651'], ['/huangshan/car/54654bcec0f4f63a'], ['/jining/car/4d2e4f9b6a42dd24'], ['/lyg/car/553804daf00b8cf9'], ['/taizhou/car/27d8144ae61f05d0'], ['/qd/car/df1ff2b8436d042d'], ['/yf/car/d85927571a6ed08a'], ['/jn/car/c56786c76de310dd'], ['/fs/car/47bdd60e08f1cad6'], ['/cq/car/fcf858468e305984'], ['/zk/car/49bd1ab0670eb8fa'], ['/ny/car/055fc0ac53b74e00'], ['/lyg/car/c271e75e8fe469e5'], ['/sq/car/389987dd0632e59e'], ['/sq/car/03c75993fae66338'], ['/pds/car/d06605799f98c883'], ['/fz/car/f794e900942f1d6a'], ['/linyi/car/d5f954ead9af268b'], ['/xiangtan/car/219cf396b9faf90a'], ['/jn/car/f510c25536929b87'], ['/yichun/car/523334d360e538b7'], ['/bt/car/ccf9383fb7cc0d61'], ['/lf/car/a86d08d92c88891b'], ['/sjz/car/c7f1bdc3e58fb70b'], ['/zh/car/63a0ec23d94fd411'], ['/cangzhou/car/bb123c843b83fc22'], ['/linyi/car/ecaddafe993cc09e'], ['/lf/car/770f46f54f738295'], ['/heze/car/d2fe3903b410199b'], ['/lf/car/919fa5708455cd43'], ['/fs/car/ac376921b08b208d'], ['/huangshan/car/3d2576e109dc4869'], ['/songyuan/car/c0e76a84bc4d642f'], ['/zhuzhou/car/7091e15d73b8cdae'], ['/sjz/car/a2f0b21b0be94b4e']]\n",
      "\n",
      "https://www.renrenche.com/cn/ershouche/pr-30-35/p23/\n",
      "[['/gz/car/d160a741c61c769b'], ['/tj/car/9bea9fdcccd87610'], ['/zs/car/1c0310d23a386ae0'], ['/wh/car/1341930ec3e90e61'], ['/wf/car/3d10993f20219255'], ['/gz/car/14c96ca43a84ab37'], ['/bj/car/060f90c8e3f57849'], ['/bj/car/a66d267e836947eb'], ['/bj/car/7ac97a2962857ed6'], ['/lf/car/49f7b78d5cc28552'], ['/cd/car/bd397f8181f91ad6'], ['/lf/car/9ef9f9390422f664'], ['/bj/car/98a59368667ae0d0'], ['/bj/car/48d4ae92c44bb96d'], ['/cd/car/f1bac1d42cacdc0b'], ['/bj/car/75539c8ff06e7f0e'], ['/gz/car/d3e151c2bee0117f'], ['/km/car/6fd0f71d9c587ed3'], ['/wh/car/399749829487ed1c'], ['/gy/car/0c1217713a04a54d'], ['/lyg/car/d57df8e49b5c9bb2'], ['/xx/car/cedd1ac1abb518fc'], ['/hf/car/279a7185a3a5ce2d'], ['/km/car/5b0af442ac7aca93'], ['/nj/car/e8fd8cd532cdcf85'], ['/ja/car/e092cf1eff132e76'], ['/hf/car/f38cd8c71058e27f'], ['/zz/car/12f499c8664bd11e'], ['/zz/car/cd39ea05697cad46'], ['/hf/car/a0d8414f28614f5b'], ['/huzhou/car/a1099980f8ff4516'], ['/nb/car/08a40855e36c099c'], ['/xc/car/6ff541a0697e59aa'], ['/lf/car/a29ae39c75de5f1f'], ['/ld/car/2e5c7f8a57809a45'], ['/xm/car/6830b64100cb3244'], ['/tj/car/53c97a63f9dfa07d'], ['/sz/car/f11dcc0193634100'], ['/zz/car/2411365d28833d98'], ['/dl/car/18337e4db042c946']]\n",
      "\n",
      "https://www.renrenche.com/cn/ershouche/pr-30-35/p1/\n",
      "[['/huizhou/car/7d740818099c133b'], ['/qd/car/cf1d6824d25e2fae'], ['/suz/car/ce483cc5b4904ef6'], ['/zz/car/b01ed8b267b0e263'], ['/gz/car/cac41ed8a369224c'], ['/qd/car/e45f25d5b06d8b81'], ['/bj/car/a2fa53713ba74900'], ['/bj/car/e1516d56e50359c9'], ['/bj/car/769ad867d9c9e81d'], ['/fs/car/1b9879f8ae232a37'], ['/bj/car/96467f2d713afcbe'], ['/bj/car/5f075716aff3d22a'], ['/dg/car/40a0b09556d6acc9'], ['/zz/car/2915b5da93d4cc53'], ['/zz/car/5dedbc5925ea1920'], ['/cd/car/8d086e051bc3f200'], ['/dg/car/00d13c92f09e1f34'], ['/bj/car/097e704afc00307a'], ['/sz/car/f4430b4b10f7e0ac'], ['/huizhou/car/ecba0a4a1ceb80a1'], ['/bj/car/c539a6bf98ee61a2'], ['/gy/car/6115e7391c4a158b'], ['/bj/car/87586c41c8d48050'], ['/bj/car/41934be21090eefe'], ['/bj/car/dd603e491eded64f'], ['/sy/car/e9cfa24352031e27'], ['/zz/car/b6e995b2b7ffd527'], ['/bj/car/f4a364a78e808890'], ['/bj/car/fd2617c0149cf6df'], ['/bj/car/b81c55f187256050'], ['/bj/car/043f8679e10cac77'], ['/gz/car/e745fee9a6f21123'], ['/cn/sales?fromSource=pc-carlist-banner'], ['/bj/car/3fe36a0089de2e6b'], ['/bj/car/bf8249f920e0ce12'], ['/cd/car/e20d5dfb68df88c4'], ['/bj/car/7e3a7f595ddff232'], ['/bj/car/81f573e2e8c78e94'], ['/huizhou/car/2294136e5a806e91'], ['/hf/car/67a2fb47fe51226d']]\n",
      "\n",
      "https://www.renrenche.com/cn/ershouche/pr-30-35/p11/\n",
      "[['/sz/car/720d9abe2765130e'], ['/sy/car/00127709e2cd2c93'], ['/gz/car/60f78f0406e2144e'], ['/cd/car/d4b42efbf55a56bf'], ['/xc/car/2aa81a00c25b8efe'], ['/suz/car/2ca83a743102c06b'], ['/sz/car/99e00bbde0c64525'], ['/km/car/28e2db301283ea18'], ['/tj/car/0e7f6898fe70409a'], ['/wh/car/f6b6b0c6868c1ad7'], ['/gz/car/be84d26b53aba9df'], ['/sz/car/7e305807434a54c0'], ['/bj/car/9e268c8284755aa3'], ['/gz/car/5258de9aa55d2bea'], ['/nb/car/4f3252dc7b68d999'], ['/hf/car/6c995e6427a6d53e'], ['/gz/car/21e2027f864272fa'], ['/sy/car/1522fac5254c9241'], ['/cq/car/777ef581ac869c38'], ['/bj/car/05cb8a77b3dc3ef3'], ['/nj/car/40141ba3699a8cce'], ['/bj/car/7629d1f10a1fcf98'], ['/sjz/car/28f47acf3a7d07a0'], ['/hf/car/7a890d38f411ff24'], ['/nj/car/559f9491b57eb1b6'], ['/hb/car/31f5a2ad4eee13a4'], ['/zz/car/567fb87cb43a3e86'], ['/cd/car/e76fb89f4c05077f'], ['/cd/car/67591424dd2ddb9d'], ['/gy/car/a316ebb0c26945dd'], ['/hrb/car/84cba8766c664dd7'], ['/sz/car/0b47b80924de16fc'], ['/lz/car/ed014fd0405488fc'], ['/huizhou/car/35d2f571578ea05b'], ['/huizhou/car/b238daadc7be4de8'], ['/nb/car/8679c82600d69193'], ['/sy/car/234360f37b710463'], ['/bj/car/fe6d86ad45bd80b0'], ['/linyi/car/354e0183ff8b6d8d'], ['/fs/car/f52915a67fb4deac']]\n",
      "\n",
      "https://www.renrenche.com/cn/ershouche/pr-30-35/p28/\n",
      "[['/cd/car/0c6644c45e32fe4c'], ['/gz/car/0bb8a636c61604f9'], ['/gz/car/ea828602cf9b2f9e'], ['/zz/car/5a59254b0477a7ee'], ['/hz/car/5680fce4ffd2a65f'], ['/zz/car/8208d8bb9b8a69d2'], ['/wh/car/7c991d6464dfa95b'], ['/hf/car/211761d2a12c1512'], ['/gz/car/948d9f0fac1d9099'], ['/dg/car/dd55fd0f13c43f28'], ['/gz/car/8b338f1a03ce3b63'], ['/dg/car/263980fff2973ac0'], ['/gz/car/e326941342820129'], ['/gz/car/0ad4cd121314b0f3'], ['/gz/car/01191c54d215d8bd'], ['/dl/car/acfea823840f3978'], ['/sz/car/49ff437656f88608'], ['/zz/car/5265cd0daaa68d76'], ['/cd/car/1ec74105a0458b2b'], ['/linyi/car/4cb01bf6eec08d4a'], ['/wh/car/bd74dce14060bda0'], ['/bj/car/037760a3ab503985'], ['/cd/car/d6ff7c6b439bbe11'], ['/gz/car/c456b562983b9323'], ['/tr/car/4d89bf3534aaec8e'], ['/lf/car/af1594e3e288df3b'], ['/zz/car/62d42522902d15e3'], ['/zz/car/268e1b1c8d38cefb'], ['/nb/car/7033395b1bb57a4c'], ['/hrb/car/c22fb6bbc557bd2f'], ['/gg/car/11ba8e84b5d4c47b'], ['/hf/car/52a3ce4075e4ea03'], ['/tj/car/7ed87679959e93d8'], ['/qd/car/50f6eddfc8c46560'], ['/bj/car/76f6873836bd3e23'], ['/bj/car/0c8d764e5689f092'], ['/xa/car/f6dea9228b52a205'], ['/dl/car/d2f7eb51f6404c8a'], ['/sz/car/7dd4262cdbd3be9c'], ['/dl/car/112dfde73aa13dce']]\n",
      "\n"
     ]
    },
    {
     "name": "stdout",
     "output_type": "stream",
     "text": [
      "https://www.renrenche.com/cn/ershouche/pr-30-35/p49/\n",
      "[['/jiyuan/car/3ded96fc57813125'], ['/fz/car/d8bd6920f80cdd5f'], ['/wz/car/eb0824fc4202a387'], ['/cq/car/00cf9470e9f8e58b'], ['/zg/car/86b3480e8df72b04'], ['/sq/car/5a0dd2778c957005'], ['/yt/car/8a3db90ed52944e9'], ['/wz/car/b2cc07821baf92d2'], ['/cq/car/10628ae63559da39'], ['/gy/car/1da776adcce55f37'], ['/hrb/car/97bc3f589f007cb0'], ['/sq/car/7b1da3482fd65750'], ['/zz/car/b88aff273071426a'], ['/ganzhou/car/09f2dd1fb87d5601'], ['/ty/car/5d44b6aa20046e2a'], ['/heze/car/57355c7ae2ca7346'], ['/cangzhou/car/344ad5421eb16286'], ['/cq/car/72d732dadbf980dd'], ['/wulu/car/a963b15ff2d6c372'], ['/xn/car/74ec50e2306b9425'], ['/yj/car/519c70d236b30c08'], ['/yk/car/a68f6cd80369643b'], ['/lc/car/00d246f2ba7c2ecf'], ['/yz/car/2d24dfddc13b3a5e'], ['/bd/car/7a7bd314fbb10f51'], ['/ls/car/a6540ccdd8aba1b4'], ['/cq/car/3eb91924e3c80b4a'], ['/xy/car/8734f357e0bec89f'], ['/jingzhou/car/199aff434e74b3e6'], ['/ganzhou/car/e6f76c60e0b92ac2'], ['/lc/car/1a5473854af075f4'], ['/ganzhou/car/26b3e791776cf0f2'], ['/lf/car/c6c71ee70bc093e5'], ['/fz/car/a79de5790e6b2d16'], ['/lf/car/37d0858dac4ac6f3'], ['/pds/car/3b35da237a771170'], ['/lf/car/acd3e94d99328d17'], ['/zg/car/f42e01f4ea2d1945'], ['/lf/car/02120388fe76233a'], ['/pt/car/363cee65b992c243']]\n",
      "\n",
      "https://www.renrenche.com/cn/ershouche/pr-30-35/p12/\n",
      "[['/qd/car/6a6446f9773d7679'], ['/xa/car/2162d9039c5d768b'], ['/nj/car/74d7df7dfe0ab807'], ['/dg/car/dbdcdf901cf5dc21'], ['/gz/car/c13847f47be59783'], ['/sy/car/d86350cd2f861d68'], ['/bj/car/c37b1af2c524711c'], ['/sy/car/55cc8b3400e7a74f'], ['/cd/car/183e5a4aa88546ed'], ['/gz/car/39db28e61e2b9521'], ['/hrb/car/908519e5feac68e7'], ['/nb/car/f7ae5af17223907b'], ['/dg/car/f32c4603e6417367'], ['/xa/car/7fd86042182ceaaf'], ['/gz/car/66a3b90480736467'], ['/fs/car/b64c561ecee6b3bd'], ['/bj/car/178b97ae86c0f9b1'], ['/hf/car/945175d78020d1d9'], ['/cd/car/5370c34b6e689fd5'], ['/wz/car/5335894955ba07d2'], ['/dg/car/362484449fd18c28'], ['/zz/car/048f94ddb7d76a79'], ['/gz/car/6f36a305eebf69cb'], ['/gz/car/fa31ab046890665f'], ['/sy/car/5b7a5dbfbf3dd664'], ['/bj/car/a61b24cc312c6877'], ['/sy/car/a19644d4240406c9'], ['/cd/car/d972f93e2d825524'], ['/bj/car/113176b34bc80a2d'], ['/tongling/car/7986162e873afbb8'], ['/changde/car/a00a6e07a19717c1'], ['/cd/car/33f8769b6dc8468b'], ['/gz/car/6556a9f7b3f1f6c0'], ['/sy/car/40577874aa423ffb'], ['/wh/car/874296de2bb941ea'], ['/hrb/car/9ea620017a648149'], ['/dl/car/27cf652631611cb7'], ['/gz/car/cfb1e369e86f03b1'], ['/hf/car/8693969a0365ec37'], ['/qd/car/51c536902bbde634']]\n",
      "\n",
      "https://www.renrenche.com/cn/ershouche/pr-30-35/p20/\n",
      "[['/wx/car/da7ae945bfe07298'], ['/dl/car/13924d126b9e840c'], ['/zz/car/83b7cb448dafe0f7'], ['/lps/car/0cb7473047b0bc13'], ['/cq/car/cc1bcd5574c59e2e'], ['/hf/car/12c3b9fd41dcd1a3'], ['/bj/car/d8d48a20ab9ff453'], ['/sz/car/48f876003330254c'], ['/huzhou/car/b96b40804caedd67'], ['/cs/car/13b91e2b619db7fb'], ['/gz/car/305b11a600715ecf'], ['/sz/car/d79fa70f1dee8a72'], ['/nn/car/485c59d1bea8f945'], ['/gz/car/45b6bcc1e00b389a'], ['/gz/car/a432b7cd1e63f214'], ['/fs/car/8c6f7d23bbe77380'], ['/sy/car/3441b5ea9f92c283'], ['/hf/car/42f8186988e44156'], ['/gz/car/936ac51b7c4d5102'], ['/bj/car/0862fdc187ec0eaa'], ['/nn/car/e741d4c9d63c78a8'], ['/cd/car/92e9062d21de939c'], ['/bj/car/44db5b9a544080a9'], ['/zz/car/0ebfa66f51f0ed09'], ['/gz/car/f6ca74c9a767f8cf'], ['/sy/car/a82872035c9c3cd3'], ['/nj/car/e00d497e68d76080'], ['/bj/car/e400f5a99728954c'], ['/nj/car/97a9209b4d09b09f'], ['/xc/car/930afa9997dc644e'], ['/jm/car/73fbff9442ad281a'], ['/cd/car/2a8eead8eba57490'], ['/hf/car/ed696a36f20e79bb'], ['/gz/car/5492cf28246d8e8d'], ['/cd/car/76a6003896ebb77f'], ['/sh/car/a0aa11048dd78921'], ['/sy/car/3a9a44eb50662486'], ['/ld/car/14d59cc0fc3e7621'], ['/gz/car/21b2a9a2672c7f19'], ['/tj/car/828b4ddb8984915c']]\n",
      "\n",
      "https://www.renrenche.com/cn/ershouche/pr-30-35/p46/\n",
      "[['/zh/car/4a06a6ea10d84949'], ['/dg/car/edd924a0751f2713'], ['/qd/car/cf73bd51f2eec840'], ['/jl/car/34e7ccff977314be'], ['/cd/car/68a1191a7a031a9e'], ['/lf/car/bd23a3f535a5d3a8'], ['/lf/car/df0c4a866451db6f'], ['/lc/car/956c050d4614e561'], ['/ts/car/fb0f02526cff1996'], ['/ms/car/4e2eb55dfa38961d'], ['/linyi/car/0357bdb58a869b79'], ['/huangshan/car/c7cb4d525400971e'], ['/hn/car/cf819e386691c1dc'], ['/songyuan/car/3ec355b03389db52'], ['/wulu/car/4a61f24755100a81'], ['/zunyi/car/6b8086ba1f3255c3'], ['/bh/car/4ff02e3bf5207abb'], ['/sq/car/1347335a28bea804'], ['/cq/car/18874ef28c9637aa'], ['/hh/car/7cc871f625b304cb'], ['/yj/car/fea9aeb87f830ee7'], ['/zq/car/831d6d212f3685ff'], ['/lc/car/9338a7c239db79a4'], ['/huangshan/car/775bd798059f4888'], ['/dg/car/989f145334fba83c'], ['/ld/car/fa477cb0591ba26e'], ['/lf/car/0084f60d116d8836'], ['/lz/car/f27f7fcebf131fcd'], ['/hu/car/b0dab86c2a2f46d9'], ['/dg/car/28e1bd6bfe24aa2b'], ['/deyang/car/96a4017f62095d69'], ['/yulin/car/f3f7bcbfe44c0aff'], ['/linyi/car/bc82d9b9696160cc'], ['/kaifeng/car/b7a5441356fdd2f1'], ['/ny/car/73b29e1241f43a8a'], ['/sz/car/e92268b534be4494'], ['/qd/car/e5edd354c5b41b2f'], ['/zz/car/03cfa3b911fa4928'], ['/lf/car/b4da8f0f65aa05af'], ['/zunyi/car/4ffcecc1c0da7204']]\n",
      "\n",
      "https://www.renrenche.com/cn/ershouche/pr-30-35/p21/\n",
      "[['/sz/car/a27abe0c2d3ff21e'], ['/ja/car/e898beca8e7e4ff1'], ['/cq/car/5b0ece826cdd4db4'], ['/bj/car/172e8265e936ca67'], ['/nj/car/1da5e198776714da'], ['/sy/car/2953464f0b671f88'], ['/wf/car/9fab2c647a7e20b0'], ['/gz/car/41c9039d9be913ed'], ['/wf/car/a4a6e962d3d80ea5'], ['/cd/car/fe1dfbee4a147a1b'], ['/bj/car/b7a65ae73b26ab91'], ['/sz/car/6bd7f7c79edbb582'], ['/ha/car/49c40a08cc7beff9'], ['/wulu/car/2f5171639095c59a'], ['/sz/car/57970a46cc4325c4'], ['/wh/car/bf6192a3e76192b4'], ['/zz/car/c93d92f3f9e7237c'], ['/qd/car/c5d2838ec9c02247'], ['/gz/car/9a3584dfa26f7252'], ['/sy/car/4319da016d94d3a9'], ['/cd/car/93eb8e0898de5497'], ['/km/car/2506a45dbc8866db'], ['/zz/car/9a4116e179d17c2b'], ['/zz/car/6c335b6ca6ef4e52'], ['/tj/car/bac46eea7f1c4f73'], ['/bj/car/f6b27eaaad272e71'], ['/bj/car/1ed680501412fd80'], ['/gz/car/1ebfb65e581a6cea'], ['/hf/car/21249299bdb905d7'], ['/wh/car/4ec67d37c13fd5ac'], ['/sy/car/ac2caf753e27bac8'], ['/zz/car/e2f7ad693d7a0e05'], ['/cd/car/b3eac43743e6f93d'], ['/nj/car/76153f4d51abd688'], ['/nb/car/f15aad3144e68334'], ['/nj/car/455593b11888f191'], ['/hf/car/54e209b1cfa76f13'], ['/sz/car/9839ceb6ff179599'], ['/wh/car/2d960859a4d8390c'], ['/xm/car/afdcd70a94676821']]\n",
      "\n",
      "https://www.renrenche.com/cn/ershouche/pr-30-35/p4/\n",
      "[['/bj/car/61baba96344cdf0c'], ['/bj/car/2a14d4e366179aca'], ['/cd/car/3d3fd2eade3e1143'], ['/cd/car/10944c9309c2f144'], ['/bj/car/b71a0949f776df40'], ['/tj/car/83c88d9f7f4e502d'], ['/sz/car/4ebbf7aa6d82b1f4'], ['/bj/car/2d55072ceeba0ffa'], ['/sy/car/174ebfa8d9772ab9'], ['/cangzhou/car/fbee2a2b00d833f8'], ['/liuzhou/car/c435dfcc77eb015d'], ['/zz/car/8436aee0305b8146'], ['/bj/car/3f06cba3cfe25c9b'], ['/nb/car/ca9040c8a430880e'], ['/chuzhou/car/d9f940eb5004451d'], ['/dg/car/92b767035f7bbec9'], ['/sy/car/ee682db23a583325'], ['/zz/car/c90e1ca3db705ae8'], ['/km/car/d05a1f91805b4252'], ['/cd/car/10f1a2eaf1d6b599'], ['/zz/car/f45851f52d9381c5'], ['/zz/car/73da205b5eb89ede'], ['/bj/car/78f68ad595a0e04d'], ['/cq/car/bd88425f2bf555bf'], ['/suz/car/03eea09d634a8365'], ['/zz/car/62842bd7009db9af'], ['/zz/car/4be82e8c51d42e9d'], ['/bj/car/963dcbb897ba823d'], ['/zz/car/4fe4ac9254d5f3ba'], ['/zz/car/07972781f4e8dd1b'], ['/cd/car/83ced595ec96d8e4'], ['/cd/car/256b34f73bb1547e'], ['/cd/car/8ba69675d5c177b1'], ['/liuzhou/car/dbb8d82e46ec4fff'], ['/wh/car/703d0d871c4101c7'], ['/hrb/car/864251d7e35645f2'], ['/bj/car/2a1e0b1d81ad17d1'], ['/ts/car/f8cca624315d8648'], ['/bj/car/209cccbdd94e1175'], ['/zz/car/68d55fc0677f2898']]\n",
      "\n",
      "https://www.renrenche.com/cn/ershouche/pr-30-35/p6/\n",
      "[['/zz/car/a161cdd7e4aba7c6'], ['/bj/car/78cffab5c3374f05'], ['/nj/car/1c971e5b1b54f97f'], ['/zz/car/27eb48335a1d0f3f'], ['/linyi/car/34e015cf516bfbea'], ['/sz/car/914d5b139edeb3de'], ['/bj/car/653a82f13441e2b0'], ['/gz/car/8f9f74e70050fc9b'], ['/cd/car/9b053ecd8fb6c55e'], ['/sz/car/ba151f9d7cafa2ea'], ['/km/car/6f8e94146f6a8156'], ['/lf/car/c1f02f3f8754fc87'], ['/cd/car/3b407179c3668548'], ['/gz/car/98da43117511a249'], ['/suz/car/8bae9612f1930383'], ['/hf/car/d0844e4f3778f86a'], ['/sz/car/a68e56e33172f00f'], ['/huzhou/car/c57919a314516b55'], ['/wh/car/8759d13162da3d8e'], ['/xa/car/2a25496cacc3edea'], ['/wh/car/b6905b813b9fb6fd'], ['/hz/car/e1ae0458abf73306'], ['/km/car/3fbc6cf89768769f'], ['/bj/car/9fe938a8539c1f09'], ['/cd/car/100a91d369026c2f'], ['/sz/car/d40c57fd1861132c'], ['/gz/car/62b6691c5ac144ec'], ['/cd/car/991b5205e3b70183'], ['/cd/car/d03881542fbd66d5'], ['/qd/car/8d594e7ce7ca03e6'], ['/bj/car/75cd53dedc75366c'], ['/sy/car/6b760e9c5a6c1ca1'], ['/linyi/car/f7d239fa60dbd33b'], ['/cc/car/56444d9e600fce45'], ['/km/car/82cebb4251783c34'], ['/gz/car/b87d6964ec402e62'], ['/qd/car/178f64f1b10cd3e3'], ['/dt/car/e95f1ae2a8b94a6a'], ['/bj/car/10c0535b6170ea62'], ['/wz/car/ea91b1b7de530aee']]\n",
      "\n"
     ]
    },
    {
     "name": "stdout",
     "output_type": "stream",
     "text": [
      "https://www.renrenche.com/cn/ershouche/pr-30-35/p8/\n",
      "[['/cq/car/622e398b5a639ce2'], ['/cq/car/e8dd7041caf2fb67'], ['/cq/car/9c44158cfc2b75d4'], ['/cq/car/fe3068df49f778cb'], ['/cq/car/3f82444862e49ca8'], ['/cq/car/cd33aebfe1637fbf'], ['/cq/car/3ab09c2a41c196ea'], ['/cq/car/54f0ea32c84630ef'], ['/cq/car/e12bab5803b8df7b'], ['/zz/car/671c492bc3f40011'], ['/zz/car/f39d3348d712ea93'], ['/zz/car/a1c3d4af84f7f885'], ['/zz/car/16bb0224c2b3f901'], ['/zz/car/abd573de861bf8f0'], ['/zz/car/d35b14cf2f5a68c3'], ['/zz/car/501e05018002e8b0'], ['/cd/car/9f1ff066943669f7'], ['/cd/car/d4c01b7d5113a1a3'], ['/zz/car/8f426bbe628f3d22'], ['/zz/car/a3783ced465aa757'], ['/zz/car/ac939a38679f53ef'], ['/cd/car/f948ad12992bbe17'], ['/cd/car/4e944423c3056935'], ['/cd/car/2ce89ad3bebab9ac'], ['/zz/car/a586399ffe9c4f26'], ['/zz/car/19454b2f92fd9c4e'], ['/cd/car/cc0ba811ce0c7a3f'], ['/dg/car/da06107b79c878f0'], ['/dg/car/2751901a0247ed55'], ['/cq/car/4385dd342bff5e9f'], ['/cq/car/bfa7d974412b3149'], ['/cq/car/436460850314327c'], ['/cq/car/699f862011275760'], ['/cq/car/d6778863600c651f'], ['/zz/car/b9735389d3c2cf7e'], ['/dg/car/be30e4453ae9a7fa'], ['/zz/car/4c507e1aaf427108'], ['/dg/car/eec0e82a5fb079ac'], ['/dg/car/f634a830d3aea5b7'], ['/cd/car/aa3fcf5fc11e1591']]\n",
      "\n",
      "https://www.renrenche.com/cn/ershouche/pr-30-35/p30/\n",
      "[['/sz/car/53432b9f2cb54e04'], ['/tj/car/7ca5190fbd87f344'], ['/sjz/car/818bfe25c5c63242'], ['/wz/car/44d5c1a7c3c8eb21'], ['/fs/car/637813d84a688cbb'], ['/bj/car/fda51d6744dea2da'], ['/bj/car/f259a3fdd133d641'], ['/zz/car/4b7a4fe8dc8dae51'], ['/bj/car/ed062e65b8d18804'], ['/suz/car/9d373b0bb6079e99'], ['/nn/car/16abfa0a7967f47a'], ['/nb/car/7ea12fbc8f5de1e2'], ['/linyi/car/3d96b4523590b4a4'], ['/qd/car/e6e3670881b5ff2e'], ['/hd/car/a2ba224e3df2ac51'], ['/bj/car/76d64064fd4608a4'], ['/gz/car/bcf5516bca4071dc'], ['/zz/car/87c18a225c3eacd1'], ['/cd/car/8b6a0ab42847e5f1'], ['/km/car/464ce4b299d84572'], ['/zhuzhou/car/a5fb83ac0bf69308'], ['/suz/car/8f0c3331a19f9ba3'], ['/linyi/car/f5c092862fc2a600'], ['/xn/car/c4ba9c355d432ae1'], ['/xa/car/2f2d3c574450ce18'], ['/cd/car/64266d47145b0e84'], ['/nj/car/b34a0741670bf13c'], ['/wz/car/21e851d54a7b534e'], ['/nb/car/78c0386f91b47bc6'], ['/sh/car/ab6382f073eb1f2a'], ['/cd/car/b1ee640f571755f6'], ['/nj/car/42b9a6348fccfcad'], ['/bj/car/bae4f29a6dcf9651'], ['/nb/car/caa79d2fe493c0e4'], ['/wz/car/b618a124b3056c47'], ['/bj/car/a6b0267aa582d405'], ['/bj/car/d220ef690808708f'], ['/qd/car/1667fb3375ae8c7e'], ['/huaibei/car/49fdaa6ba9ce564b'], ['/gz/car/ba47bbc3b522b844']]\n",
      "\n",
      "https://www.renrenche.com/cn/ershouche/pr-30-35/p22/\n",
      "[['/bj/car/3333f6147503869d'], ['/hf/car/f1e35c04daeb765a'], ['/nb/car/8aadc29d492b99a6'], ['/chengde/car/e6483c1dbfc310ef'], ['/zs/car/1d3a32ee0f4693f6'], ['/qd/car/d80de6460096aae2'], ['/sx/car/d4b4b8d21e16e340'], ['/gz/car/52d2b4bb673e25de'], ['/tj/car/ca953b0d0a9ecaa0'], ['/nj/car/cf6d132d9f19bea0'], ['/bj/car/5b4604044705ea9a'], ['/sy/car/02419d70fbf84219'], ['/cc/car/65639871a33de90c'], ['/dl/car/c3e8302871a6b763'], ['/bj/car/27ba4af0da40a1f4'], ['/sz/car/965a03f512bc446b'], ['/wh/car/e72bbe1b32a30526'], ['/dg/car/026f941fee6be8b6'], ['/bj/car/9b79cec769e136e9'], ['/huizhou/car/8cef9cde06e435e3'], ['/gz/car/ae4177f2588a9662'], ['/qd/car/b7a0e4a202ea2cc8'], ['/km/car/5c056289af582b52'], ['/zz/car/22fa1eef7298af6e'], ['/bj/car/5b1c09e2d755f65f'], ['/xa/car/c7b58635785dee76'], ['/bj/car/75a9c7c0fba5dbdf'], ['/bj/car/0d44d3ab32cd0eea'], ['/zh/car/f96e938cc044467a'], ['/nb/car/b5d15b6b861709d9'], ['/sz/car/f798be5bd559d657'], ['/cd/car/0623d7a07ffcff94'], ['/bj/car/02bb2900826cf99b'], ['/linyi/car/e0869c881bc0d6f1'], ['/bj/car/70118bbd4bfa4bdc'], ['/sz/car/131b35569aae069e'], ['/km/car/4642e54412ad5789'], ['/zjk/car/ab4f6ca64791edaf'], ['/zz/car/f4ee1fe624fbbd45'], ['/bj/car/2e403f5953177d0c']]\n",
      "\n",
      "https://www.renrenche.com/cn/ershouche/pr-30-35/p45/\n",
      "[['/zj/car/e1df3f1de3263d45'], ['/cq/car/398ec2f1bd0e925f'], ['/xm/car/3972351d6b5cc0eb'], ['/gg/car/b16f04d4d6979224'], ['/ny/car/b943925170ecbdf7'], ['/hz/car/213fb1c7855e3d8c'], ['/wz/car/68ea91cd2e70e21d'], ['/wf/car/b64406e3ed251d68'], ['/qd/car/1983f8c696052332'], ['/zs/car/cee8d7925aa2ac1e'], ['/yuncheng/car/e670eb2e65640dc6'], ['/wz/car/546d8622c797a540'], ['/hz/car/972529760ce9072e'], ['/cq/car/ae7e24fb093ee4f5'], ['/xc/car/9e6cbbe5bc32baec'], ['/wh/car/e3e932507dff7bf5'], ['/hrb/car/bd44f70741677977'], ['/songyuan/car/5fd13039a6211d7e'], ['/wh/car/0be3f15816518133'], ['/xm/car/7dadf73c0a8ef9da'], ['/ny/car/4a4ece8819b767cc'], ['/ks/car/adb037f729f9bc60'], ['/xm/car/13bd626910273acf'], ['/ts/car/fa462f29b9dd717d'], ['/ha/car/d3e17049adc0b92a'], ['/ts/car/5a8bbf1a7bbd4a86'], ['/zz/car/2cdea28f7d7a2e36'], ['/cq/car/86c7ff6579df9d49'], ['/lf/car/e6a3b8a416e9cf3e'], ['/lf/car/d61958955ebc2825'], ['/dl/car/cc56db73d0e44887'], ['/qd/car/cefd6034c0d771b8'], ['/ts/car/1765136a47c99326'], ['/wz/car/73dd6c15bf48fe2c'], ['/lyg/car/7ef5f663927f9c7f'], ['/zs/car/12676302706284f3'], ['/wh/car/6795a708bd25efda'], ['/songyuan/car/e76eb2815ee6090d'], ['/nanchong/car/2dd7220dfe4141b9'], ['/ganzhou/car/d5fb2e46d85b71a5']]\n",
      "\n",
      "https://www.renrenche.com/cn/ershouche/pr-30-35/p18/\n",
      "[['/sy/car/76aeffdf991e5439'], ['/wf/car/1aa655b7f2dbaa75'], ['/cd/car/20bcfd7d404fe854'], ['/wuzhou/car/239b3241d2171a07'], ['/gz/car/c0a1688a2125b0a8'], ['/bj/car/d12e9481fce7b73c'], ['/wf/car/d85b08af427ebbce'], ['/wh/car/14610fe0cbb89725'], ['/wh/car/7da00a4b185e5cfb'], ['/cq/car/63bc41f1690e5734'], ['/dg/car/b9e7035d9c23f979'], ['/wh/car/9158adba9c86f529'], ['/sy/car/d5cce74979a02de2'], ['/lf/car/ba36f72db1f7f22e'], ['/cd/car/eb12fb6b34d08d6d'], ['/tj/car/5cadd32ad4f50fa2'], ['/bj/car/a3b80eedc64cd86d'], ['/gz/car/fbc67437c9187384'], ['/cd/car/99a1cf5c8e99b336'], ['/nj/car/206deb0353a9c540'], ['/nn/car/e6c63d4ae165672c'], ['/dg/car/4af60625200accc4'], ['/linyi/car/3447a52a780a2eab'], ['/sy/car/b2157a5252266f70'], ['/dl/car/a0dcd4e50f904ee3'], ['/wz/car/53f3ef2ccbd016a6'], ['/xa/car/cfff55e553258acb'], ['/lf/car/89b674d2d58cadc3'], ['/cd/car/02fb0fa13b15cfe6'], ['/bj/car/8c62e7c162fc025a'], ['/cd/car/88f0f40f4ffcb9a6'], ['/sy/car/801b07f317b7175c'], ['/nb/car/8faa23af6a6355db'], ['/zs/car/4223cb9ac5b8add9'], ['/fs/car/833a0c6548b5fcb7'], ['/linyi/car/da75d54164135ae7'], ['/gz/car/778354ae7f80215e'], ['/bj/car/f3a2b9ca8520cc79'], ['/wh/car/395156d9877c4478'], ['/nj/car/7578ab61c889c8f7']]\n",
      "\n",
      "https://www.renrenche.com/cn/ershouche/pr-30-35/p44/\n",
      "[['/ts/car/5f8289286bbc37a9'], ['/fz/car/4af0c197d7af9b6a'], ['/cq/car/62aecc733c2abace'], ['/dz/car/f959e0c71e5f0605'], ['/dg/car/2f6024bde7234afd'], ['/jining/car/3d1df6c1423b5c06'], ['/cq/car/21f247254a87b06c'], ['/dg/car/7e43c2c5938fa9da'], ['/dg/car/0efcaafe5a65e067'], ['/cq/car/a85e4446f0ab544a'], ['/zz/car/994d53565dddf381'], ['/xiangtan/car/43db57417c3c3410'], ['/zj/car/e7558ecef442ea75'], ['/cq/car/1b2f5364255836fe'], ['/dg/car/b2c830e7beb0698c'], ['/lf/car/0a8d796468ecadda'], ['/zunyi/car/29407b719fa6ade6'], ['/huzhou/car/ce72e00667494390'], ['/fz/car/d42d7f40c53e8092'], ['/bengbu/car/50c0a978ce7517ca'], ['/zh/car/07397f45c7d42cb6'], ['/dl/car/7c7a12772287975c'], ['/bengbu/car/9f6141db35210420'], ['/cq/car/59105a998476d27c'], ['/zz/car/6aedfe1adb528f0f'], ['/dg/car/aaa4c422ce63c7d6'], ['/hz/car/84c54d39ba692ae0'], ['/dg/car/2f7a9ec129bd0e23'], ['/xm/car/9f95bbb583ed70dc'], ['/cq/car/1563e228ed9cb495'], ['/wuhu/car/47d6fdf8af6b521c'], ['/zz/car/54ee9f7e975b903f'], ['/dg/car/92d7b79a9331e743'], ['/ganzhou/car/b331500e42aff4e7'], ['/nanchong/car/6f76a69255881c41'], ['/wh/car/8f9e1c6c8ca22df6'], ['/qd/car/4ee36bbf1ba477e0'], ['/bd/car/e0e6b212a7f14545'], ['/dl/car/d13781f085b50dd9'], ['/zz/car/40a9a7696cd98baf']]\n",
      "\n",
      "https://www.renrenche.com/cn/ershouche/pr-30-35/p17/\n",
      "[['/sy/car/1778e52c61898013'], ['/sy/car/82cdc489a9647fb1'], ['/bj/car/c4be6461bea28223'], ['/qd/car/e24fc88c782254f8'], ['/nn/car/5c768c0154f07d25'], ['/hf/car/882becb623143fc1'], ['/xa/car/2e24d517aa715ee7'], ['/xt/car/e9846cf888152d5b'], ['/ks/car/747ad5b061c4e823'], ['/cd/car/98061ed371cc3c33'], ['/linyi/car/7c23274b7978de19'], ['/fz/car/7088139943be260a'], ['/wh/car/05ab75983f41ed52'], ['/linyi/car/16ba519438de992c'], ['/gz/car/8bc92800f26b1c21'], ['/nj/car/d94cd8cbc7f3a89b'], ['/sjz/car/4412ff09be4c0c8f'], ['/dl/car/5b8a5925afb07194'], ['/sy/car/937fc81402f7032c'], ['/cd/car/b082fec047426df7'], ['/cd/car/32a702f34bbd93c0'], ['/sy/car/9987fdad0f305b0a'], ['/gy/car/b3b4b958de86434a'], ['/cd/car/9fe456a10cdd4f66'], ['/linyi/car/aed7307128d5416e'], ['/cd/car/05649c6682090773'], ['/wh/car/211d53ccf749c68c'], ['/sy/car/ed9e9044eabbf1dd'], ['/bj/car/21f4a8ceff8eb030'], ['/nj/car/5e7f0c56a88629cf'], ['/sy/car/937853381b9b8db3'], ['/gz/car/9fe319110e60f362'], ['/wz/car/6dba9a0655421cfa'], ['/lf/car/5e690a115f0dfe0c'], ['/hf/car/cb7b27b62b7338b2'], ['/hrb/car/b3d30a23cff9b8fd'], ['/qd/car/48c47bc6ef8b2bc8'], ['/hrb/car/eaf970834ee7351d'], ['/km/car/bb9a4e29d3a99da6'], ['/gz/car/f82f8cee5cc45936']]\n",
      "\n",
      "https://www.renrenche.com/cn/ershouche/pr-30-35/p33/\n",
      "[['/nn/car/0f0b4053c3d2bc65'], ['/hf/car/9588df2823f07225'], ['/sh/car/a279ee9a9ee3ad0f'], ['/songyuan/car/c49264d4f667c45a'], ['/wf/car/933ef951e1b12e20'], ['/nb/car/82a72a7710031ef4'], ['/heze/car/b690f473e7eed3bd'], ['/zh/car/405190bb8623a416'], ['/bj/car/8e12bccaf68710fa'], ['/wulu/car/d93bdf8e1f5d5494'], ['/gz/car/36f00051f51b68a1'], ['/wz/car/636562edfbcf7403'], ['/sjz/car/3a47b38109c4739e'], ['/cq/car/116253459d0d5ac0'], ['/gz/car/2cd0b17cdfe28485'], ['/gy/car/31f69056e90a5e2a'], ['/bj/car/aece9e75e0222cd7'], ['/dg/car/f292c91c1e4d31c1'], ['/cd/car/5a021321b0f7fba4'], ['/cd/car/fa1a2c7ea592dd1d'], ['/changde/car/932c1ac4bdd43ae3'], ['/cd/car/c12b5db694596a23'], ['/sh/car/7767e508dd869ff9'], ['/changde/car/41c4ec62a05df058'], ['/nj/car/ae5da71f81387a1a'], ['/bj/car/f76123bfd5d6dbec'], ['/cd/car/1538e1eda773a2d9'], ['/cd/car/b9e94c2026451936'], ['/gz/car/52c9a09d918978f1'], ['/zhuzhou/car/e8a0a203055aae7f'], ['/bj/car/fc23d6ea32564e0a'], ['/bj/car/56b7842c44e4b73a'], ['/linyi/car/dc0a857fc639e1b4'], ['/gz/car/195420e4298b8f94'], ['/gz/car/4fd2737518d4d725'], ['/linyi/car/a6b7a5508c08ffe4'], ['/xa/car/7611a95657537eea'], ['/fs/car/a787fa92038d2650'], ['/wh/car/9f011c4513a578d0'], ['/zz/car/989741235af8c44f']]\n",
      "\n",
      "https://www.renrenche.com/cn/ershouche/pr-30-35/p43/\n",
      "[['/dl/car/bbfe79ac090e2028'], ['/fs/car/2c3c1fe6a03680cc'], ['/xa/car/ba7b550fa38b1120'], ['/nj/car/34c45535badd3ee6'], ['/cq/car/71888a72925ad697'], ['/km/car/ea15ed48a130a5d9'], ['/dg/car/5888d0acd5baf8d8'], ['/cc/car/5f3fafdc7339df17'], ['/nj/car/0782f4f84c4fa13d'], ['/dl/car/15c53a232d85e276'], ['/sy/car/63cb3ea7803ddf28'], ['/songyuan/car/bd73a6b035cfaa43'], ['/hz/car/fb824154d2895918'], ['/hf/car/29996a1ccf4d250c'], ['/gy/car/5b4e2b977a65ae24'], ['/tj/car/ac17b6e91e1acc1f'], ['/gy/car/7c21ce5341c88131'], ['/fs/car/23291920dbfb9eeb'], ['/zz/car/faa2c6eae7f236ac'], ['/dl/car/719e61c9a036a15b'], ['/nj/car/f6ebb6e1c792b231'], ['/cq/car/3d458a6b84a09d06'], ['/gz/car/f400610a4dcd8ba1'], ['/zg/car/d7097359220330c7'], ['/ja/car/62379fbf0c2b3ab5'], ['/ld/car/2aab8874505d5efe'], ['/hz/car/26e83331cd424a68'], ['/lz/car/392b8d49192ac918'], ['/xn/car/52433b7c9d56327c'], ['/sjz/car/4089c9cac40e52ed'], ['/km/car/6f37a532f81fbccd'], ['/xa/car/d85e51dc756737ad'], ['/bh/car/e076ec03cc97bb7d'], ['/wh/car/3b49242f100f6061'], ['/wuhu/car/99c7a996df14aae9'], ['/bengbu/car/c3e9c879627f3518'], ['/sy/car/ead6e99818da6b3e'], ['/hrb/car/c5ccc1aae6125eb8'], ['/ts/car/1abe58de83469684'], ['/sjz/car/ad63d621ae1d2505']]\n",
      "\n"
     ]
    },
    {
     "name": "stdout",
     "output_type": "stream",
     "text": [
      "https://www.renrenche.com/cn/ershouche/pr-30-35/p41/\n",
      "[['/wh/car/6d9b87bc1a33411b'], ['/suz/car/808838f6a40314f1'], ['/bj/car/7f1dcf8201d4f558'], ['/lf/car/f592303b19f5d57b'], ['/huzhou/car/71ae7a6c9e2dc19e'], ['/lf/car/c675a2bd8d62a9bb'], ['/tj/car/1786467687711803'], ['/fz/car/49ff7b435ec86ebe'], ['/tj/car/c46a81718bed4eb9'], ['/sy/car/3403f157f83d1238'], ['/hf/car/6ef232c21037f3d7'], ['/suz/car/4f0cf086b494bcc4'], ['/tj/car/d9ea81e92294555a'], ['/sy/car/e2a2a81d24a933c2'], ['/nb/car/f3b566358e3bf869'], ['/qd/car/fb7bc88f8f88aa0b'], ['/cc/car/0398eaacae0b54d2'], ['/wh/car/08b9fd629c878178'], ['/fz/car/362924b5d79a5e10'], ['/dg/car/7e2d18aa7aada341'], ['/tj/car/0ff484dd17f9edfe'], ['/bj/car/0212ee1a8714081e'], ['/nj/car/35cb526b2d0ea621'], ['/qd/car/f1bcf08ea87e58c4'], ['/sy/car/7f532e8e195da311'], ['/huaibei/car/0a93ae5c995a0d17'], ['/nb/car/cfea81ffa1ba7e5d'], ['/nb/car/474a2542537eaa26'], ['/wh/car/68dc9c09a3836e23'], ['/ts/car/36304f03e5d5847f'], ['/xm/car/e478adf8474e8577'], ['/qd/car/0edde6343d8e87a4'], ['/zz/car/e47c11426907798c'], ['/km/car/0a674aa7f8cf1e0c'], ['/cq/car/f8c8637d8a3cace7'], ['/sy/car/e7ed28d0db4e11c4'], ['/sy/car/e3fc84a45b955dfb'], ['/nj/car/a103b331ba1e9afc'], ['/sq/car/969faa5646dcdaf3'], ['/wz/car/827e33f1b8849841']]\n",
      "\n",
      "https://www.renrenche.com/cn/ershouche/pr-30-35/p14/\n",
      "[['/zz/car/1f33ff21c6474d89'], ['/cd/car/1042752051f2e636'], ['/bj/car/77059b5991e36136'], ['/lf/car/18514b0f3b13df75'], ['/hrb/car/bd338fc386b8f780'], ['/zz/car/c4ae8ec171ebfe47'], ['/zh/car/cd830cdc2e8be177'], ['/wx/car/913cb26ecf860d04'], ['/tj/car/f12207badf95ca7f'], ['/lc/car/3347ec17b3990285'], ['/zz/car/c0ac617c492cb8e6'], ['/cd/car/057794fc4c844c52'], ['/xa/car/b923bb189e88ab69'], ['/sy/car/51bb89a57c840a27'], ['/tj/car/104f20b1615396ce'], ['/xa/car/274b8c130dbf1bf4'], ['/cd/car/31df3ade86da4292'], ['/zz/car/0eed64d8fcb497cf'], ['/gz/car/cb511138140511cd'], ['/sz/car/85d4a57745418229'], ['/nj/car/280a0ce9d4d18596'], ['/cd/car/6b3cb19d0bcb2805'], ['/gz/car/a1963a3b81d4b83f'], ['/xa/car/8ba5c09f9605141e'], ['/bj/car/226aeca7e6403ea4'], ['/xm/car/2d70721ab54eb70e'], ['/sz/car/0e0c35cca3864c97'], ['/cd/car/858359ed7a7d2fe8'], ['/gz/car/9049f5c52438ce88'], ['/gz/car/850f86edac908836'], ['/bj/car/c237cc3e6945485e'], ['/sq/car/68780361fc629795'], ['/qd/car/1e28ccc241abbfc1'], ['/sz/car/b170a6ba225a029c'], ['/gz/car/da79da3835d861b3'], ['/qd/car/03805fccf83fb84b'], ['/cc/car/4178332c6da53fe9'], ['/sy/car/c407bcff4bb90b16'], ['/zs/car/8ad98424eaafa98d'], ['/cd/car/3abbd8516f596560']]\n",
      "\n",
      "https://www.renrenche.com/cn/ershouche/pr-30-35/p35/\n",
      "[['/sy/car/b6579df0eca54382'], ['/sh/car/238eb805665eba9d'], ['/gz/car/bd299477f1e15d46'], ['/lz/car/0b4d3a653ae263e6'], ['/zhuzhou/car/ff59fa91d6e6f5b4'], ['/bj/car/1bc05bf3b420bbda'], ['/zhuzhou/car/d4473186da3d352c'], ['/cd/car/525efeb24e4b483b'], ['/suz/car/c79e5d54f4f8cc06'], ['/sy/car/431db836363e1cc3'], ['/km/car/82620ced1ed83aa2'], ['/bj/car/f660db61350122af'], ['/nb/car/720ef20e453964bf'], ['/cd/car/9114bcedaa6893d7'], ['/cd/car/c267458c77a4a3c1'], ['/wf/car/2ae34662f4b6dc20'], ['/sy/car/0d6bf14639b0a094'], ['/cq/car/af3e5fd78b11a7a4'], ['/zz/car/5e485e77b6d8ecb9'], ['/sh/car/94d267f5236eeb1e'], ['/sz/car/3471d74e69462e32'], ['/nb/car/c1c48b31ec953ff7'], ['/sh/car/e3e921e1ea04c1a9'], ['/cd/car/57d39d8db72e7d4e'], ['/sh/car/83e3a9173317311a'], ['/nj/car/062af715e50b2318'], ['/bj/car/30e81d945f340162'], ['/sh/car/34bed42b0e880b72'], ['/cd/car/c6cb1d8e95845c88'], ['/bj/car/d91e6faf87c027e4'], ['/km/car/24ca63f2deb594ec'], ['/tj/car/039720bd66ebcb85'], ['/kaifeng/car/0675dda56dee6584'], ['/gz/car/2c6326bc27b1f4ed'], ['/cd/car/0e96016e9085457e'], ['/cd/car/c4e5eee602ab20b6'], ['/gz/car/5820bc60a7493098'], ['/sy/car/2d8673ff4c80b6d4'], ['/bj/car/e386e2334078ea71'], ['/km/car/766b7182eb09e370']]\n",
      "\n",
      "https://www.renrenche.com/cn/ershouche/pr-30-35/p10/\n",
      "[['/cd/car/0e1d919f7329ce30'], ['/cd/car/99cae5e6574c77cf'], ['/hf/car/d39aeca354eb43c9'], ['/cd/car/fcded12d075235c9'], ['/gz/car/1f1fb7c7d108701c'], ['/gz/car/bfeb89af6d7ddc30'], ['/huaibei/car/3496301ae510a09f'], ['/hf/car/b899306e5c5a98f4'], ['/sy/car/e3d0d647a2165952'], ['/suz/car/fbf3975d352dc4ed'], ['/bj/car/bf3cedefaee3f6bf'], ['/bj/car/f2daa682ced6166d'], ['/hb/car/6af49efc55aa7c77'], ['/sz/car/25c569da5282df0b'], ['/sz/car/1c988c93a40bbc37'], ['/lc/car/46af2e3897330f34'], ['/wh/car/23d1de83704d0d5e'], ['/luoyang/car/1453cdc24bcbe150'], ['/gz/car/339e0f3185721122'], ['/hb/car/173b7c05d91d2533'], ['/cd/car/dedc9bdfa3bd68b7'], ['/gz/car/be2698e911a2d43e'], ['/qd/car/34c4f16289037ab0'], ['/linyi/car/65e3781f8e96459d'], ['/sy/car/21062bbbc2eed992'], ['/wf/car/0b0fac56a97a1bd0'], ['/bj/car/f54456e71d2f3e29'], ['/bj/car/35477ebc925e399f'], ['/zz/car/043ae2e4dfa9f329'], ['/lf/car/1e308ffe1d69a3dd'], ['/gz/car/d59882d8368ec713'], ['/gz/car/e9dc63032b2b0d82'], ['/suz/car/22f15a266f8766a0'], ['/gz/car/d2915c8c769b4116'], ['/cd/car/406ed45bda75fc8b'], ['/gz/car/f4d11a3f2e83c46d'], ['/gz/car/da945b72945714b8'], ['/bj/car/676f8725616fa963'], ['/nj/car/a485c09d0588aad8'], ['/wh/car/a76588473fa562da']]\n",
      "\n",
      "https://www.renrenche.com/cn/ershouche/pr-30-35/p42/\n",
      "[['/huzhou/car/2a910da861c9870d'], ['/lyg/car/4ce1ec4a73a79f34'], ['/ny/car/570b3e7c2cb7fe73'], ['/gg/car/9632a371d5391d7c'], ['/dl/car/73267fdf71e6184c'], ['/hf/car/cbe68b382b6e7cef'], ['/zz/car/978ddd6a77340393'], ['/cc/car/7c59d9a427d74939'], ['/ts/car/ee7ea6816aa0dfd0'], ['/zh/car/9deb0e1edb218834'], ['/lc/car/e95648a0e1e15d05'], ['/nb/car/2d9882de5c34510f'], ['/hf/car/cd66957c0cf4d036'], ['/jm/car/4ba31a39782d0e0a'], ['/dg/car/0c3b906ea556d17a'], ['/sy/car/35d43fa0f385f596'], ['/sy/car/ef52a5737f20925b'], ['/sy/car/4fa1e84d2f5c8322'], ['/kaifeng/car/455f01322a5dba4d'], ['/chenzhou/car/cd3666453c84b142'], ['/huaibei/car/fe9915216bbe9be9'], ['/zz/car/9ff467c7a3a68ae5'], ['/suz/car/1d000bdf9036d2a3'], ['/cc/car/2ba22f050fce3721'], ['/xa/car/5674247afd932e36'], ['/lf/car/00bae736f65138be'], ['/bengbu/car/ca2dd05dc39c4ade'], ['/nn/car/339b1ca7142a5c1c'], ['/hf/car/7c9e1cc9bc95407a'], ['/nb/car/d81bcb5f47c0504a'], ['/hd/car/bf3923f92cd0b6c6'], ['/jingzhou/car/542f53f0858bcbe6'], ['/lf/car/76f0b235fc3aa7ac'], ['/linyi/car/fb1578b37661eba9'], ['/ld/car/6c79a30b3db9b5f9'], ['/hf/car/ce85841bb9e92462'], ['/ld/car/568b838e0f6474c4'], ['/nj/car/e348edd58c73e793'], ['/hf/car/d5ba39fb89d32cb5'], ['/yz/car/bb9a4100153aceac']]\n",
      "\n",
      "https://www.renrenche.com/cn/ershouche/pr-30-35/p24/\n",
      "[['/bj/car/fc27c35281477f77'], ['/zhuzhou/car/a995b8f5b35d1e2a'], ['/zz/car/f000709a9b91d8ff'], ['/lf/car/93f360b79b61e3ad'], ['/qd/car/3172148dbb3b056c'], ['/bj/car/c8d5c7170b68fe3b'], ['/zz/car/07c9a33b4b4f0f89'], ['/fz/car/0dcddc14bd090187'], ['/wuhu/car/ab88b27c9ee75fb3'], ['/tj/car/51f69c3e301399fd'], ['/qd/car/b65e4867b3725e51'], ['/xc/car/13429921af270a87'], ['/tj/car/1e17f5ed384b002d'], ['/sz/car/8b9e4a0ddf387135'], ['/bj/car/cea2e1797eab2862'], ['/cq/car/4e33338d03ca7959'], ['/bj/car/4683e9492868d5ff'], ['/kaifeng/car/f41e531349af54f8'], ['/sz/car/4e78015fe45d6bc1'], ['/bj/car/92314edf64129371'], ['/bj/car/7a8f9d8f039b99d9'], ['/bj/car/fe815d92083eb795'], ['/bj/car/aa9ee836eef41e16'], ['/fz/car/e34ae02230cfad1f'], ['/cd/car/1ff8ade335dc6159'], ['/huzhou/car/c42811fa5f8bb223'], ['/xa/car/02773e60bb6c7bf9'], ['/nj/car/b96a17de6ee69f2e'], ['/nj/car/1f738775ffe89c05'], ['/tj/car/1e7cbacd294d3a59'], ['/lf/car/723610da144449bf'], ['/sz/car/75fb4c6b6c17ee5b'], ['/wh/car/6aa0f082bc18a0bb'], ['/km/car/db395417fca6126f'], ['/wuhu/car/63368607f2b4074b'], ['/bj/car/50599512d90aaaca'], ['/bj/car/f5f847cdd99ecc50'], ['/bj/car/b822dae06ef4c843'], ['/xiantao/car/a5a39fb38b8bb876'], ['/qd/car/191bca11b06b4a5e']]\n",
      "\n",
      "https://www.renrenche.com/cn/ershouche/pr-30-35/p13/\n",
      "[['/dg/car/78971e6dfef47d6f'], ['/nj/car/86ca51f5fe11382b'], ['/cd/car/53c12570cb39ca6a'], ['/cd/car/1e91cbbf36cca111'], ['/zz/car/60601afb68d28e5a'], ['/xm/car/a9295d36527ca41e'], ['/gy/car/148265e049b7e756'], ['/linyi/car/d9ab415aac026a96'], ['/nn/car/cc66a1d173ecce84'], ['/bj/car/6c9b472ea889dd80'], ['/wh/car/e7f7e4059ba95a09'], ['/nj/car/b3aa3e6bb6a6342d'], ['/sz/car/c580121848400e70'], ['/sy/car/818a6f2e52b4c202'], ['/yf/car/e24024eccd94cc55'], ['/sz/car/0b6fe4849a60afb1'], ['/gz/car/5b6c19a1d9362a88'], ['/zh/car/2b6a265715f49a42'], ['/cc/car/abb653bfbeb6b4ce'], ['/cd/car/f84170902a0df718'], ['/cd/car/99564098c2f5f6b5'], ['/cd/car/ca551c043d29e9bb'], ['/wh/car/b29e8395acd8a17c'], ['/cd/car/b05098b7f6a05498'], ['/ha/car/56f0361b0392489b'], ['/nj/car/a6534732316b93e6'], ['/wh/car/6ba8871c0e88d24d'], ['/wulu/car/0ffc210cd21a5150'], ['/wh/car/3e6fb641e0db2abb'], ['/km/car/2026fa5e38fe421f'], ['/cc/car/4ed163c4af143625'], ['/suz/car/48cefb9e6e788699'], ['/sq/car/674938951eb73373'], ['/qd/car/121c5d8e8a66e215'], ['/lf/car/aa9d64ab6c9f25b9'], ['/dg/car/e24f5ab853e8e624'], ['/wf/car/e3ccd3fe5d1f8004'], ['/fs/car/9eddce3a71a517ea'], ['/bj/car/78783ba4f8ce1395'], ['/suz/car/5464226b3137e19f']]\n",
      "\n",
      "https://www.renrenche.com/cn/ershouche/pr-30-35/p29/\n",
      "[['/sz/car/ee9fea9e523c5c6d'], ['/bj/car/c6b26d985166adb2'], ['/qd/car/d4ff7a310129621d'], ['/bj/car/8c2a0d1524b5719b'], ['/nn/car/20c00e3c8599a3a0'], ['/bj/car/c9856cc107e7338d'], ['/huizhou/car/a4db133cc66c62fb'], ['/cq/car/68026c7abd530d14'], ['/luoyang/car/7766bf537bab4b7a'], ['/zz/car/eb4ebc081d081468'], ['/cd/car/f237d0f31f75e52c'], ['/gz/car/8e9bb412ad98faca'], ['/bj/car/e98d839579faef96'], ['/qd/car/efbe0348f8a5f863'], ['/cd/car/f5e07e78b29ec981'], ['/bj/car/a338ee855650c411'], ['/wf/car/dc96b34d0cd50e95'], ['/nb/car/d2ba8dbdf4d76e62'], ['/hf/car/518aae422f59d6f5'], ['/chengde/car/cfa281ed206e1a2f'], ['/gz/car/39d0818c8d7b456d'], ['/nj/car/1dd73ad3d0ece2bf'], ['/nn/car/80d3e3a87b069594'], ['/zz/car/1083fe2d95e02249'], ['/cd/car/83a91c5363e570f9'], ['/cd/car/8e95070b79302618'], ['/anqing/car/6131a27d2d0b0343'], ['/bj/car/15a9e4c91e238110'], ['/bj/car/045ebe4e2694462c'], ['/sz/car/fafbe1199ae2c99b'], ['/bj/car/0a9d852798b354c9'], ['/cd/car/8e90d398084b57d9'], ['/bj/car/9275c311a14ac229'], ['/luoyang/car/f41c139cd2381fec'], ['/cq/car/3390bc113c0e25e5'], ['/zz/car/623782c10dd31d7f'], ['/bj/car/52e2a14f6a213ab6'], ['/bj/car/726f4abd45e8ca72'], ['/bj/car/273b6e08608c79de'], ['/bj/car/b345c983dc2852ae']]\n",
      "\n",
      "https://www.renrenche.com/cn/ershouche/pr-30-35/p31/\n",
      "[['/bj/car/3cae18238ad0c41e'], ['/wz/car/f99e2b4f40c7ce84'], ['/xa/car/7f446f912b66d6c8'], ['/linyi/car/9dce0bb4be29bce7'], ['/nb/car/3ae2e82c5b8ecd39'], ['/nb/car/ca3f8cc883ea2f4e'], ['/hf/car/a5314b78aab05a89'], ['/fy/car/e5ba8a5382d2ad4e'], ['/km/car/7bd01a100cedc225'], ['/zz/car/6ad9a7bbac03ec03'], ['/sh/car/38dbb4baa5c11a6c'], ['/sq/car/1c768d87b4a5d400'], ['/fs/car/a6533450c3f7f7e6'], ['/cd/car/716626f880a4e73f'], ['/nb/car/3597a71f0d6c7c3e'], ['/dl/car/d20092b0c751f698'], ['/hf/car/a5d07401b1fa1200'], ['/bj/car/cb24f8b3c06c8bd4'], ['/nj/car/8f71bfb1f09bb894'], ['/qd/car/90748a41e305ac1a'], ['/pds/car/124847a58e007e30'], ['/hf/car/693bc5435fa66968'], ['/zz/car/80af6640a1cff1aa'], ['/sh/car/b02ae11894464624'], ['/bj/car/7b390ca0660d158e'], ['/cd/car/d8180aefbcba6f15'], ['/sz/car/94152fd67cabcb18'], ['/gz/car/d1e3b7a7c59a79c1'], ['/sh/car/25dd2551c79728b0'], ['/qd/car/fde7d06ae1b98701'], ['/bj/car/c6fc2db1f044463a'], ['/bj/car/6807804a10bde397'], ['/sjz/car/7eddcfb6d59e1c1d'], ['/gz/car/7ce93b53e78536db'], ['/qd/car/a702cb3b2d990564'], ['/chengde/car/e8de51f6cbf5faec'], ['/sh/car/e05cf1b50ce5c43f'], ['/xm/car/6b244e4b58eb6b69'], ['/wh/car/576888af866f6c09'], ['/huzhou/car/83cee78a88ef4e01']]\n",
      "\n",
      "https://www.renrenche.com/cn/ershouche/pr-30-35/p34/\n",
      "[['/dg/car/6fcd9d0d111a491a'], ['/xm/car/d16d5972221526bc'], ['/nb/car/63d6a441bacb8996'], ['/cd/car/0dfdf63c4b7f51aa'], ['/fy/car/7b97d60100ed817d'], ['/gz/car/43d8d357cc7293c5'], ['/wulu/car/2ce9dfa2fc8faafa'], ['/suz/car/f2b40d75db793d36'], ['/sh/car/3d47f17074044498'], ['/sq/car/906b6617d1b83c1e'], ['/fy/car/d79a3415101df9f4'], ['/ny/car/98759b83855b455e'], ['/cq/car/a3a02169f6bbae7b'], ['/gz/car/11af1ddb195c6679'], ['/bj/car/3bcac05bbf54fc01'], ['/sy/car/1a8b0dd3b195f992'], ['/sy/car/966a1b11e024cf33'], ['/bj/car/1a1e57feeb3eda88'], ['/sh/car/53f5e1043001af12'], ['/km/car/2c9aa5af420cb7db'], ['/ls/car/de589bfef165b77c'], ['/gz/car/c334063673677cae'], ['/nj/car/4f3a5954ae25d16e'], ['/zz/car/6aa46f450084a94d'], ['/zz/car/93297ef0caed043c'], ['/zz/car/27d191f1579c959c'], ['/km/car/f7dbd555cf5f8ac3'], ['/hrb/car/958431307eb2a3f9'], ['/gz/car/322fbe2cb0255532'], ['/hf/car/16e1753b320c3df6'], ['/km/car/d0089b9ec732d1b4'], ['/cq/car/f6ad9ae60a8bba89'], ['/bengbu/car/a2e4edfb9f0c4159'], ['/bj/car/af262d3e7921786e'], ['/zs/car/fe8469fcd930cb92'], ['/gz/car/5c150bda14f94153'], ['/yz/car/34ae6fb9af13005a'], ['/bj/car/8b5eacef91a20105'], ['/gy/car/a0cf42e02b606d90'], ['/sy/car/f9859294312ca9fa']]\n",
      "\n",
      "https://www.renrenche.com/cn/ershouche/pr-30-35/p32/\n",
      "[['/gz/car/08322462273f18fb'], ['/sz/car/e12eafa04a1f100e'], ['/sz/car/3fb9e167b99c0469'], ['/sh/car/f0a0c0d47ecaabe1'], ['/suz/car/015c5d8893013889'], ['/qd/car/a3963e442e0d51fb'], ['/gz/car/661d88b36b904ab1'], ['/sz/car/cbdb9f463ea099cc'], ['/xc/car/08d2ad5a67331dcc'], ['/zz/car/cfa1ecb386f0ced7'], ['/bj/car/590ddcf06daba55f'], ['/km/car/91f92ce1deed5ff1'], ['/wh/car/61194bac935cd484'], ['/qd/car/81805555b855b5f6'], ['/nb/car/7f638443b6ba39b2'], ['/bj/car/8f58fccf668c82e7'], ['/hrb/car/863d7f5502900bf7'], ['/zz/car/0ff0e5763cec9de6'], ['/cd/car/6e22f439b8d9e482'], ['/cd/car/92e61241bb885468'], ['/nb/car/9344f8f41bc4a80b'], ['/sq/car/bf5a2eb444ee2d98'], ['/gz/car/6aaf68c46c246395'], ['/zz/car/8885282e37406b23'], ['/bj/car/3b527918437ede59'], ['/km/car/18789bde3bb8af7c'], ['/gz/car/7174be75404e2e57'], ['/bj/car/26154d0089869be5'], ['/bj/car/6ad8adfd52546982'], ['/gz/car/06a9fff16a91d998'], ['/nn/car/3b2350708344a751'], ['/sh/car/c9ec4bee910d585f'], ['/zz/car/a268772c914a2321'], ['/bj/car/e639b6d0b9e7e075'], ['/zz/car/32c28a5d23dfe987'], ['/bj/car/05f3bd7fd301350f'], ['/mdj/car/2f7d019661fdf3a7'], ['/sh/car/3e2ba99c58c7433b'], ['/linyi/car/a5c6fd760ac2a9ea'], ['/bj/car/bc2f17d97b906400']]\n",
      "\n",
      "https://www.renrenche.com/cn/ershouche/pr-30-35/p9/\n",
      "[['/cq/car/76957b6cbc8e7bfc'], ['/cd/car/cc0ba811ce0c7a3f'], ['/cq/car/4385dd342bff5e9f'], ['/cq/car/3e35f7bdb0ef30a1'], ['/cd/car/c544fa6c49796843'], ['/cd/car/67696dc10c9e26aa'], ['/cd/car/da64d2f06565e3aa'], ['/zz/car/82972deced994e5c'], ['/songyuan/car/d4a38471f8e99be3'], ['/bj/car/5864d454bd9cd0aa'], ['/huizhou/car/23cbb3d9d6e47567'], ['/cd/car/6d962185c186b7a6'], ['/suz/car/b5268ebfea1f4f49'], ['/sz/car/7dfaa7d5b22eadc5'], ['/bj/car/5fb17f1fb9589555'], ['/tj/car/c590f56e9f432850'], ['/dg/car/cdd38a2e2a230599'], ['/dg/car/dd8f9fef893a5a77'], ['/gz/car/94940f7cd3be3999'], ['/sz/car/53a6e2d33a7f6c2e'], ['/dg/car/5d788401e6d89be0'], ['/sz/car/dd42f935be5d814f'], ['/cd/car/5519290576a22763'], ['/huzhou/car/f8fc2eb18e43841d'], ['/nn/car/2301a07e56400bba'], ['/huizhou/car/18c795e9a2d73abb'], ['/cd/car/ea90c713963bac02'], ['/cd/car/0e1d919f7329ce30'], ['/zz/car/393aa8fca824ad01'], ['/gz/car/d59882d8368ec713'], ['/cq/car/97ab406c8fa25fb5'], ['/zz/car/c98561d4b468c713'], ['/zz/car/d3bcc6ab0fbe5b71'], ['/bj/car/50146c81dbc2edf0'], ['/cq/car/d4fe3e37ee44d7ef'], ['/bj/car/4862bc60922334e9'], ['/sz/car/b94326936e21bf0f'], ['/bj/car/4d2442c58c5ceb63'], ['/sz/car/f4782cfb38b13bcf'], ['/km/car/cd1614a459c414d3']]\n",
      "\n"
     ]
    },
    {
     "name": "stdout",
     "output_type": "stream",
     "text": [
      "https://www.renrenche.com/cn/ershouche/pr-30-35/p40/\n",
      "[['/gz/car/fedc0dd0ae33f262'], ['/bj/car/e5eedea036518c27'], ['/sz/car/71092500148f5e20'], ['/cd/car/ddebf4f395ffe514'], ['/dg/car/5ef263637b3ba24b'], ['/km/car/b3f258d28b15f60b'], ['/dl/car/50c976fd690d2aa7'], ['/hz/car/d9633e760c7faffe'], ['/fs/car/41463dbdffe89078'], ['/zz/car/e8a45146d4925704'], ['/sz/car/30b7f70fe337b3d7'], ['/sz/car/c59d18a5d4bac7be'], ['/chengde/car/2c252ead5f5fac5d'], ['/dg/car/a54999d45fe64e00'], ['/nn/car/1a21f5ae8e2fdeb0'], ['/jn/car/41c61ccee279d282'], ['/hf/car/b93550087a91e277'], ['/bj/car/545be26d4b56dc7c'], ['/zj/car/944907d30a1aca3b'], ['/wulu/car/c4cc1ffe186744c1'], ['/tj/car/7388c33bd3610482'], ['/nb/car/392522234711f010'], ['/sz/car/b3b284c205549926'], ['/bozhou/car/2f534e97426566f6'], ['/wh/car/ea3f9fb138a4493d'], ['/lyg/car/06af798299b02bb5'], ['/wh/car/244f157bb16c159d'], ['/hf/car/9249bfd7372d9fd9'], ['/suz/car/2bf2be794064fac3'], ['/nj/car/70110dfefcafdf33'], ['/bj/car/e9f396a2024c292a'], ['/sz/car/9885c86ebb3cb52c'], ['/gz/car/4974a0f86dd723d2'], ['/sh/car/0940876160a72563'], ['/suz/car/0fe1c07404f4fac6'], ['/cc/car/fc3c08dee6ead5b3'], ['/sh/car/d8e3f63ba3dc815c'], ['/gz/car/5e397c9492ecf0a8'], ['/cc/car/7c3a8aefa94ba4ab'], ['/suz/car/9c680ba05ba9add5']]\n",
      "\n",
      "https://www.renrenche.com/cn/ershouche/pr-30-35/p16/\n",
      "[['/sy/car/27aa7d005662fbd4'], ['/linyi/car/6c50f9b5fc1e4ef6'], ['/ya/car/82d78ca68edda09a'], ['/yz/car/c23a88755fa84599'], ['/bj/car/9e1e4416fa5a248e'], ['/sy/car/e0a5e14368884e75'], ['/sy/car/0900003ebe419a3e'], ['/bj/car/48ba2177ea68e789'], ['/sx/car/85c29f87ddce2a3e'], ['/wx/car/1945e17474c5f0a7'], ['/bj/car/4ed0e8a7c9a5309a'], ['/hrb/car/ae83a7e4b04ae5f5'], ['/bj/car/6129ec9d233b5432'], ['/linyi/car/366b755f640e1484'], ['/nn/car/7ddbab3c87011c99'], ['/ny/car/0679b9229e1374e8'], ['/sx/car/2945b80042eb3b01'], ['/ja/car/82c47dc1e920b347'], ['/lf/car/838b678c3fb16a08'], ['/wh/car/9bcd1e42557710a3'], ['/wh/car/6322ff503f083894'], ['/lf/car/6891098a6c585b14'], ['/cd/car/8db2b760f852798c'], ['/bj/car/9e4636a7535177ff'], ['/cd/car/1e69bc4ce4c489d5'], ['/dl/car/3a9625dc4a2b6b63'], ['/hf/car/06e018a2dd7709e7'], ['/nj/car/6463452be1b86acc'], ['/km/car/5320d4e50e52934a'], ['/dl/car/4c839fca7e98df43'], ['/zz/car/789b264af878e3c1'], ['/changde/car/32c529cefbd3a72f'], ['/sy/car/9cec50e699d48a6f'], ['/nj/car/06352f4c8fb2fe0a'], ['/sz/car/f6883ed2b9f687f5'], ['/nj/car/83263e91a3326408'], ['/zaozhuang/car/514f8ad646502666'], ['/wulu/car/5dadc463afac334e'], ['/gz/car/be9e75b4b9b5c603'], ['/sz/car/3363618be9f94b1b']]\n",
      "\n",
      "https://www.renrenche.com/cn/ershouche/pr-30-35/p39/\n",
      "[['/wulu/car/bcde6d4fbb6eb5cc'], ['/sh/car/c4935fba79bca71b'], ['/xz/car/2b84cc75d5aa7225'], ['/fs/car/e8edf9deba379ea5'], ['/nb/car/8d2964160d5c208f'], ['/zz/car/1cfcd6d557b96137'], ['/cd/car/f82ecfe108631220'], ['/sh/car/9a0bdc6cce8662fb'], ['/gz/car/89fffd9f46bcc99a'], ['/cc/car/6e8b667e0b8fd83c'], ['/hz/car/15f6fbd669b43cfd'], ['/bj/car/edafc51771913610'], ['/bj/car/61a2b41b1d2d3038'], ['/gz/car/f4588f79841bc870'], ['/rizhao/car/c16fd5c8b37e6943'], ['/sh/car/aa6fd5ff38a3c155'], ['/wulu/car/fe0d70f4a7da12b9'], ['/wulu/car/126557510c2a5e5b'], ['/cd/car/af758f4fde31735f'], ['/zz/car/28eaaf95d0266af6'], ['/zs/car/e67631415eef4822'], ['/sz/car/f4825a1b99fe5466'], ['/cd/car/c1bc561db928b5b0'], ['/nj/car/338fb7d1e04f62dd'], ['/nj/car/74fb9d62717a6cb5'], ['/wh/car/7975b7d3839b83d3'], ['/sz/car/2fb7b73154bd4b96'], ['/sz/car/24749f8130a1a8dc'], ['/km/car/97b3850888b695c1'], ['/sh/car/163a7b593e42b1b9'], ['/lc/car/08cb7dbbfee69869'], ['/bj/car/78fd33d084f32ae7'], ['/suz/car/5c63e48ac610fb76'], ['/bj/car/cd831c0e5933fedd'], ['/fushun/car/5be956513abfa813'], ['/qd/car/7f7ca1092b95ec56'], ['/xa/car/fd6f3813317a5747'], ['/cd/car/d01e33a1e9bcf2b7'], ['/sz/car/d6fa73d357ca59b4'], ['/cq/car/6ffbd237aaad47cf']]\n",
      "\n",
      "https://www.renrenche.com/cn/ershouche/pr-30-35/p19/\n",
      "[['/xn/car/ac83bdd4727a73c9'], ['/sy/car/fa1dd455563112f7'], ['/xa/car/a84bf3f1659a06cf'], ['/xa/car/ba5231ae33c0086c'], ['/xiangtan/car/4f4093c3fd6da1cc'], ['/gz/car/08550b8895f9244f'], ['/nn/car/d1099a6511adb5f7'], ['/nn/car/eb920bad4dc8707e'], ['/cd/car/2b933b1062e18407'], ['/sz/car/58ae13479a9d5d28'], ['/bj/car/b86b9313b7258289'], ['/cq/car/807beae20f90ac03'], ['/deyang/car/27ec6c5a131fa792'], ['/gl/car/0f5ce65d13a3fa81'], ['/sy/car/220ee921fd684ab2'], ['/sy/car/feb927eddca2f172'], ['/hf/car/d33e791820c9744f'], ['/km/car/4fb4ec5d1a14fec4'], ['/cd/car/70365457cf02b06c'], ['/gz/car/3d9857324ffbbdf4'], ['/gz/car/12d35b8db2ac22ff'], ['/qianjiang/car/cbeae9beefa1772b'], ['/dl/car/9adab7680399e83f'], ['/sjz/car/abb4f0c5e8949c5e'], ['/sz/car/67be5b45e1514ecd'], ['/sq/car/9c93b8dd6fe0de00'], ['/zh/car/8416590bc8662ce7'], ['/sy/car/eb0e09feabe81071'], ['/nn/car/283c40f54470dcb5'], ['/sjz/car/479697e4bbb735ff'], ['/suz/car/fe2e56d9e0650f53'], ['/dg/car/744b201f31f7950c'], ['/bengbu/car/f825aa5cc98f0a60'], ['/bj/car/95b5eab978974652'], ['/bj/car/a62bd41cacad4a91'], ['/hz/car/19d52754e6394e8b'], ['/hn/car/3fe95ad08a870459'], ['/gz/car/e6c72ad6245530d6'], ['/dl/car/138ec8ed447604de'], ['/bj/car/f1cab0a03b25329e']]\n",
      "\n",
      "https://www.renrenche.com/cn/ershouche/pr-30-35/p27/\n",
      "[['/km/car/21a3b791dd1836fa'], ['/gz/car/0e472994a6d6e9fb'], ['/gz/car/253453bf16ed4756'], ['/zz/car/5297082e2374fefd'], ['/zz/car/c4958cb04beaee94'], ['/nj/car/593ce68968263a81'], ['/huzhou/car/7b42d6549959a871'], ['/zg/car/0368ede66a408799'], ['/bj/car/14caad015205198c'], ['/suz/car/c11c1fdc43438d89'], ['/hf/car/c91da0a80eb92289'], ['/lf/car/f41c702618bfe3e0'], ['/cd/car/e63b286967d803d3'], ['/hf/car/4a58dd2860054d9a'], ['/zz/car/d8bc21787a255235'], ['/sjz/car/eae08bb406bf4383'], ['/gz/car/25800e26d89451d1'], ['/qd/car/53e12861646e1495'], ['/bj/car/8956558aaf6a90ba'], ['/bj/car/1bc09affdc4fc162'], ['/gz/car/1d886c20c04acb74'], ['/zz/car/bbdf5e383b1ad49a'], ['/km/car/f7e2d77f2171d24a'], ['/cd/car/1e8a6cd0832ef14d'], ['/zz/car/19a48b8c1016dabb'], ['/zhuzhou/car/eff7c860159b8f34'], ['/linyi/car/7cade4018076227f'], ['/nn/car/8bc48235448dafbf'], ['/dl/car/b8fd177446703b2f'], ['/bj/car/20f2a5e79786cfe7'], ['/km/car/3f15a205a20b28ff'], ['/lf/car/13dd6ea6895bef4f'], ['/hf/car/dba0557dd6e24905'], ['/xa/car/eb2494f23e7caeff'], ['/bj/car/5e361d6d190e2f06'], ['/cd/car/8cce1528ce97f932'], ['/qd/car/cdc94b12e48dede5'], ['/zz/car/8a887541edad61e0'], ['/cd/car/69a268da7d7caab3'], ['/xm/car/091a9b6febc2bffc']]\n",
      "\n",
      "https://www.renrenche.com/cn/ershouche/pr-30-35/p25/\n",
      "[['/nn/car/5b1655b21867208f'], ['/sz/car/897b172a9fb62c74'], ['/wh/car/2147f711177b5303'], ['/hf/car/f78e461835fb7aed'], ['/hz/car/3af601f31f55f8a8'], ['/gy/car/607336482d955ddc'], ['/zz/car/36ea7b11005207c9'], ['/hf/car/32947fdf74a58459'], ['/bj/car/ba02f31226b80636'], ['/zhuzhou/car/d2daf54255c7b12c'], ['/zz/car/ea02fb57035e9321'], ['/tj/car/f4d2dc40eb61d542'], ['/zz/car/9cd1227bb8311026'], ['/zz/car/838ee880039da4d0'], ['/huizhou/car/0180c44924dcd9e7'], ['/haikou/car/f222acc2db0ceade'], ['/bj/car/2194105ee2c3dde7'], ['/hrb/car/1b2fe2891946ee42'], ['/bj/car/bac43afa7aa425da'], ['/nn/car/c5f10ca9f763483d'], ['/zz/car/f3a18d6a757a4ca5'], ['/cd/car/2df2fc0d1f24bcae'], ['/bj/car/82f18d0c98b2002d'], ['/bj/car/83b5f7c290f8900d'], ['/hf/car/c4460fae2c31ef62'], ['/nj/car/45416c191493f173'], ['/gz/car/842847a78722a118'], ['/bj/car/80aa479ee58034f5'], ['/cd/car/cf76d8ef59640f81'], ['/gz/car/22c5698477c54a35'], ['/cd/car/1152b6c7bc087cd9'], ['/tj/car/34933dada0395a7a'], ['/cd/car/60856087a61509f7'], ['/lyg/car/003fa734a7483112'], ['/xm/car/a33014280b3255a2'], ['/bj/car/25a5290ef61301c5'], ['/km/car/ec3caa7f3df3184e'], ['/bj/car/a016c0b2986922b0'], ['/suzhou/car/3f39f2eecc271b16'], ['/bj/car/3ce19705952f50af']]\n",
      "\n",
      "https://www.renrenche.com/cn/ershouche/pr-30-35/p15/\n",
      "[['/bj/car/951402b03a0d64dd'], ['/bj/car/e2f8e70c30674d4f'], ['/bj/car/f9cad27f102f0fbe'], ['/dg/car/1dcc1c4b90f37691'], ['/zz/car/25a32338aee5fada'], ['/sy/car/62c5d75e7d806dfc'], ['/gz/car/9049f5c52438ce88'], ['/cd/car/3abbd8516f596560'], ['/bj/car/3a608b692a7eac01'], ['/hrb/car/77a7b86927c96e45'], ['/suz/car/bf861c460d8816b2'], ['/wz/car/86c5ea53919f0379'], ['/tj/car/7c356de293f14590'], ['/cd/car/1088f7f2c3fa1e8b'], ['/xa/car/0bc07cd367422aae'], ['/tj/car/b42640fc9340f58b'], ['/qd/car/e49bac4c46bfd349'], ['/km/car/6fe34a81d44e414e'], ['/cd/car/0f058ab90c2458d1'], ['/dg/car/aedadfbf1fb4ff9b'], ['/gz/car/312d28e72d88a110'], ['/bj/car/2b8cc61c506d5690'], ['/tj/car/c78d62e729d15818'], ['/gz/car/1dca92afb0eca304'], ['/sy/car/27aa7d005662fbd4'], ['/sy/car/e201dd188980781a'], ['/zz/car/789b264af878e3c1'], ['/qd/car/4775f45b28a4db3b'], ['/bj/car/15460e2c8522fe9e'], ['/gz/car/8cd8de0497bdfa3c'], ['/suz/car/af9c6d4f77469c64'], ['/fz/car/38c9b486f4a0fd16'], ['/linxia/car/9e1a670a23ad4645'], ['/gz/car/850f86edac908836'], ['/lf/car/deed2b5b02ac320c'], ['/cd/car/9e486ff56e0d6c52'], ['/nb/car/16a01240abeee7bb'], ['/nj/car/e4dcbf101f6d2b12'], ['/changde/car/32c529cefbd3a72f'], ['/ya/car/82d78ca68edda09a']]\n",
      "\n",
      "https://www.renrenche.com/cn/ershouche/pr-30-35/p26/\n",
      "[['/cd/car/cf76d8ef59640f81'], ['/sz/car/82a38e163eb41b80'], ['/gz/car/d9287250086eb8b8'], ['/wh/car/bf434454fab303c6'], ['/nj/car/0fd71f2ee87543a2'], ['/hz/car/ce9b62a554c9bc14'], ['/qd/car/c86e33577a1ca431'], ['/nb/car/fbbacd188ea088a8'], ['/jh/car/f11e4e44d563e5ee'], ['/bj/car/2d065d3de7e5d66a'], ['/bj/car/3036c00d3c36931c'], ['/cd/car/32cc75f53224bbc8'], ['/sz/car/9c9282d4b187e75d'], ['/gz/car/be8bb097410273cd'], ['/km/car/943914c8e38c4ede'], ['/zs/car/eb2e670935f371f6'], ['/bj/car/e3b537e144c56f80'], ['/lf/car/0313e07182c8dd19'], ['/nj/car/5306c5238944ebcd'], ['/gz/car/a0c44b17cc3e3832'], ['/nj/car/85d895e899a2529e'], ['/fz/car/4cd0d189e690f026'], ['/sjz/car/1413f2ca0520a438'], ['/bj/car/9b8f69892b5a78c2'], ['/zz/car/5297082e2374fefd'], ['/bd/car/0d2bc5c8d0d63467'], ['/km/car/21a3b791dd1836fa'], ['/bj/car/b93cc38b5e3cecca'], ['/gz/car/e0df6a3e5f4ee7c0'], ['/tj/car/1aeb57a7d6303480'], ['/gz/car/22c5698477c54a35'], ['/sz/car/d2ae943347faf7bd'], ['/cd/car/a05960b149febf29'], ['/xa/car/113974fe52ed40ec'], ['/zz/car/745642ccb03540f7'], ['/cd/car/a6a01fec8a9b06db'], ['/bj/car/1d8037774c350171'], ['/deyang/car/ab27f4c96f76ae82'], ['/cd/car/11d788dc487a6a17'], ['/wh/car/df67727fba13f634']]\n",
      "\n",
      "访问50次网页，耗时：12.326053857803345\n"
     ]
    }
   ],
   "source": [
    "#经测试，发现是静态html文件，这就比较好办了\n",
    "#获得html文件所有内容\n",
    "car_detail_url = []\n",
    "\n",
    "start = time.time()\n",
    "\n",
    "thread_list = []\n",
    "for i in range(1,51,1):\n",
    "    url = r\"https://www.renrenche.com/cn/ershouche/pr-30-35/p\" + str(i) + r\"/\"\n",
    "    thread = threading.Thread(target=get_detail_url, args=(url,))\n",
    "    thread_list.append(thread)\n",
    "    thread.start()\n",
    "\n",
    "for thread in thread_list:\n",
    "    thread.join()\n",
    "\n",
    "    \n",
    "end = time.time()\n",
    "print(f'访问50次网页，耗时：{end - start}')"
   ]
  },
  {
   "cell_type": "markdown",
   "id": "4394fbab",
   "metadata": {},
   "source": [
    "### 写入csv文件"
   ]
  },
  {
   "cell_type": "code",
   "execution_count": 5,
   "id": "69c4d5a2",
   "metadata": {},
   "outputs": [
    {
     "name": "stdout",
     "output_type": "stream",
     "text": [
      "写入完成 car_url_30-35\n"
     ]
    }
   ],
   "source": [
    "#写入csv文件\n",
    "import pandas as pd\n",
    " \n",
    "name=['car_url_30-35']\n",
    "test=pd.DataFrame(columns=name,data=car_detail_url)\n",
    "test.to_csv('car_url.csv', mode='a', encoding='gbk')\n",
    "\n",
    "print(\"写入完成\",name[0])"
   ]
  },
  {
   "cell_type": "code",
   "execution_count": null,
   "id": "39c8ec66",
   "metadata": {},
   "outputs": [],
   "source": []
  }
 ],
 "metadata": {
  "kernelspec": {
   "display_name": "Python 3 (ipykernel)",
   "language": "python",
   "name": "python3"
  },
  "language_info": {
   "codemirror_mode": {
    "name": "ipython",
    "version": 3
   },
   "file_extension": ".py",
   "mimetype": "text/x-python",
   "name": "python",
   "nbconvert_exporter": "python",
   "pygments_lexer": "ipython3",
   "version": "3.9.7"
  }
 },
 "nbformat": 4,
 "nbformat_minor": 5
}
