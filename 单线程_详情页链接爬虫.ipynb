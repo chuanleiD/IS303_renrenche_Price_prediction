{
 "cells": [
  {
   "cell_type": "code",
   "execution_count": 10,
   "id": "24fbc266",
   "metadata": {},
   "outputs": [],
   "source": [
    "import requests\n",
    "import time\n",
    "from bs4 import BeautifulSoup"
   ]
  },
  {
   "cell_type": "code",
   "execution_count": 11,
   "id": "dc26ca68",
   "metadata": {},
   "outputs": [],
   "source": [
    "#由概述页获得详情页连接\n",
    "#---------------------------\n",
    "# 传入html总文件\n",
    "# 解析出连接返回一个列表\n",
    "#---------------------------\n",
    "\n",
    "def get_detail_url(html):\n",
    "    class_car = []\n",
    "    class_car2 = []\n",
    "    car_detail_url = []\n",
    "    \n",
    "    soup = BeautifulSoup(html.text, 'lxml')\n",
    "    class_car = soup.find_all(class_=\"span6 list-item car-item\")\n",
    "    class_car2 = soup.find_all(class_=\"span6 list-item car-item margin-left-0\")\n",
    "    price detail-title-right-tagP\n",
    "    for i in class_car:\n",
    "        car_detail_url.append([i.a.attrs['href']])\n",
    "    \n",
    "    for j in class_car2:\n",
    "        car_detail_url.append([j.a.attrs['href']])\n",
    "\n",
    "    return car_detail_url\n"
   ]
  },
  {
   "cell_type": "code",
   "execution_count": 12,
   "id": "1dd5578b",
   "metadata": {},
   "outputs": [
    {
     "name": "stdout",
     "output_type": "stream",
     "text": [
      "访问50次网页，耗时：68.04644918441772\n"
     ]
    }
   ],
   "source": [
    "#经测试，发现是静态html文件，这就比较好办了\n",
    "#获得html文件所有内容\n",
    "\n",
    "session = requests.Session()\n",
    "car_detail_url = []\n",
    "\n",
    "\n",
    "start = time.time()\n",
    "\n",
    "for i in range(1,51,1):\n",
    "    #遍历url:1-50页\n",
    "    url = r\"https://www.renrenche.com/cn/ershouche/pr-10-15/p\" + str(i) + r\"/\"\n",
    "    #print(url)\n",
    "    \n",
    "    html = session.get(url)\n",
    "    #car_detail_url.extend(get_detail_url(html)) \n",
    "    \n",
    "end = time.time()\n",
    "print(f'访问50次网页，耗时：{end - start}')"
   ]
  },
  {
   "cell_type": "code",
   "execution_count": 6,
   "id": "8b512014",
   "metadata": {},
   "outputs": [
    {
     "name": "stdout",
     "output_type": "stream",
     "text": [
      "访问50次网页，耗时：55.11509990692139\n"
     ]
    }
   ],
   "source": [
    "#写入csv文件\n",
    "import pandas as pd\n",
    " \n",
    "name=['car_url']\n",
    "test=pd.DataFrame(columns=name,data=car_detail_url)\n",
    "test.to_csv('car_url.csv',encoding='gbk')"
   ]
  },
  {
   "cell_type": "code",
   "execution_count": null,
   "id": "04439f5d",
   "metadata": {},
   "outputs": [],
   "source": []
  }
 ],
 "metadata": {
  "kernelspec": {
   "display_name": "Python 3 (ipykernel)",
   "language": "python",
   "name": "python3"
  },
  "language_info": {
   "codemirror_mode": {
    "name": "ipython",
    "version": 3
   },
   "file_extension": ".py",
   "mimetype": "text/x-python",
   "name": "python",
   "nbconvert_exporter": "python",
   "pygments_lexer": "ipython3",
   "version": "3.9.7"
  }
 },
 "nbformat": 4,
 "nbformat_minor": 5
}
