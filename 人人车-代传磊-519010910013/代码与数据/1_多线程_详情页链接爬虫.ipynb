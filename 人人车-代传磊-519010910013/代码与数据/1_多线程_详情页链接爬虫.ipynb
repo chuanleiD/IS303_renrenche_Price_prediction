{
 "cells": [
  {
   "cell_type": "code",
   "execution_count": 1,
   "id": "f280c75e",
   "metadata": {},
   "outputs": [],
   "source": [
    "import time\n",
    "import requests\n",
    "import threading\n",
    "from bs4 import BeautifulSoup"
   ]
  },
  {
   "cell_type": "code",
   "execution_count": 2,
   "id": "4e506fc1",
   "metadata": {},
   "outputs": [],
   "source": [
    "global car_detail_url \n",
    "car_detail_url = []"
   ]
  },
  {
   "cell_type": "code",
   "execution_count": 3,
   "id": "1eacfed3",
   "metadata": {},
   "outputs": [],
   "source": [
    "#由概述页获得详情页连接\n",
    "#---------------------------\n",
    "# 传入url概述页连接\n",
    "# 解析出连接添加到全局变量列表中\n",
    "#---------------------------\n",
    "\n",
    "def get_detail_url(url):\n",
    "    global car_detail_url\n",
    "    \n",
    "    html = requests.get(url)\n",
    "    \n",
    "    class_car = []\n",
    "    class_car2 = []\n",
    "    class_car3 = []\n",
    "    \n",
    "    soup = BeautifulSoup(html.text, 'lxml')\n",
    "    class_car = soup.find_all(class_=\"span6 list-item car-item\")\n",
    "    class_car2 = soup.find_all(class_=\"span6 list-item car-item margin-left-0\")\n",
    "    \n",
    "    for i in class_car:\n",
    "        myhref = i.a.attrs['href']\n",
    "        if len(myhref)<33 and len(myhref)>23: \n",
    "            class_car3.append([i.a.attrs['href']])\n",
    "    \n",
    "    for j in class_car2:\n",
    "        myhref = i.a.attrs['href']\n",
    "        if len(myhref)<35 and len(myhref)>23:\n",
    "            class_car3.append([j.a.attrs['href']])\n",
    "    \n",
    "    car_detail_url.extend(class_car3)\n",
    "    #print(url)\n",
    "    #print(class_car3)\n",
    "    #print()\n",
    "    \n",
    "    return"
   ]
  },
  {
   "cell_type": "markdown",
   "id": "dbd7d58c",
   "metadata": {},
   "source": [
    "### 分次解析连接\n",
    "#### 依次输入：价格范围"
   ]
  },
  {
   "cell_type": "code",
   "execution_count": 4,
   "id": "68b13e91",
   "metadata": {},
   "outputs": [
    {
     "name": "stdout",
     "output_type": "stream",
     "text": [
      "访问50次网页，耗时：13.937147855758667 1-2\n",
      "访问50次网页，耗时：15.097347736358643 2-3\n",
      "访问50次网页，耗时：15.937325954437256 3-4\n",
      "访问50次网页，耗时：14.769612550735474 4-5\n",
      "访问50次网页，耗时：14.616761922836304 5-6\n",
      "访问50次网页，耗时：15.709949970245361 6-7\n",
      "访问50次网页，耗时：15.263152122497559 7-8\n",
      "访问50次网页，耗时：15.480851173400879 8-9\n",
      "访问50次网页，耗时：14.944317817687988 9-10\n",
      "访问50次网页，耗时：16.044912576675415 10-11\n",
      "访问50次网页，耗时：15.630639791488647 11-12\n",
      "访问50次网页，耗时：15.387930870056152 12-13\n",
      "访问50次网页，耗时：15.635181188583374 13-14\n",
      "访问50次网页，耗时：15.553651571273804 14-15\n",
      "访问50次网页，耗时：15.380289793014526 15-16\n",
      "访问50次网页，耗时：15.573312520980835 16-17\n",
      "访问50次网页，耗时：15.133018732070923 17-18\n",
      "访问50次网页，耗时：15.052700996398926 18-19\n",
      "访问50次网页，耗时：15.22387146949768 19-20\n",
      "访问50次网页，耗时：14.539573431015015 20-21\n",
      "访问50次网页，耗时：14.3579683303833 21-22\n",
      "访问50次网页，耗时：13.89857268333435 22-23\n",
      "访问50次网页，耗时：13.616458177566528 23-24\n",
      "访问50次网页，耗时：12.976102113723755 24-25\n",
      "访问50次网页，耗时：13.41950011253357 25-26\n",
      "访问50次网页，耗时：14.932356119155884 26-27\n",
      "访问50次网页，耗时：12.934179306030273 27-28\n",
      "访问50次网页，耗时：12.442938804626465 28-29\n",
      "访问50次网页，耗时：9.97215986251831 29-3030-31\n",
      "访问50次网页，耗时：12.386523962020874 31-32\n",
      "访问50次网页，耗时：11.539207220077515 32-33\n",
      "访问50次网页，耗时：10.784178972244263 33-34\n",
      "访问50次网页，耗时：11.877114534378052 34-35\n",
      "访问50次网页，耗时：17.407352924346924 35-36\n",
      "访问50次网页，耗时：34.011521339416504 36-37\n",
      "访问50次网页，耗时：11.097589492797852 37-38\n",
      "访问50次网页，耗时：11.40418529510498 38-39\n",
      "访问50次网页，耗时：11.236154794692993 39-40\n"
     ]
    }
   ],
   "source": [
    "#经测试，发现是静态html文件，这就比较好办了\n",
    "#获得html文件所有内容\n",
    "car_detail_url = []\n",
    "\n",
    "thread_list = []\n",
    "\n",
    "price_range = ['1-2', '2-3', '3-4', '4-5', '5-6', '6-7', '7-8', '8-9', '9-10', \n",
    "               '10-11', '11-12', '12-13', '13-14', '14-15', '15-16', '16-17', '17-18', '18-19', '19-20', \n",
    "               '20-21', '21-22', '22-23', '23-24', '24-25', '25-26', '26-27', '27-28', '28-29', '29-30'\n",
    "               '30-31', '31-32', '32-33', '33-34', '34-35', '35-36', '36-37', '37-38', '38-39', '39-40']\n",
    "\n",
    "\n",
    "for price in price_range:\n",
    "    start = time.time()\n",
    "    for i in range(1,51,1):\n",
    "        url = r\"https://www.renrenche.com/cn/ershouche/pr-\" + price + \"/p\" + str(i) + r\"/\"\n",
    "        thread = threading.Thread(target=get_detail_url, args=(url,))\n",
    "        thread_list.append(thread)\n",
    "        thread.start()\n",
    "\n",
    "    for thread in thread_list:\n",
    "        thread.join()\n",
    "\n",
    "    end = time.time()\n",
    "    print(f'访问50次网页，耗时：{end - start}', price)"
   ]
  },
  {
   "cell_type": "markdown",
   "id": "4394fbab",
   "metadata": {},
   "source": [
    "### 写入csv文件"
   ]
  },
  {
   "cell_type": "code",
   "execution_count": 5,
   "id": "69c4d5a2",
   "metadata": {},
   "outputs": [
    {
     "name": "stdout",
     "output_type": "stream",
     "text": [
      "写入完成\n"
     ]
    }
   ],
   "source": [
    "#写入csv文件\n",
    "import pandas as pd\n",
    " \n",
    "name=['car_url']\n",
    "test=pd.DataFrame(columns=name,data=car_detail_url)\n",
    "test.to_csv('data/car_url.csv', encoding='gbk')\n",
    "\n",
    "print(\"写入完成\")"
   ]
  },
  {
   "cell_type": "code",
   "execution_count": 7,
   "id": "39c8ec66",
   "metadata": {},
   "outputs": [
    {
     "name": "stdout",
     "output_type": "stream",
     "text": [
      "['/sh/car/75407afda78d8e21', '/huizhou/car/14bca086b2ec9ea8', '/sjz/car/73166ab39e82bd71', '/bj/car/3c737d67ab496644', '/nb/car/8f4bf512a977e50b', '/huizhou/car/ef483dc1c1ae3217']\n",
      "Finish!\n",
      "处理完成\n"
     ]
    }
   ],
   "source": [
    "import numpy as np\n",
    "\n",
    "#用于清理url中的无效url\n",
    "def clear_url_data():\n",
    "    data = \"data/car_url.csv\"\n",
    "    origin_table = pd.read_csv(data, usecols=[1], header=None) # 没有表头\n",
    "    origin_table = np.array(origin_table)\n",
    "\n",
    "    new_table = []\n",
    "    for i in origin_table:\n",
    "        url = i[0]\n",
    "        if url == \"/cn/sales?fromSource=pc-carlist-banner\":\n",
    "            continue\n",
    "        if len(url)>15:\n",
    "            new_table.append(url)\n",
    "\n",
    "        \n",
    "    print(new_table[0:6])\n",
    "\n",
    "    name=['car_url']\n",
    "    test=pd.DataFrame(columns=name,data=new_table)\n",
    "    test.to_csv('data/car_url_new.csv',encoding='gbk')\n",
    "    print(\"Finish!\")\n",
    "    \n",
    "clear_url_data()\n",
    "print(\"处理完成\")"
   ]
  },
  {
   "cell_type": "code",
   "execution_count": null,
   "id": "a9063a9b",
   "metadata": {},
   "outputs": [],
   "source": []
  }
 ],
 "metadata": {
  "kernelspec": {
   "display_name": "Python 3 (ipykernel)",
   "language": "python",
   "name": "python3"
  },
  "language_info": {
   "codemirror_mode": {
    "name": "ipython",
    "version": 3
   },
   "file_extension": ".py",
   "mimetype": "text/x-python",
   "name": "python",
   "nbconvert_exporter": "python",
   "pygments_lexer": "ipython3",
   "version": "3.9.7"
  }
 },
 "nbformat": 4,
 "nbformat_minor": 5
}
