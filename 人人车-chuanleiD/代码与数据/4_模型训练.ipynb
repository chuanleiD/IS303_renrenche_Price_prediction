{
 "cells": [
  {
   "cell_type": "code",
   "execution_count": 1,
   "id": "94e03e52",
   "metadata": {},
   "outputs": [],
   "source": [
    "import pandas as pd\n"
   ]
  },
  {
   "cell_type": "code",
   "execution_count": 2,
   "id": "6e6d9419",
   "metadata": {},
   "outputs": [
    {
     "data": {
      "text/html": [
       "<div>\n",
       "<style scoped>\n",
       "    .dataframe tbody tr th:only-of-type {\n",
       "        vertical-align: middle;\n",
       "    }\n",
       "\n",
       "    .dataframe tbody tr th {\n",
       "        vertical-align: top;\n",
       "    }\n",
       "\n",
       "    .dataframe thead th {\n",
       "        text-align: right;\n",
       "    }\n",
       "</style>\n",
       "<table border=\"1\" class=\"dataframe\">\n",
       "  <thead>\n",
       "    <tr style=\"text-align: right;\">\n",
       "      <th></th>\n",
       "      <th>二手车价格</th>\n",
       "      <th>品牌</th>\n",
       "      <th>新车购入价格</th>\n",
       "      <th>行驶里程</th>\n",
       "      <th>使用时间</th>\n",
       "      <th>车牌所在地</th>\n",
       "      <th>外迁标准1</th>\n",
       "      <th>外迁标准2</th>\n",
       "      <th>变速箱</th>\n",
       "      <th>过户次数</th>\n",
       "      <th>上架时间</th>\n",
       "      <th>超值</th>\n",
       "      <th>急售</th>\n",
       "      <th>0过户</th>\n",
       "      <th>准新车</th>\n",
       "      <th>综合车况</th>\n",
       "      <th>外观检测</th>\n",
       "    </tr>\n",
       "  </thead>\n",
       "  <tbody>\n",
       "    <tr>\n",
       "      <th>0</th>\n",
       "      <td>1.00</td>\n",
       "      <td>1</td>\n",
       "      <td>4.89</td>\n",
       "      <td>7.94</td>\n",
       "      <td>86</td>\n",
       "      <td>1</td>\n",
       "      <td>0</td>\n",
       "      <td>0</td>\n",
       "      <td>0</td>\n",
       "      <td>1</td>\n",
       "      <td>3</td>\n",
       "      <td>0</td>\n",
       "      <td>1</td>\n",
       "      <td>0</td>\n",
       "      <td>0</td>\n",
       "      <td>3</td>\n",
       "      <td>2</td>\n",
       "    </tr>\n",
       "    <tr>\n",
       "      <th>1</th>\n",
       "      <td>1.00</td>\n",
       "      <td>1</td>\n",
       "      <td>13.87</td>\n",
       "      <td>10.71</td>\n",
       "      <td>142</td>\n",
       "      <td>1</td>\n",
       "      <td>0</td>\n",
       "      <td>1</td>\n",
       "      <td>1</td>\n",
       "      <td>1</td>\n",
       "      <td>3</td>\n",
       "      <td>1</td>\n",
       "      <td>0</td>\n",
       "      <td>0</td>\n",
       "      <td>0</td>\n",
       "      <td>3</td>\n",
       "      <td>0</td>\n",
       "    </tr>\n",
       "    <tr>\n",
       "      <th>2</th>\n",
       "      <td>1.88</td>\n",
       "      <td>1</td>\n",
       "      <td>16.16</td>\n",
       "      <td>9.12</td>\n",
       "      <td>148</td>\n",
       "      <td>1</td>\n",
       "      <td>0</td>\n",
       "      <td>1</td>\n",
       "      <td>1</td>\n",
       "      <td>4</td>\n",
       "      <td>3</td>\n",
       "      <td>0</td>\n",
       "      <td>0</td>\n",
       "      <td>0</td>\n",
       "      <td>0</td>\n",
       "      <td>3</td>\n",
       "      <td>4</td>\n",
       "    </tr>\n",
       "    <tr>\n",
       "      <th>3</th>\n",
       "      <td>1.40</td>\n",
       "      <td>0</td>\n",
       "      <td>9.17</td>\n",
       "      <td>10.07</td>\n",
       "      <td>144</td>\n",
       "      <td>0</td>\n",
       "      <td>0</td>\n",
       "      <td>1</td>\n",
       "      <td>0</td>\n",
       "      <td>0</td>\n",
       "      <td>3</td>\n",
       "      <td>1</td>\n",
       "      <td>1</td>\n",
       "      <td>1</td>\n",
       "      <td>0</td>\n",
       "      <td>2</td>\n",
       "      <td>5</td>\n",
       "    </tr>\n",
       "    <tr>\n",
       "      <th>4</th>\n",
       "      <td>1.68</td>\n",
       "      <td>0</td>\n",
       "      <td>6.98</td>\n",
       "      <td>14.24</td>\n",
       "      <td>77</td>\n",
       "      <td>0</td>\n",
       "      <td>0</td>\n",
       "      <td>1</td>\n",
       "      <td>0</td>\n",
       "      <td>1</td>\n",
       "      <td>3</td>\n",
       "      <td>1</td>\n",
       "      <td>0</td>\n",
       "      <td>0</td>\n",
       "      <td>0</td>\n",
       "      <td>3</td>\n",
       "      <td>0</td>\n",
       "    </tr>\n",
       "  </tbody>\n",
       "</table>\n",
       "</div>"
      ],
      "text/plain": [
       "   二手车价格  品牌  新车购入价格   行驶里程  使用时间  车牌所在地  外迁标准1  外迁标准2  变速箱  过户次数  上架时间  超值  \\\n",
       "0   1.00   1    4.89   7.94    86      1      0      0    0     1     3   0   \n",
       "1   1.00   1   13.87  10.71   142      1      0      1    1     1     3   1   \n",
       "2   1.88   1   16.16   9.12   148      1      0      1    1     4     3   0   \n",
       "3   1.40   0    9.17  10.07   144      0      0      1    0     0     3   1   \n",
       "4   1.68   0    6.98  14.24    77      0      0      1    0     1     3   1   \n",
       "\n",
       "   急售  0过户  准新车  综合车况  外观检测  \n",
       "0   1    0    0     3     2  \n",
       "1   0    0    0     3     0  \n",
       "2   0    0    0     3     4  \n",
       "3   1    1    0     2     5  \n",
       "4   0    0    0     3     0  "
      ]
     },
     "execution_count": 2,
     "metadata": {},
     "output_type": "execute_result"
    }
   ],
   "source": [
    "data = pd.read_csv(r\"data/car_detail_new.csv\", usecols=[1,2,3,4,5,6,7,8,9,10,11,12,13,14,15,16,17], encoding=\"gbk\")\n",
    "data.head()"
   ]
  },
  {
   "cell_type": "markdown",
   "id": "e0f1d2b7",
   "metadata": {},
   "source": [
    "## 数据预处理(中文有关处理见“爬虫数据处理.ipynb”)"
   ]
  },
  {
   "cell_type": "code",
   "execution_count": 3,
   "id": "96de42ce",
   "metadata": {},
   "outputs": [],
   "source": [
    "#数据预处理，在“爬虫数据处理.ipynb”文件中实现\n"
   ]
  },
  {
   "cell_type": "code",
   "execution_count": 4,
   "id": "e02ebb53",
   "metadata": {},
   "outputs": [
    {
     "name": "stdout",
     "output_type": "stream",
     "text": [
      "Number of rows    : 51199\n",
      "Number of columns : 17\n"
     ]
    }
   ],
   "source": [
    "print (\"Number of rows    :\",data.shape[0])\n",
    "print (\"Number of columns :\",data.shape[1])"
   ]
  },
  {
   "cell_type": "code",
   "execution_count": 5,
   "id": "9ff610a0",
   "metadata": {},
   "outputs": [
    {
     "data": {
      "text/html": [
       "<div>\n",
       "<style scoped>\n",
       "    .dataframe tbody tr th:only-of-type {\n",
       "        vertical-align: middle;\n",
       "    }\n",
       "\n",
       "    .dataframe tbody tr th {\n",
       "        vertical-align: top;\n",
       "    }\n",
       "\n",
       "    .dataframe thead th {\n",
       "        text-align: right;\n",
       "    }\n",
       "</style>\n",
       "<table border=\"1\" class=\"dataframe\">\n",
       "  <thead>\n",
       "    <tr style=\"text-align: right;\">\n",
       "      <th></th>\n",
       "      <th>二手车价格</th>\n",
       "      <th>品牌</th>\n",
       "      <th>新车购入价格</th>\n",
       "      <th>行驶里程</th>\n",
       "      <th>使用时间</th>\n",
       "      <th>车牌所在地</th>\n",
       "      <th>外迁标准1</th>\n",
       "      <th>外迁标准2</th>\n",
       "      <th>变速箱</th>\n",
       "      <th>过户次数</th>\n",
       "      <th>上架时间</th>\n",
       "      <th>超值</th>\n",
       "      <th>急售</th>\n",
       "      <th>0过户</th>\n",
       "      <th>准新车</th>\n",
       "      <th>综合车况</th>\n",
       "      <th>外观检测</th>\n",
       "    </tr>\n",
       "  </thead>\n",
       "  <tbody>\n",
       "    <tr>\n",
       "      <th>count</th>\n",
       "      <td>51199.000000</td>\n",
       "      <td>51199.000000</td>\n",
       "      <td>51199.000000</td>\n",
       "      <td>51199.000000</td>\n",
       "      <td>51199.000000</td>\n",
       "      <td>51199.000000</td>\n",
       "      <td>51199.000000</td>\n",
       "      <td>51199.000000</td>\n",
       "      <td>51199.000000</td>\n",
       "      <td>51199.000000</td>\n",
       "      <td>51199.000000</td>\n",
       "      <td>51199.000000</td>\n",
       "      <td>51199.000000</td>\n",
       "      <td>51199.000000</td>\n",
       "      <td>51199.000000</td>\n",
       "      <td>51199.000000</td>\n",
       "      <td>51199.000000</td>\n",
       "    </tr>\n",
       "    <tr>\n",
       "      <th>mean</th>\n",
       "      <td>15.091028</td>\n",
       "      <td>0.759546</td>\n",
       "      <td>31.079437</td>\n",
       "      <td>7.474026</td>\n",
       "      <td>68.169984</td>\n",
       "      <td>0.823805</td>\n",
       "      <td>0.012110</td>\n",
       "      <td>0.265103</td>\n",
       "      <td>0.916151</td>\n",
       "      <td>0.452567</td>\n",
       "      <td>33.536456</td>\n",
       "      <td>0.805973</td>\n",
       "      <td>0.275767</td>\n",
       "      <td>0.702846</td>\n",
       "      <td>0.038184</td>\n",
       "      <td>2.587277</td>\n",
       "      <td>2.464716</td>\n",
       "    </tr>\n",
       "    <tr>\n",
       "      <th>std</th>\n",
       "      <td>9.209838</td>\n",
       "      <td>0.427363</td>\n",
       "      <td>17.613882</td>\n",
       "      <td>4.857677</td>\n",
       "      <td>35.621234</td>\n",
       "      <td>0.725870</td>\n",
       "      <td>0.109376</td>\n",
       "      <td>0.441392</td>\n",
       "      <td>0.277164</td>\n",
       "      <td>0.879743</td>\n",
       "      <td>32.929163</td>\n",
       "      <td>0.395454</td>\n",
       "      <td>0.446904</td>\n",
       "      <td>0.457009</td>\n",
       "      <td>0.191643</td>\n",
       "      <td>0.751988</td>\n",
       "      <td>3.272230</td>\n",
       "    </tr>\n",
       "    <tr>\n",
       "      <th>min</th>\n",
       "      <td>1.000000</td>\n",
       "      <td>0.000000</td>\n",
       "      <td>2.610000</td>\n",
       "      <td>0.010000</td>\n",
       "      <td>12.000000</td>\n",
       "      <td>0.000000</td>\n",
       "      <td>0.000000</td>\n",
       "      <td>0.000000</td>\n",
       "      <td>0.000000</td>\n",
       "      <td>0.000000</td>\n",
       "      <td>1.000000</td>\n",
       "      <td>0.000000</td>\n",
       "      <td>0.000000</td>\n",
       "      <td>0.000000</td>\n",
       "      <td>0.000000</td>\n",
       "      <td>1.000000</td>\n",
       "      <td>0.000000</td>\n",
       "    </tr>\n",
       "    <tr>\n",
       "      <th>25%</th>\n",
       "      <td>7.600000</td>\n",
       "      <td>1.000000</td>\n",
       "      <td>17.130000</td>\n",
       "      <td>3.820000</td>\n",
       "      <td>41.000000</td>\n",
       "      <td>0.000000</td>\n",
       "      <td>0.000000</td>\n",
       "      <td>0.000000</td>\n",
       "      <td>1.000000</td>\n",
       "      <td>0.000000</td>\n",
       "      <td>7.000000</td>\n",
       "      <td>1.000000</td>\n",
       "      <td>0.000000</td>\n",
       "      <td>0.000000</td>\n",
       "      <td>0.000000</td>\n",
       "      <td>2.000000</td>\n",
       "      <td>0.000000</td>\n",
       "    </tr>\n",
       "    <tr>\n",
       "      <th>50%</th>\n",
       "      <td>14.000000</td>\n",
       "      <td>1.000000</td>\n",
       "      <td>28.200000</td>\n",
       "      <td>6.720000</td>\n",
       "      <td>62.000000</td>\n",
       "      <td>1.000000</td>\n",
       "      <td>0.000000</td>\n",
       "      <td>0.000000</td>\n",
       "      <td>1.000000</td>\n",
       "      <td>0.000000</td>\n",
       "      <td>30.000000</td>\n",
       "      <td>1.000000</td>\n",
       "      <td>0.000000</td>\n",
       "      <td>1.000000</td>\n",
       "      <td>0.000000</td>\n",
       "      <td>3.000000</td>\n",
       "      <td>1.000000</td>\n",
       "    </tr>\n",
       "    <tr>\n",
       "      <th>75%</th>\n",
       "      <td>21.000000</td>\n",
       "      <td>1.000000</td>\n",
       "      <td>41.640000</td>\n",
       "      <td>10.190000</td>\n",
       "      <td>92.000000</td>\n",
       "      <td>1.000000</td>\n",
       "      <td>0.000000</td>\n",
       "      <td>1.000000</td>\n",
       "      <td>1.000000</td>\n",
       "      <td>1.000000</td>\n",
       "      <td>60.000000</td>\n",
       "      <td>1.000000</td>\n",
       "      <td>1.000000</td>\n",
       "      <td>1.000000</td>\n",
       "      <td>0.000000</td>\n",
       "      <td>3.000000</td>\n",
       "      <td>4.000000</td>\n",
       "    </tr>\n",
       "    <tr>\n",
       "      <th>max</th>\n",
       "      <td>40.000000</td>\n",
       "      <td>1.000000</td>\n",
       "      <td>99.750000</td>\n",
       "      <td>52.720000</td>\n",
       "      <td>185.000000</td>\n",
       "      <td>2.000000</td>\n",
       "      <td>1.000000</td>\n",
       "      <td>1.000000</td>\n",
       "      <td>1.000000</td>\n",
       "      <td>10.000000</td>\n",
       "      <td>120.000000</td>\n",
       "      <td>1.000000</td>\n",
       "      <td>1.000000</td>\n",
       "      <td>1.000000</td>\n",
       "      <td>1.000000</td>\n",
       "      <td>3.000000</td>\n",
       "      <td>28.000000</td>\n",
       "    </tr>\n",
       "  </tbody>\n",
       "</table>\n",
       "</div>"
      ],
      "text/plain": [
       "              二手车价格            品牌        新车购入价格          行驶里程          使用时间  \\\n",
       "count  51199.000000  51199.000000  51199.000000  51199.000000  51199.000000   \n",
       "mean      15.091028      0.759546     31.079437      7.474026     68.169984   \n",
       "std        9.209838      0.427363     17.613882      4.857677     35.621234   \n",
       "min        1.000000      0.000000      2.610000      0.010000     12.000000   \n",
       "25%        7.600000      1.000000     17.130000      3.820000     41.000000   \n",
       "50%       14.000000      1.000000     28.200000      6.720000     62.000000   \n",
       "75%       21.000000      1.000000     41.640000     10.190000     92.000000   \n",
       "max       40.000000      1.000000     99.750000     52.720000    185.000000   \n",
       "\n",
       "              车牌所在地         外迁标准1         外迁标准2           变速箱          过户次数  \\\n",
       "count  51199.000000  51199.000000  51199.000000  51199.000000  51199.000000   \n",
       "mean       0.823805      0.012110      0.265103      0.916151      0.452567   \n",
       "std        0.725870      0.109376      0.441392      0.277164      0.879743   \n",
       "min        0.000000      0.000000      0.000000      0.000000      0.000000   \n",
       "25%        0.000000      0.000000      0.000000      1.000000      0.000000   \n",
       "50%        1.000000      0.000000      0.000000      1.000000      0.000000   \n",
       "75%        1.000000      0.000000      1.000000      1.000000      1.000000   \n",
       "max        2.000000      1.000000      1.000000      1.000000     10.000000   \n",
       "\n",
       "               上架时间            超值            急售           0过户           准新车  \\\n",
       "count  51199.000000  51199.000000  51199.000000  51199.000000  51199.000000   \n",
       "mean      33.536456      0.805973      0.275767      0.702846      0.038184   \n",
       "std       32.929163      0.395454      0.446904      0.457009      0.191643   \n",
       "min        1.000000      0.000000      0.000000      0.000000      0.000000   \n",
       "25%        7.000000      1.000000      0.000000      0.000000      0.000000   \n",
       "50%       30.000000      1.000000      0.000000      1.000000      0.000000   \n",
       "75%       60.000000      1.000000      1.000000      1.000000      0.000000   \n",
       "max      120.000000      1.000000      1.000000      1.000000      1.000000   \n",
       "\n",
       "               综合车况          外观检测  \n",
       "count  51199.000000  51199.000000  \n",
       "mean       2.587277      2.464716  \n",
       "std        0.751988      3.272230  \n",
       "min        1.000000      0.000000  \n",
       "25%        2.000000      0.000000  \n",
       "50%        3.000000      1.000000  \n",
       "75%        3.000000      4.000000  \n",
       "max        3.000000     28.000000  "
      ]
     },
     "execution_count": 5,
     "metadata": {},
     "output_type": "execute_result"
    }
   ],
   "source": [
    "data.describe()"
   ]
  },
  {
   "cell_type": "code",
   "execution_count": 6,
   "id": "cfa2cafe",
   "metadata": {},
   "outputs": [
    {
     "name": "stdout",
     "output_type": "stream",
     "text": [
      "<class 'pandas.core.frame.DataFrame'>\n",
      "RangeIndex: 51199 entries, 0 to 51198\n",
      "Data columns (total 17 columns):\n",
      " #   Column  Non-Null Count  Dtype  \n",
      "---  ------  --------------  -----  \n",
      " 0   二手车价格   51199 non-null  float64\n",
      " 1   品牌      51199 non-null  int64  \n",
      " 2   新车购入价格  51199 non-null  float64\n",
      " 3   行驶里程    51199 non-null  float64\n",
      " 4   使用时间    51199 non-null  int64  \n",
      " 5   车牌所在地   51199 non-null  int64  \n",
      " 6   外迁标准1   51199 non-null  int64  \n",
      " 7   外迁标准2   51199 non-null  int64  \n",
      " 8   变速箱     51199 non-null  int64  \n",
      " 9   过户次数    51199 non-null  int64  \n",
      " 10  上架时间    51199 non-null  int64  \n",
      " 11  超值      51199 non-null  int64  \n",
      " 12  急售      51199 non-null  int64  \n",
      " 13  0过户     51199 non-null  int64  \n",
      " 14  准新车     51199 non-null  int64  \n",
      " 15  综合车况    51199 non-null  int64  \n",
      " 16  外观检测    51199 non-null  int64  \n",
      "dtypes: float64(3), int64(14)\n",
      "memory usage: 6.6 MB\n",
      "None\n"
     ]
    }
   ],
   "source": [
    "print(data.info())"
   ]
  },
  {
   "cell_type": "code",
   "execution_count": 7,
   "id": "c4efd28a",
   "metadata": {},
   "outputs": [
    {
     "name": "stdout",
     "output_type": "stream",
     "text": [
      "值缺失情况：\n",
      "\n",
      "二手车价格     0\n",
      "品牌        0\n",
      "新车购入价格    0\n",
      "行驶里程      0\n",
      "使用时间      0\n",
      "车牌所在地     0\n",
      "外迁标准1     0\n",
      "外迁标准2     0\n",
      "变速箱       0\n",
      "过户次数      0\n",
      "上架时间      0\n",
      "超值        0\n",
      "急售        0\n",
      "0过户       0\n",
      "准新车       0\n",
      "综合车况      0\n",
      "外观检测      0\n",
      "dtype: int64\n"
     ]
    }
   ],
   "source": [
    "print(\"值缺失情况：\\n\")\n",
    "print(data.isnull().sum())"
   ]
  },
  {
   "cell_type": "code",
   "execution_count": null,
   "id": "45662a47",
   "metadata": {},
   "outputs": [],
   "source": []
  },
  {
   "cell_type": "code",
   "execution_count": null,
   "id": "82db4774",
   "metadata": {},
   "outputs": [],
   "source": []
  },
  {
   "cell_type": "markdown",
   "id": "1278da2e",
   "metadata": {},
   "source": [
    "## 图像展示"
   ]
  },
  {
   "cell_type": "code",
   "execution_count": null,
   "id": "230b7d47",
   "metadata": {},
   "outputs": [],
   "source": []
  },
  {
   "cell_type": "code",
   "execution_count": null,
   "id": "c76774a4",
   "metadata": {},
   "outputs": [],
   "source": []
  },
  {
   "cell_type": "markdown",
   "id": "b66a7b5f",
   "metadata": {},
   "source": [
    "# 训练部分"
   ]
  },
  {
   "cell_type": "markdown",
   "id": "a1f71990",
   "metadata": {},
   "source": [
    "## 1.训练集、测试集划分"
   ]
  },
  {
   "cell_type": "code",
   "execution_count": 8,
   "id": "6c414532",
   "metadata": {},
   "outputs": [
    {
     "name": "stdout",
     "output_type": "stream",
     "text": [
      "Number of train    : 35839\n",
      "Number of test    : 15360\n"
     ]
    }
   ],
   "source": [
    "from sklearn.model_selection import train_test_split\n",
    "import numpy as np\n",
    "\n",
    "train , test = train_test_split(data, test_size = .3, random_state = 666)\n",
    "\n",
    "print (\"Number of train    :\",train.shape[0])\n",
    "print (\"Number of test    :\",test.shape[0])"
   ]
  },
  {
   "cell_type": "markdown",
   "id": "bdfeada9",
   "metadata": {},
   "source": [
    "## 2.输入、输出划分"
   ]
  },
  {
   "cell_type": "code",
   "execution_count": 9,
   "id": "b3fbfa9c",
   "metadata": {},
   "outputs": [
    {
     "name": "stdout",
     "output_type": "stream",
     "text": [
      "输入数据：\n",
      "[[ 0.    9.26  1.68 ...  1.    0.    3.  ]\n",
      " [ 0.   27.12  6.3  ...  1.    0.    3.  ]\n",
      " [ 1.   54.23 12.95 ...  0.    0.    2.  ]\n",
      " ...\n",
      " [ 1.   14.06 12.41 ...  1.    0.    3.  ]\n",
      " [ 1.   59.77 10.22 ...  1.    0.    3.  ]\n",
      " [ 1.   15.07  4.11 ...  1.    0.    3.  ]]\n",
      "\n",
      "输出数据：\n",
      "[ 5.76 13.5  22.8  ...  2.2  22.1   6.  ]\n"
     ]
    }
   ],
   "source": [
    "x_train = train.iloc[:, 1:-1].to_numpy()#全部行，第二至最后一列\n",
    "x_test = test.iloc[:, 1:-1].to_numpy()\n",
    "print(\"输入数据：\")\n",
    "print(x_train)\n",
    "\n",
    "y_train = train.iloc[:, 0].to_numpy()#全部行，第一列\n",
    "y_test = test.iloc[:, 0].to_numpy()\n",
    "print(\"\\n输出数据：\")\n",
    "print(y_train)"
   ]
  },
  {
   "cell_type": "markdown",
   "id": "7b700655",
   "metadata": {},
   "source": [
    "## MAPE平均绝对百分比误差函数"
   ]
  },
  {
   "cell_type": "code",
   "execution_count": 10,
   "id": "07ba8973",
   "metadata": {},
   "outputs": [],
   "source": [
    "def mean_absolute_percentage_error(y_true, y_pred): \n",
    "    return np.mean(np.abs((y_true - y_pred) / y_true)) * 100"
   ]
  },
  {
   "cell_type": "markdown",
   "id": "c4f896d4",
   "metadata": {},
   "source": [
    "## 线性回归"
   ]
  },
  {
   "cell_type": "code",
   "execution_count": 11,
   "id": "77697674",
   "metadata": {},
   "outputs": [],
   "source": [
    "from sklearn.metrics import r2_score,mean_squared_error,mean_absolute_error\n",
    "from sklearn.linear_model import LinearRegression\n",
    "\n",
    "#LinearRegression\n",
    "lr = LinearRegression()\n",
    "lr.fit(x_train, y_train)\n",
    "lr_y_pred = lr.predict(x_test)"
   ]
  },
  {
   "cell_type": "code",
   "execution_count": 12,
   "id": "aa6f43f3",
   "metadata": {
    "scrolled": true
   },
   "outputs": [
    {
     "name": "stdout",
     "output_type": "stream",
     "text": [
      "The value of default measurement of LinearRegression is 0.7656556644426913\n",
      "The mean squared error of LinearRegression is 19.725482473721062\n",
      "The mean absoluate error of LinearRegression is 3.2817077608899243\n",
      "The mean absoluate percentage error of LinearRegression is 34.57563331493244%\n",
      "\n",
      "The value of R-squared of LinearRegression is 0.7656556644426913\n",
      "\n",
      "真实值\n",
      "[22.8  16.88 22.   ... 18.    1.7  23.8 ]\n",
      "预测值\n",
      "[19.51092565 15.26058353 25.70679184 ... 16.32159304 -1.1956383\n",
      " 16.66371176]\n"
     ]
    }
   ],
   "source": [
    "print(\"The value of default measurement of LinearRegression is {sc}\".format(sc=lr.score(x_test,y_test)))\n",
    "print(\"The mean squared error of LinearRegression is {}\".format(mean_squared_error(y_test,lr_y_pred)))\n",
    "print(\"The mean absoluate error of LinearRegression is {}\".format(mean_absolute_error(y_test, lr_y_pred)))\n",
    "print(\"The mean absoluate percentage error of LinearRegression is {}%\".format(mean_absolute_percentage_error(y_test, lr_y_pred)))\n",
    "print()\n",
    "print(\"The value of R-squared of LinearRegression is {}\".format(r2_score(y_test,lr_y_pred)))\n",
    "\n",
    "print('\\n真实值')\n",
    "print(y_test)\n",
    "print('预测值')\n",
    "print(lr_y_pred)"
   ]
  },
  {
   "cell_type": "markdown",
   "id": "7169d0c3",
   "metadata": {},
   "source": [
    "## 岭回归"
   ]
  },
  {
   "cell_type": "code",
   "execution_count": 13,
   "id": "1a60ecd0",
   "metadata": {},
   "outputs": [],
   "source": [
    "from sklearn.linear_model import Ridge\n",
    "\n",
    "\n",
    "ridge = Ridge()\n",
    "ridge.fit(x_train, y_train)\n",
    "ridge_y_pred = ridge.predict(x_test)"
   ]
  },
  {
   "cell_type": "code",
   "execution_count": 14,
   "id": "26668609",
   "metadata": {},
   "outputs": [
    {
     "name": "stdout",
     "output_type": "stream",
     "text": [
      "The value of default measurement of ridge is 0.7656571049196852\n",
      "The mean squared error of ridge is 19.7253612243483\n",
      "The mean absoluate error of ridge is 3.2817335405036148\n",
      "The mean absoluate percentage error of ridge is 34.57595749426137%\n",
      "\n",
      "The value of R-squared of ridge is 0.7656571049196852\n",
      "\n",
      "真实值\n",
      "[22.8  16.88 22.   ... 18.    1.7  23.8 ]\n",
      "预测值\n",
      "[19.51086325 15.2610298  25.70687385 ... 16.32208391 -1.19437257\n",
      " 16.66476606]\n"
     ]
    }
   ],
   "source": [
    "print(\"The value of default measurement of ridge is {sc}\".format(sc=ridge.score(x_test,y_test)))\n",
    "print(\"The mean squared error of ridge is {}\".format(mean_squared_error(y_test,ridge_y_pred)))\n",
    "print(\"The mean absoluate error of ridge is {}\".format(mean_absolute_error(y_test, ridge_y_pred)))\n",
    "print(\"The mean absoluate percentage error of ridge is {}%\".format(mean_absolute_percentage_error(y_test, ridge_y_pred)))\n",
    "print()\n",
    "print(\"The value of R-squared of ridge is {}\".format(r2_score(y_test,ridge_y_pred)))\n",
    "\n",
    "print('\\n真实值')\n",
    "print(y_test)\n",
    "print('预测值')\n",
    "print(ridge_y_pred)"
   ]
  },
  {
   "cell_type": "markdown",
   "id": "1e229584",
   "metadata": {},
   "source": [
    "## LASSO回归"
   ]
  },
  {
   "cell_type": "code",
   "execution_count": 15,
   "id": "f702c64c",
   "metadata": {},
   "outputs": [],
   "source": [
    "from sklearn.linear_model import Lasso\n",
    "\n",
    "\n",
    "lasso = Lasso()\n",
    "lasso.fit(x_train, y_train)\n",
    "lasso_y_pred = lasso.predict(x_test)"
   ]
  },
  {
   "cell_type": "code",
   "execution_count": 16,
   "id": "28513251",
   "metadata": {},
   "outputs": [
    {
     "name": "stdout",
     "output_type": "stream",
     "text": [
      "The value of default measurement of lasso is 0.7387711426822093\n",
      "The mean squared error of lasso is 21.988435241662295\n",
      "The mean absoluate error of lasso is 3.434203953728842\n",
      "The mean absoluate percentage error of lasso is 35.01686485952764%\n",
      "\n",
      "The value of R-squared of lasso is 0.7387711426822093\n",
      "\n",
      "真实值\n",
      "[22.8  16.88 22.   ... 18.    1.7  23.8 ]\n",
      "预测值\n",
      "[21.31342057 15.08338877 25.43137009 ... 15.87126475  1.92127304\n",
      " 18.43933799]\n"
     ]
    }
   ],
   "source": [
    "print(\"The value of default measurement of lasso is {sc}\".format(sc=lasso.score(x_test,y_test)))\n",
    "print(\"The mean squared error of lasso is {}\".format(mean_squared_error(y_test,lasso_y_pred)))\n",
    "print(\"The mean absoluate error of lasso is {}\".format(mean_absolute_error(y_test, lasso_y_pred)))\n",
    "print(\"The mean absoluate percentage error of lasso is {}%\".format(mean_absolute_percentage_error(y_test, lasso_y_pred)))\n",
    "print()\n",
    "print(\"The value of R-squared of lasso is {}\".format(r2_score(y_test,lasso_y_pred)))\n",
    "\n",
    "print('\\n真实值')\n",
    "print(y_test)\n",
    "print('预测值')\n",
    "print(lasso_y_pred)"
   ]
  },
  {
   "cell_type": "markdown",
   "id": "3dca890e",
   "metadata": {},
   "source": [
    "## 回归树"
   ]
  },
  {
   "cell_type": "code",
   "execution_count": 17,
   "id": "43b1da74",
   "metadata": {},
   "outputs": [],
   "source": [
    "from sklearn.tree import DecisionTreeRegressor    \n",
    "reg_tree = DecisionTreeRegressor(criterion = \"mse\",min_samples_leaf = 5)\n",
    "reg_tree.fit(x_train, y_train)\n",
    "reg_tree_y_pred = reg_tree.predict(x_test)\n"
   ]
  },
  {
   "cell_type": "code",
   "execution_count": 18,
   "id": "236cd5e0",
   "metadata": {},
   "outputs": [
    {
     "name": "stdout",
     "output_type": "stream",
     "text": [
      "The value of default measurement of reg_tree is 0.900565308844123\n",
      "The mean squared error of reg_tree is 8.36972335179598\n",
      "The mean absoluate error of reg_tree is 1.8927947219122025\n",
      "The mean absoluate percentage error of reg_tree is 16.070449517246068%\n",
      "\n",
      "The value of R-squared of reg_tree is 0.900565308844123\n",
      "\n",
      "真实值\n",
      "[22.8  16.88 22.   ... 18.    1.7  23.8 ]\n",
      "预测值\n",
      "[23.34666667 11.885      24.18333333 ... 17.28666667  2.18\n",
      " 20.772     ]\n"
     ]
    }
   ],
   "source": [
    "print(\"The value of default measurement of reg_tree is {sc}\".format(sc=reg_tree.score(x_test,y_test)))\n",
    "print(\"The mean squared error of reg_tree is {}\".format(mean_squared_error(y_test,reg_tree_y_pred)))\n",
    "print(\"The mean absoluate error of reg_tree is {}\".format(mean_absolute_error(y_test, reg_tree_y_pred)))\n",
    "print(\"The mean absoluate percentage error of reg_tree is {}%\".format(mean_absolute_percentage_error(y_test, reg_tree_y_pred)))\n",
    "print()\n",
    "print(\"The value of R-squared of reg_tree is {}\".format(r2_score(y_test,reg_tree_y_pred)))\n",
    "\n",
    "print('\\n真实值')\n",
    "print(y_test)\n",
    "print('预测值')\n",
    "print(reg_tree_y_pred)"
   ]
  },
  {
   "cell_type": "markdown",
   "id": "abe110ff",
   "metadata": {},
   "source": [
    "## 随机森林回归"
   ]
  },
  {
   "cell_type": "code",
   "execution_count": 19,
   "id": "db684d18",
   "metadata": {},
   "outputs": [],
   "source": [
    "from sklearn.ensemble import RandomForestRegressor\n",
    "\n",
    "rand_f = RandomForestRegressor()\n",
    "rand_f.fit(x_train, y_train)\n",
    "rand_f_y_pred = rand_f.predict(x_test)\n"
   ]
  },
  {
   "cell_type": "code",
   "execution_count": 20,
   "id": "46d56b2a",
   "metadata": {},
   "outputs": [
    {
     "name": "stdout",
     "output_type": "stream",
     "text": [
      "The value of default measurement of RandomForest is 0.9387017725650916\n",
      "The mean squared error of RandomForest is 5.1596600705621105\n",
      "The mean absoluate error of RandomForest is 1.445085228949653\n",
      "The mean absoluate percentage error of RandomForest is 12.800837660937253%\n",
      "\n",
      "The value of R-squared of RandomForest is 0.9387017725650916\n",
      "\n",
      "真实值\n",
      "[22.8  16.88 22.   ... 18.    1.7  23.8 ]\n",
      "预测值\n",
      "[22.4598 13.7602 23.2243 ... 17.171   1.7607 18.2706]\n"
     ]
    }
   ],
   "source": [
    "print(\"The value of default measurement of RandomForest is {sc}\".format(sc=rand_f.score(x_test,y_test)))\n",
    "print(\"The mean squared error of RandomForest is {}\".format(mean_squared_error(y_test,rand_f_y_pred)))\n",
    "print(\"The mean absoluate error of RandomForest is {}\".format(mean_absolute_error(y_test, rand_f_y_pred)))\n",
    "print(\"The mean absoluate percentage error of RandomForest is {}%\".format(mean_absolute_percentage_error(y_test, rand_f_y_pred)))\n",
    "print()\n",
    "print(\"The value of R-squared of RandomForest is {}\".format(r2_score(y_test,rand_f_y_pred)))\n",
    "\n",
    "print('\\n真实值')\n",
    "print(y_test)\n",
    "print('预测值')\n",
    "print(rand_f_y_pred)"
   ]
  },
  {
   "cell_type": "markdown",
   "id": "900c1a95",
   "metadata": {},
   "source": [
    "## SVM高斯核函数"
   ]
  },
  {
   "cell_type": "code",
   "execution_count": 21,
   "id": "4389130d",
   "metadata": {},
   "outputs": [],
   "source": [
    "from sklearn.svm import SVR\n",
    "\n",
    "#高斯核函数\n",
    "rbf_svr = SVR(kernel='rbf')\n",
    "rbf_svr.fit(x_train, y_train)\n",
    "rbf_svr_y_pred = rbf_svr.predict(x_test)"
   ]
  },
  {
   "cell_type": "code",
   "execution_count": 22,
   "id": "bb8c50f3",
   "metadata": {},
   "outputs": [
    {
     "name": "stdout",
     "output_type": "stream",
     "text": [
      "The value of default measurement of rbf_svr is 0.8425616521816595\n",
      "The mean squared error of rbf_svr is 13.25206928171225\n",
      "The mean absoluate error of rbf_svr is 2.4343747687704815\n",
      "The mean absoluate percentage error of rbf_svr is 19.392440164095877\n",
      "\n",
      "The value of R-squared of rbf_svr is 0.8425616521816595\n",
      "\n",
      "真实值\n",
      "[22.8  16.88 22.   ... 18.    1.7  23.8 ]\n",
      "预测值\n",
      "[24.05792225 14.04939    26.5538342  ... 14.80379905  2.21866567\n",
      " 16.46117863]\n"
     ]
    }
   ],
   "source": [
    "print(\"The value of default measurement of rbf_svr is {sc}\".format(sc=rbf_svr.score(x_test,y_test)))\n",
    "print(\"The mean squared error of rbf_svr is {}\".format(mean_squared_error(y_test,rbf_svr_y_pred)))\n",
    "print(\"The mean absoluate error of rbf_svr is {}\".format(mean_absolute_error(y_test, rbf_svr_y_pred)))\n",
    "print(\"The mean absoluate percentage error of rbf_svr is {}\".format(mean_absolute_percentage_error(y_test, rbf_svr_y_pred)))\n",
    "print()\n",
    "print(\"The value of R-squared of rbf_svr is {}\".format(r2_score(y_test,rbf_svr_y_pred)))\n",
    "\n",
    "print('\\n真实值')\n",
    "print(y_test)\n",
    "print('预测值')\n",
    "print(rbf_svr_y_pred)"
   ]
  },
  {
   "cell_type": "markdown",
   "id": "f3ee1b15",
   "metadata": {},
   "source": [
    "## KNN 回归"
   ]
  },
  {
   "cell_type": "code",
   "execution_count": 23,
   "id": "4c003f25",
   "metadata": {},
   "outputs": [],
   "source": [
    "from sklearn.neighbors import KNeighborsRegressor\n",
    "\n",
    "neigh = KNeighborsRegressor(n_neighbors=2)\n",
    "neigh.fit(x_train, y_train)\n",
    "neigh_y_pred=neigh.predict(x_test)"
   ]
  },
  {
   "cell_type": "code",
   "execution_count": 24,
   "id": "774e3f91",
   "metadata": {},
   "outputs": [
    {
     "name": "stdout",
     "output_type": "stream",
     "text": [
      "The value of default measurement of neigh is 0.8592272968851322\n",
      "The mean squared error of neigh is 11.84927078125\n",
      "The mean absoluate error of neigh is 2.2754316406250004\n",
      "The mean absoluate percentage error of neigh is 19.218032056348395\n",
      "\n",
      "The value of R-squared of neigh is 0.8592272968851322\n",
      "\n",
      "真实值\n",
      "[22.8  16.88 22.   ... 18.    1.7  23.8 ]\n",
      "预测值\n",
      "[25.5  10.8  25.5  ... 17.25  1.7  18.4 ]\n"
     ]
    }
   ],
   "source": [
    "print(\"The value of default measurement of neigh is {sc}\".format(sc=neigh.score(x_test,y_test)))\n",
    "print(\"The mean squared error of neigh is {}\".format(mean_squared_error(y_test,neigh_y_pred)))\n",
    "print(\"The mean absoluate error of neigh is {}\".format(mean_absolute_error(y_test, neigh_y_pred)))\n",
    "print(\"The mean absoluate percentage error of neigh is {}\".format(mean_absolute_percentage_error(y_test, neigh_y_pred)))\n",
    "print()\n",
    "print(\"The value of R-squared of neigh is {}\".format(r2_score(y_test,neigh_y_pred)))\n",
    "\n",
    "print('\\n真实值')\n",
    "print(y_test)\n",
    "print('预测值')\n",
    "print(neigh_y_pred)"
   ]
  },
  {
   "cell_type": "markdown",
   "id": "778f76b0",
   "metadata": {},
   "source": [
    "## 神经网络"
   ]
  },
  {
   "cell_type": "code",
   "execution_count": 25,
   "id": "aaab8731",
   "metadata": {},
   "outputs": [],
   "source": [
    "from sklearn.neural_network import MLPRegressor\n",
    "mlp=MLPRegressor()\n",
    "mlp.fit(x_train,y_train)\n",
    "mlp_y_pred = mlp.predict(x_test)"
   ]
  },
  {
   "cell_type": "code",
   "execution_count": 26,
   "id": "14e71af4",
   "metadata": {},
   "outputs": [
    {
     "name": "stdout",
     "output_type": "stream",
     "text": [
      "The value of default measurement of mlp is 0.8736856197307253\n",
      "The mean squared error of mlp is 10.632269340989446\n",
      "The mean absoluate error of mlp is 2.2627819499260124\n",
      "The mean absoluate percentage error of mlp is 18.902431084271637\n",
      "\n",
      "The value of R-squared of mlp is 0.8736856197307253\n",
      "\n",
      "真实值\n",
      "[22.8  16.88 22.   ... 18.    1.7  23.8 ]\n",
      "预测值\n",
      "[19.27485625 13.41115936 24.70177024 ... 13.77036706  0.842119\n",
      " 16.83618861]\n"
     ]
    }
   ],
   "source": [
    "print(\"The value of default measurement of mlp is {sc}\".format(sc=mlp.score(x_test,y_test)))\n",
    "print(\"The mean squared error of mlp is {}\".format(mean_squared_error(y_test,mlp_y_pred)))\n",
    "print(\"The mean absoluate error of mlp is {}\".format(mean_absolute_error(y_test, mlp_y_pred)))\n",
    "print(\"The mean absoluate percentage error of mlp is {}\".format(mean_absolute_percentage_error(y_test, mlp_y_pred)))\n",
    "print()\n",
    "print(\"The value of R-squared of mlp is {}\".format(r2_score(y_test,mlp_y_pred)))\n",
    "\n",
    "print('\\n真实值')\n",
    "print(y_test)\n",
    "print('预测值')\n",
    "print(mlp_y_pred)"
   ]
  },
  {
   "cell_type": "markdown",
   "id": "831e3e29",
   "metadata": {},
   "source": [
    "## XGBOOST 算法及调参"
   ]
  },
  {
   "cell_type": "code",
   "execution_count": 32,
   "id": "32d3db6c",
   "metadata": {
    "scrolled": false
   },
   "outputs": [
    {
     "name": "stdout",
     "output_type": "stream",
     "text": [
      "[15:17:59] WARNING: C:/Users/Administrator/workspace/xgboost-win64_release_1.6.0/src/objective/regression_obj.cu:203: reg:linear is now deprecated in favor of reg:squarederror.\n",
      "[0]\tvalidation_0-logloss:-519.72412\n"
     ]
    },
    {
     "name": "stderr",
     "output_type": "stream",
     "text": [
      "C:\\MYSOFT\\anaconda\\anaconda\\lib\\site-packages\\xgboost\\sklearn.py:793: UserWarning: `eval_metric` in `fit` method is deprecated for better compatibility with scikit-learn, use `eval_metric` in constructor or`set_params` instead.\n",
      "  warnings.warn(\n"
     ]
    },
    {
     "name": "stdout",
     "output_type": "stream",
     "text": [
      "[100]\tvalidation_0-logloss:-563.92077\n",
      "[200]\tvalidation_0-logloss:-563.92607\n",
      "[299]\tvalidation_0-logloss:-563.92682\n"
     ]
    }
   ],
   "source": [
    "import xgboost as xgb\n",
    "xgb_model = xgb.XGBRegressor(booster = 'gbtree',\n",
    "                             learning_rate = 0.1,\n",
    "                             gamma = 0,\n",
    "                             reg_alpha = 1,\n",
    "                             reg_lambda = 1,\n",
    "                             max_depth = 20,\n",
    "                             min_child_weight = 3,\n",
    "                             subsample = 0.95,\n",
    "                             colsample_bytree = 0.9,\n",
    "                             objective = 'reg:linear',\n",
    "                             n_estimators = 300,\n",
    "                             n_jobs = -1)\n",
    "\n",
    "xgb_model.fit(x_train, y_train,\n",
    "              eval_set=[(x_train, y_train)],\n",
    "              eval_metric='logloss',\n",
    "              verbose=100)\n",
    "\n",
    "xgb_y_pred = xgb_model.predict(x_test)"
   ]
  },
  {
   "cell_type": "code",
   "execution_count": 33,
   "id": "b354930e",
   "metadata": {},
   "outputs": [
    {
     "name": "stdout",
     "output_type": "stream",
     "text": [
      "The mean squared error of xgb is 4.494070255303872\n",
      "The mean absoluate error of xgb is 1.2452496707684668\n",
      "The mean absoluate percentage error of xgb is 11.84320521318842\n",
      "\n",
      "The value of R-squared of xgb is 0.9466091686563254\n",
      "\n",
      "真实值\n",
      "[22.8  16.88 22.   ... 18.    1.7  23.8 ]\n",
      "预测值\n",
      "[21.519754  14.207056  22.138641  ... 17.653316   2.5171142 14.399664 ]\n"
     ]
    }
   ],
   "source": [
    "print(\"The mean squared error of xgb is {}\".format(mean_squared_error(y_test,xgb_y_pred)))\n",
    "print(\"The mean absoluate error of xgb is {}\".format(mean_absolute_error(y_test, xgb_y_pred)))\n",
    "print(\"The mean absoluate percentage error of xgb is {}\".format(mean_absolute_percentage_error(y_test, xgb_y_pred)))\n",
    "print()\n",
    "print(\"The value of R-squared of xgb is {}\".format(r2_score(y_test,xgb_y_pred)))\n",
    "\n",
    "print('\\n真实值')\n",
    "print(y_test)\n",
    "print('预测值')\n",
    "print(xgb_y_pred)"
   ]
  },
  {
   "cell_type": "code",
   "execution_count": 29,
   "id": "86cf4a6f",
   "metadata": {},
   "outputs": [
    {
     "name": "stdout",
     "output_type": "stream",
     "text": [
      "<class 'numpy.ndarray'>\n",
      "写入完成 ['y_test', 'xgb_y_pred']\n"
     ]
    }
   ],
   "source": [
    "print(type(y_test))\n",
    "y_test_list = y_test.tolist()\n",
    "xgb_y_pred_list = xgb_y_pred.tolist()\n",
    "\n",
    "final_list = []\n",
    "for i in range(0, len(y_test_list), 1):\n",
    "    final_list.append([y_test_list[i], xgb_y_pred_list[i]])\n",
    "\n",
    "\n",
    "name=['y_test', 'xgb_y_pred']\n",
    "test=pd.DataFrame(columns=name, data=final_list)\n",
    "test.to_csv('data/result.csv', encoding='gbk')\n",
    "\n",
    "print(\"写入完成\",name)\n",
    "\n"
   ]
  },
  {
   "cell_type": "code",
   "execution_count": null,
   "id": "cf848913",
   "metadata": {},
   "outputs": [],
   "source": []
  }
 ],
 "metadata": {
  "kernelspec": {
   "display_name": "Python 3 (ipykernel)",
   "language": "python",
   "name": "python3"
  },
  "language_info": {
   "codemirror_mode": {
    "name": "ipython",
    "version": 3
   },
   "file_extension": ".py",
   "mimetype": "text/x-python",
   "name": "python",
   "nbconvert_exporter": "python",
   "pygments_lexer": "ipython3",
   "version": "3.9.7"
  }
 },
 "nbformat": 4,
 "nbformat_minor": 5
}
