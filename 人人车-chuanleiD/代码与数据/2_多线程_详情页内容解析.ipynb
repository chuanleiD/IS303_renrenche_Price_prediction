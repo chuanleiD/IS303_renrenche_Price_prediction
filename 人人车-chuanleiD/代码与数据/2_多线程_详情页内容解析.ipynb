{
 "cells": [
  {
   "cell_type": "code",
   "execution_count": 1,
   "id": "744e0ed5",
   "metadata": {},
   "outputs": [],
   "source": [
    "import time\n",
    "import requests\n",
    "import threading\n",
    "from bs4 import BeautifulSoup"
   ]
  },
  {
   "cell_type": "code",
   "execution_count": 2,
   "id": "0f9f7e43",
   "metadata": {},
   "outputs": [],
   "source": [
    "global car_detail_all\n",
    "car_detail_all = []"
   ]
  },
  {
   "cell_type": "markdown",
   "id": "31ea22db",
   "metadata": {},
   "source": [
    "## 详情页内容解析函数"
   ]
  },
  {
   "cell_type": "code",
   "execution_count": 3,
   "id": "fe03058e",
   "metadata": {},
   "outputs": [],
   "source": [
    "#由详情页html解析其中的内容\n",
    "#---------------------------\n",
    "# 传入html总文件\n",
    "# 解析出连接返回一个列表[]\n",
    "#---------------------------\n",
    "\n",
    "def get_detail_all(url):\n",
    "    global car_detail_all\n",
    "    \n",
    "    html = requests.get(url)\n",
    "    soup = BeautifulSoup(html.text, 'lxml')\n",
    "\n",
    "    car_name = soup.find_all(class_=\"title\")\n",
    "    name = car_name[0].get_text()\n",
    "\n",
    "\n",
    "    oldcar_price = soup.find_all(class_=\"newcar-price\")\n",
    "    o_price = oldcar_price[0].get_text()\n",
    "\n",
    "\n",
    "    newcar_price = soup.find_all(class_=\"newcar-price-tax\")\n",
    "    n_price = newcar_price[0].get_text()\n",
    "\n",
    "\n",
    "    car_summary = soup.find_all(class_=\"parameter\")\n",
    "    car_summary2 = []\n",
    "    for i in car_summary:\n",
    "        car_summary2.append(i.get_text())\n",
    "\n",
    "\n",
    "    tag = soup.find_all(class_=\"tag\")\n",
    "    tag_all = []\n",
    "    for i in tag:\n",
    "        tag_all.append(i.get_text())\n",
    "\n",
    "\n",
    "    detail = soup.find_all(class_=\"result\")\n",
    "    detail2 = detail[0].get_text()\n",
    "\n",
    "\n",
    "    result = [name, o_price, n_price, \"/\".join(car_summary2), \"/\".join(tag_all), detail2]\n",
    "\n",
    "    car_detail_all.append(result)\n",
    "    return\n",
    "    \n",
    "#----------------------------------------------------------------    \n",
    "    \n",
    "def get_detail_all2(url):\n",
    "    \n",
    "    html = requests.get(url)\n",
    "    soup = BeautifulSoup(html.text, 'lxml')\n",
    "\n",
    "    car_name = soup.find_all(class_=\"title\")\n",
    "    name = car_name[0].get_text()\n",
    "    print(\"车辆名称：\", car_name[0].get_text())\n",
    "\n",
    "\n",
    "    oldcar_price = soup.find_all(class_=\"newcar-price\")\n",
    "    o_price = oldcar_price[0].get_text()\n",
    "    print(\"二手车售价：\", oldcar_price[0].get_text())\n",
    "\n",
    "\n",
    "    newcar_price = soup.find_all(class_=\"newcar-price-tax\")\n",
    "    n_price = newcar_price[0].get_text()\n",
    "    print(\"新车价格：\", newcar_price[0].get_text())\n",
    "\n",
    "\n",
    "    car_summary = soup.find_all(class_=\"parameter\")\n",
    "    car_summary2 = []\n",
    "    for i in car_summary:\n",
    "        car_summary2.append(i.get_text())\n",
    "    print(\"具体信息：\", car_summary2)\n",
    "\n",
    "\n",
    "    tag = soup.find_all(class_=\"tag\")\n",
    "    tag_all = []\n",
    "    for i in tag:\n",
    "        tag_all.append(i.get_text())\n",
    "    print(\"标注信息：\", tag_all)\n",
    "\n",
    "\n",
    "    detail = soup.find_all(class_=\"result\")\n",
    "    detail2 = detail[0].get_text()\n",
    "    print(\"检测报告：\", detail2)\n",
    "\n",
    "\n",
    "    result = [name, o_price, n_price, \"/\".join(car_summary2), \"/\".join(tag_all), detail2]\n",
    "    #print(result)\n",
    "    print()\n",
    "    return result\n"
   ]
  },
  {
   "cell_type": "markdown",
   "id": "fe9b162b",
   "metadata": {},
   "source": [
    "## 读入链接数据"
   ]
  },
  {
   "cell_type": "code",
   "execution_count": 4,
   "id": "81698cfc",
   "metadata": {},
   "outputs": [
    {
     "name": "stdout",
     "output_type": "stream",
     "text": [
      "[['car_url']\n",
      " ['/sh/car/75407afda78d8e21']\n",
      " ['/huizhou/car/14bca086b2ec9ea8']\n",
      " ['/sjz/car/73166ab39e82bd71']\n",
      " ['/bj/car/3c737d67ab496644']\n",
      " ['/nb/car/8f4bf512a977e50b']]\n"
     ]
    }
   ],
   "source": [
    "import pandas as pd\n",
    "import numpy as np    \n",
    "data = \"data/car_url_new.csv\"\n",
    "pd_table = pd.read_csv(data, usecols=[1], header=None) # 没有表头\n",
    "array_table = np.array(pd_table)\n",
    "print(array_table[0:6])"
   ]
  },
  {
   "cell_type": "markdown",
   "id": "1b29359b",
   "metadata": {},
   "source": [
    "## 单次解析测试"
   ]
  },
  {
   "cell_type": "code",
   "execution_count": 5,
   "id": "023b10fd",
   "metadata": {},
   "outputs": [
    {
     "name": "stdout",
     "output_type": "stream",
     "text": [
      "https://www.renrenche.com/bj/car/aa749b52cc6d7935\n",
      "车辆名称： 起亚-起亚K5 2014款 2.0L 自动LUXURY\n",
      "二手车售价： 6.00万\n",
      "新车价格： 新车含税20.49万\n",
      "具体信息： ['17.36万公里行驶里程', '8年3个月上牌', '北京车辆所在地', '国四外迁查询', '自动变速箱', '0次 过户记录', '7天内上架时间']\n",
      "标注信息： ['超值', '急售', '0过户']\n",
      "检测报告： 该车外观未发现钣金、色差， 但局部喷漆；外观多处有瑕疵，外观少量更换；灯光系统正常；内饰整洁；电子系统正常；发动机、变速箱工况正常，怠速规律无抖动，转向灵活；个人一手车；综合车况较好。无重大事故无泡水事故无火烧事故重大事故排查水泡车排查12项火烧车排查5项重大撞击排查17项轻微碰撞排查21项易损易耗部件23项功能部件检测内部配置15项动力、传动系统9项安全系统5项灯光、空调系统8项外观内饰检测内饰检测24项外观检测43项6项启动检测4项\n",
      "\n",
      "['起亚-起亚K5 2014款 2.0L 自动LUXURY', '6.00万', '新车含税20.49万', '17.36万公里行驶里程/8年3个月上牌/北京车辆所在地/国四外迁查询/自动变速箱/0次 过户记录/7天内上架时间', '超值/急售/0过户', '该车外观未发现钣金、色差， 但局部喷漆；外观多处有瑕疵，外观少量更换；灯光系统正常；内饰整洁；电子系统正常；发动机、变速箱工况正常，怠速规律无抖动，转向灵活；个人一手车；综合车况较好。无重大事故无泡水事故无火烧事故重大事故排查水泡车排查12项火烧车排查5项重大撞击排查17项轻微碰撞排查21项易损易耗部件23项功能部件检测内部配置15项动力、传动系统9项安全系统5项灯光、空调系统8项外观内饰检测内饰检测24项外观检测43项6项启动检测4项']\n"
     ]
    }
   ],
   "source": [
    "#经测试，发现是静态html文件，这就比较好办了\n",
    "#获得html文件所有内容\n",
    "\n",
    "url = r\"https://www.renrenche.com\" + array_table[10000][0]\n",
    "print(url)\n",
    "\n",
    "result1 = get_detail_all2(url)\n",
    "print(result1)"
   ]
  },
  {
   "cell_type": "markdown",
   "id": "3fd5141c",
   "metadata": {},
   "source": [
    "## 多线程详情页"
   ]
  },
  {
   "cell_type": "code",
   "execution_count": 6,
   "id": "3d10d7f0",
   "metadata": {},
   "outputs": [
    {
     "name": "stderr",
     "output_type": "stream",
     "text": [
      "Exception in thread Thread-18:\n",
      "Traceback (most recent call last):\n",
      "  File \"C:\\MYSOFT\\anaconda\\anaconda\\lib\\threading.py\", line 973, in _bootstrap_inner\n",
      "    self.run()\n",
      "  File \"C:\\MYSOFT\\anaconda\\anaconda\\lib\\threading.py\", line 910, in run\n",
      "    self._target(*self._args, **self._kwargs)\n",
      "  File \"C:\\Users\\daichuan\\AppData\\Local\\Temp/ipykernel_12592/2605260685.py\", line 14, in get_detail_all\n",
      "IndexError: list index out of range\n"
     ]
    },
    {
     "name": "stdout",
     "output_type": "stream",
     "text": [
      "0 访问50次网页，耗时：2.717994213104248\n",
      "50 访问50次网页，耗时：2.7078402042388916\n",
      "100 访问50次网页，耗时：2.595933198928833\n",
      "150 访问50次网页，耗时：2.2978129386901855\n",
      "200 访问50次网页，耗时：2.4247353076934814\n",
      "250 访问50次网页，耗时：2.8109261989593506\n",
      "300 访问50次网页，耗时：2.3119587898254395\n",
      "350 访问50次网页，耗时：2.2211203575134277\n",
      "400 访问50次网页，耗时：2.4551851749420166\n",
      "450 访问50次网页，耗时：2.244598150253296\n",
      "500 访问50次网页，耗时：2.282353162765503\n",
      "550 访问50次网页，耗时：2.1708154678344727\n",
      "600 访问50次网页，耗时：2.3255562782287598\n",
      "650 访问50次网页，耗时：2.005275011062622\n",
      "700 访问50次网页，耗时：2.1405234336853027\n",
      "750 访问50次网页，耗时：2.1027989387512207\n",
      "800 访问50次网页，耗时：2.4590461254119873\n",
      "850 访问50次网页，耗时：2.1682677268981934\n",
      "900 访问50次网页，耗时：2.3852832317352295\n",
      "950 访问50次网页，耗时：2.3988282680511475\n",
      "1000 访问50次网页，耗时：2.212796211242676\n",
      "1050 访问50次网页，耗时：2.2006890773773193\n",
      "1100 访问50次网页，耗时：2.295599937438965\n",
      "1150 访问50次网页，耗时：2.4236083030700684\n",
      "1200 访问50次网页，耗时：2.2279062271118164\n",
      "1250 访问50次网页，耗时：2.127809524536133\n",
      "1300 访问50次网页，耗时：2.4117352962493896\n",
      "1350 访问50次网页，耗时：2.5882952213287354\n"
     ]
    },
    {
     "name": "stderr",
     "output_type": "stream",
     "text": [
      "Exception in thread Thread-1430:\n",
      "Traceback (most recent call last):\n",
      "  File \"C:\\MYSOFT\\anaconda\\anaconda\\lib\\threading.py\", line 973, in _bootstrap_inner\n",
      "    self.run()\n",
      "  File \"C:\\MYSOFT\\anaconda\\anaconda\\lib\\threading.py\", line 910, in run\n",
      "    self._target(*self._args, **self._kwargs)\n",
      "  File \"C:\\Users\\daichuan\\AppData\\Local\\Temp/ipykernel_12592/2605260685.py\", line 14, in get_detail_all\n",
      "IndexError: list index out of range\n"
     ]
    },
    {
     "name": "stdout",
     "output_type": "stream",
     "text": [
      "1400 访问50次网页，耗时：3.9345059394836426\n",
      "1450 访问50次网页，耗时：2.0821781158447266\n",
      "1500 访问50次网页，耗时：2.2724952697753906\n",
      "1550 访问50次网页，耗时：2.0925331115722656\n",
      "1600 访问50次网页，耗时：2.1779942512512207\n",
      "1650 访问50次网页，耗时：2.0884668827056885\n",
      "1700 访问50次网页，耗时：3.1644718647003174\n",
      "1750 访问50次网页，耗时：2.322561502456665\n",
      "1800 访问50次网页，耗时：2.861602783203125\n",
      "1850 访问50次网页，耗时：2.3831961154937744\n",
      "1900 访问50次网页，耗时：2.1545891761779785\n",
      "1950 访问50次网页，耗时：2.192471981048584\n",
      "2000 访问50次网页，耗时：2.1033380031585693\n",
      "2050 访问50次网页，耗时：2.0709950923919678\n",
      "2100 访问50次网页，耗时：2.12841796875\n",
      "2150 访问50次网页，耗时：2.1635921001434326\n",
      "2200 访问50次网页，耗时：2.1500203609466553\n",
      "2250 访问50次网页，耗时：2.181612014770508\n",
      "2300 访问50次网页，耗时：2.308771848678589\n",
      "2350 访问50次网页，耗时：2.2696733474731445\n",
      "2400 访问50次网页，耗时：2.3458945751190186\n",
      "2450 访问50次网页，耗时：2.3639562129974365\n",
      "2500 访问50次网页，耗时：2.1962296962738037\n"
     ]
    },
    {
     "name": "stderr",
     "output_type": "stream",
     "text": [
      "Exception in thread Thread-2605:\n",
      "Traceback (most recent call last):\n",
      "  File \"C:\\MYSOFT\\anaconda\\anaconda\\lib\\threading.py\", line 973, in _bootstrap_inner\n",
      "    self.run()\n",
      "  File \"C:\\MYSOFT\\anaconda\\anaconda\\lib\\threading.py\", line 910, in run\n",
      "    self._target(*self._args, **self._kwargs)\n",
      "  File \"C:\\Users\\daichuan\\AppData\\Local\\Temp/ipykernel_12592/2605260685.py\", line 14, in get_detail_all\n",
      "IndexError: list index out of range\n"
     ]
    },
    {
     "name": "stdout",
     "output_type": "stream",
     "text": [
      "2550 访问50次网页，耗时：2.5592122077941895\n",
      "2600 访问50次网页，耗时：2.157862424850464\n",
      "2650 访问50次网页，耗时：2.5727756023406982\n",
      "2700 访问50次网页，耗时：2.2700066566467285\n",
      "2750 访问50次网页，耗时：2.3596274852752686\n",
      "2800 访问50次网页，耗时：2.132288694381714\n",
      "2850 访问50次网页，耗时：2.213212490081787\n",
      "2900 访问50次网页，耗时：2.381901264190674\n",
      "2950 访问50次网页，耗时：2.577054023742676\n",
      "3000 访问50次网页，耗时：2.1748859882354736\n"
     ]
    },
    {
     "name": "stderr",
     "output_type": "stream",
     "text": [
      "Exception in thread Thread-3094:\n",
      "Traceback (most recent call last):\n",
      "  File \"C:\\MYSOFT\\anaconda\\anaconda\\lib\\threading.py\", line 973, in _bootstrap_inner\n",
      "    self.run()\n",
      "  File \"C:\\MYSOFT\\anaconda\\anaconda\\lib\\threading.py\", line 910, in run\n",
      "    self._target(*self._args, **self._kwargs)\n",
      "  File \"C:\\Users\\daichuan\\AppData\\Local\\Temp/ipykernel_12592/2605260685.py\", line 14, in get_detail_all\n",
      "IndexError: list index out of range\n"
     ]
    },
    {
     "name": "stdout",
     "output_type": "stream",
     "text": [
      "3050 访问50次网页，耗时：2.209071159362793\n",
      "3100 访问50次网页，耗时：2.3302931785583496\n",
      "3150 访问50次网页，耗时：2.4437949657440186\n",
      "3200 访问50次网页，耗时：2.1193690299987793\n",
      "3250 访问50次网页，耗时：2.0093681812286377\n",
      "3300 访问50次网页，耗时：2.310814380645752\n",
      "3350 访问50次网页，耗时：2.145473003387451\n",
      "3400 访问50次网页，耗时：2.1184444427490234\n",
      "3450 访问50次网页，耗时：2.1646952629089355\n",
      "3500 访问50次网页，耗时：2.476816415786743\n",
      "3550 访问50次网页，耗时：2.3125405311584473\n",
      "3600 访问50次网页，耗时：2.2693865299224854\n",
      "3650 访问50次网页，耗时：2.113563060760498\n",
      "3700 访问50次网页，耗时：2.1810662746429443\n",
      "3750 访问50次网页，耗时：2.3024227619171143\n",
      "3800 访问50次网页，耗时：2.253288984298706\n",
      "3850 访问50次网页，耗时：2.266563892364502\n",
      "3900 访问50次网页，耗时：2.2340478897094727\n",
      "3950 访问50次网页，耗时：2.2190608978271484\n",
      "4000 访问50次网页，耗时：2.0468852519989014\n",
      "4050 访问50次网页，耗时：2.1267893314361572\n",
      "4100 访问50次网页，耗时：2.0845656394958496\n"
     ]
    },
    {
     "name": "stderr",
     "output_type": "stream",
     "text": [
      "Exception in thread Thread-4201:\n",
      "Traceback (most recent call last):\n",
      "  File \"C:\\MYSOFT\\anaconda\\anaconda\\lib\\threading.py\", line 973, in _bootstrap_inner\n",
      "    self.run()\n",
      "  File \"C:\\MYSOFT\\anaconda\\anaconda\\lib\\threading.py\", line 910, in run\n",
      "    self._target(*self._args, **self._kwargs)\n",
      "  File \"C:\\Users\\daichuan\\AppData\\Local\\Temp/ipykernel_12592/2605260685.py\", line 14, in get_detail_all\n",
      "IndexError: list index out of range\n"
     ]
    },
    {
     "name": "stdout",
     "output_type": "stream",
     "text": [
      "4150 访问50次网页，耗时：2.1925039291381836\n",
      "4200 访问50次网页，耗时：2.2768900394439697\n",
      "4250 访问50次网页，耗时：2.0344531536102295\n",
      "4300 访问50次网页，耗时：2.3519797325134277\n",
      "4350 访问50次网页，耗时：2.577388048171997\n",
      "4400 访问50次网页，耗时：2.083150625228882\n",
      "4450 访问50次网页，耗时：2.224822998046875\n",
      "4500 访问50次网页，耗时：2.2162396907806396\n",
      "4550 访问50次网页，耗时：2.2479171752929688\n",
      "4600 访问50次网页，耗时：2.3591277599334717\n",
      "4650 访问50次网页，耗时：2.025986671447754\n",
      "4700 访问50次网页，耗时：2.169800043106079\n",
      "4750 访问50次网页，耗时：2.3110878467559814\n",
      "4800 访问50次网页，耗时：2.218402862548828\n",
      "4850 访问50次网页，耗时：2.1384236812591553\n",
      "4900 访问50次网页，耗时：2.3517932891845703\n",
      "4950 访问50次网页，耗时：2.2285919189453125\n",
      "5000 访问50次网页，耗时：2.308418035507202\n",
      "5050 访问50次网页，耗时：2.1907925605773926\n",
      "5100 访问50次网页，耗时：2.3082451820373535\n",
      "5150 访问50次网页，耗时：2.4270706176757812\n",
      "5200 访问50次网页，耗时：2.6343486309051514\n",
      "5250 访问50次网页，耗时：2.743849515914917\n",
      "5300 访问50次网页，耗时：2.154074192047119\n",
      "5350 访问50次网页，耗时：2.1213133335113525\n",
      "5400 访问50次网页，耗时：9.163625001907349\n",
      "5450 访问50次网页，耗时：2.7115418910980225\n",
      "5500 访问50次网页，耗时：2.5157134532928467\n",
      "5550 访问50次网页，耗时：2.234959840774536\n",
      "5600 访问50次网页，耗时：2.1530675888061523\n",
      "5650 访问50次网页，耗时：2.1851401329040527\n",
      "5700 访问50次网页，耗时：2.103020668029785\n",
      "5750 访问50次网页，耗时：2.3493154048919678\n",
      "5800 访问50次网页，耗时：2.3040549755096436\n",
      "5850 访问50次网页，耗时：2.159609317779541\n",
      "5900 访问50次网页，耗时：2.882838010787964\n",
      "5950 访问50次网页，耗时：2.1500935554504395\n",
      "6000 访问50次网页，耗时：2.375196933746338\n",
      "6050 访问50次网页，耗时：2.8759195804595947\n",
      "6100 访问50次网页，耗时：2.2441327571868896\n",
      "6150 访问50次网页，耗时：2.2639808654785156\n",
      "6200 访问50次网页，耗时：2.1912763118743896\n",
      "6250 访问50次网页，耗时：2.4941225051879883\n",
      "6300 访问50次网页，耗时：2.5145630836486816\n",
      "6350 访问50次网页，耗时：2.537170648574829\n",
      "6400 访问50次网页，耗时：2.7471396923065186\n",
      "6450 访问50次网页，耗时：2.3893425464630127\n",
      "6500 访问50次网页，耗时：2.0129683017730713\n",
      "6550 访问50次网页，耗时：2.7392051219940186\n",
      "6600 访问50次网页，耗时：2.6135787963867188\n",
      "6650 访问50次网页，耗时：2.691636323928833\n",
      "6700 访问50次网页，耗时：1.9432454109191895\n",
      "6750 访问50次网页，耗时：3.0481679439544678\n",
      "6800 访问50次网页，耗时：2.505593776702881\n",
      "6850 访问50次网页，耗时：2.536555051803589\n",
      "6900 访问50次网页，耗时：2.363314151763916\n",
      "6950 访问50次网页，耗时：2.3646554946899414\n",
      "7000 访问50次网页，耗时：2.166125535964966\n",
      "7050 访问50次网页，耗时：2.4077200889587402\n",
      "7100 访问50次网页，耗时：2.0974528789520264\n",
      "7150 访问50次网页，耗时：2.0106406211853027\n",
      "7200 访问50次网页，耗时：2.318533182144165\n",
      "7250 访问50次网页，耗时：2.26912260055542\n",
      "7300 访问50次网页，耗时：2.3366973400115967\n",
      "7350 访问50次网页，耗时：2.129957914352417\n",
      "7400 访问50次网页，耗时：2.2370595932006836\n",
      "7450 访问50次网页，耗时：2.1457929611206055\n",
      "7500 访问50次网页，耗时：2.144026517868042\n",
      "7550 访问50次网页，耗时：2.16317081451416\n",
      "7600 访问50次网页，耗时：2.3657925128936768\n",
      "7650 访问50次网页，耗时：2.3243000507354736\n",
      "7700 访问50次网页，耗时：2.0688316822052\n",
      "7750 访问50次网页，耗时：2.464876890182495\n",
      "7800 访问50次网页，耗时：2.458094835281372\n",
      "7850 访问50次网页，耗时：2.5040857791900635\n",
      "7900 访问50次网页，耗时：2.478166103363037\n",
      "7950 访问50次网页，耗时：2.3452770709991455\n",
      "8000 访问50次网页，耗时：2.2264130115509033\n",
      "8050 访问50次网页，耗时：2.2627315521240234\n",
      "8100 访问50次网页，耗时：2.247884750366211\n",
      "8150 访问50次网页，耗时：2.0982823371887207\n",
      "8200 访问50次网页，耗时：2.2544145584106445\n",
      "8250 访问50次网页，耗时：2.065880298614502\n",
      "8300 访问50次网页，耗时：2.2558345794677734\n",
      "8350 访问50次网页，耗时：3.5980372428894043\n",
      "8400 访问50次网页，耗时：13.608659029006958\n"
     ]
    },
    {
     "name": "stderr",
     "output_type": "stream",
     "text": [
      "Exception in thread Thread-8473:\n",
      "Traceback (most recent call last):\n",
      "  File \"C:\\MYSOFT\\anaconda\\anaconda\\lib\\threading.py\", line 973, in _bootstrap_inner\n",
      "    self.run()\n",
      "  File \"C:\\MYSOFT\\anaconda\\anaconda\\lib\\threading.py\", line 910, in run\n",
      "    self._target(*self._args, **self._kwargs)\n",
      "  File \"C:\\Users\\daichuan\\AppData\\Local\\Temp/ipykernel_12592/2605260685.py\", line 14, in get_detail_all\n",
      "IndexError: list index out of range\n"
     ]
    },
    {
     "name": "stdout",
     "output_type": "stream",
     "text": [
      "8450 访问50次网页，耗时：2.1602065563201904\n",
      "8500 访问50次网页，耗时：2.3887810707092285\n",
      "8550 访问50次网页，耗时：2.4876961708068848\n",
      "8600 访问50次网页，耗时：2.3168702125549316\n",
      "8650 访问50次网页，耗时：2.3176980018615723\n",
      "8700 访问50次网页，耗时：2.348745584487915\n",
      "8750 访问50次网页，耗时：2.5588433742523193\n",
      "8800 访问50次网页，耗时：2.223376512527466\n",
      "8850 访问50次网页，耗时：2.3638720512390137\n",
      "8900 访问50次网页，耗时：2.3793528079986572\n",
      "8950 访问50次网页，耗时：2.3337440490722656\n",
      "9000 访问50次网页，耗时：2.6292853355407715\n",
      "9050 访问50次网页，耗时：2.176201581954956\n",
      "9100 访问50次网页，耗时：2.466139793395996\n",
      "9150 访问50次网页，耗时：2.347811698913574\n",
      "9200 访问50次网页，耗时：2.4095771312713623\n",
      "9250 访问50次网页，耗时：2.4718728065490723\n"
     ]
    },
    {
     "name": "stderr",
     "output_type": "stream",
     "text": [
      "Exception in thread Thread-9353:\n",
      "Traceback (most recent call last):\n",
      "  File \"C:\\MYSOFT\\anaconda\\anaconda\\lib\\threading.py\", line 973, in _bootstrap_inner\n",
      "    self.run()\n",
      "  File \"C:\\MYSOFT\\anaconda\\anaconda\\lib\\threading.py\", line 910, in run\n",
      "    self._target(*self._args, **self._kwargs)\n",
      "  File \"C:\\Users\\daichuan\\AppData\\Local\\Temp/ipykernel_12592/2605260685.py\", line 14, in get_detail_all\n",
      "IndexError: list index out of range\n"
     ]
    },
    {
     "name": "stdout",
     "output_type": "stream",
     "text": [
      "9300 访问50次网页，耗时：2.3171708583831787\n",
      "9350 访问50次网页，耗时：2.3161988258361816\n",
      "9400 访问50次网页，耗时：2.1606380939483643\n",
      "9450 访问50次网页，耗时：2.424391746520996\n",
      "9500 访问50次网页，耗时：2.8938369750976562\n",
      "9550 访问50次网页，耗时：2.1923224925994873\n"
     ]
    },
    {
     "name": "stderr",
     "output_type": "stream",
     "text": [
      "Exception in thread Thread-9625:\n",
      "Traceback (most recent call last):\n",
      "  File \"C:\\MYSOFT\\anaconda\\anaconda\\lib\\threading.py\", line 973, in _bootstrap_inner\n",
      "    self.run()\n",
      "  File \"C:\\MYSOFT\\anaconda\\anaconda\\lib\\threading.py\", line 910, in run\n",
      "    self._target(*self._args, **self._kwargs)\n",
      "  File \"C:\\Users\\daichuan\\AppData\\Local\\Temp/ipykernel_12592/2605260685.py\", line 14, in get_detail_all\n",
      "IndexError: list index out of range\n"
     ]
    },
    {
     "name": "stdout",
     "output_type": "stream",
     "text": [
      "9600 访问50次网页，耗时：2.3117105960845947\n",
      "9650 访问50次网页，耗时：2.4582300186157227\n",
      "9700 访问50次网页，耗时：2.129992723464966\n",
      "9750 访问50次网页，耗时：1.9565532207489014\n",
      "9800 访问50次网页，耗时：2.280258893966675\n",
      "9850 访问50次网页，耗时：2.4416627883911133\n"
     ]
    },
    {
     "name": "stderr",
     "output_type": "stream",
     "text": [
      "Exception in thread Thread-9939:\n",
      "Traceback (most recent call last):\n",
      "  File \"C:\\MYSOFT\\anaconda\\anaconda\\lib\\threading.py\", line 973, in _bootstrap_inner\n",
      "    self.run()\n",
      "  File \"C:\\MYSOFT\\anaconda\\anaconda\\lib\\threading.py\", line 910, in run\n",
      "    self._target(*self._args, **self._kwargs)\n",
      "  File \"C:\\Users\\daichuan\\AppData\\Local\\Temp/ipykernel_12592/2605260685.py\", line 14, in get_detail_all\n",
      "IndexError: list index out of range\n"
     ]
    },
    {
     "name": "stdout",
     "output_type": "stream",
     "text": [
      "9900 访问50次网页，耗时：2.201380491256714\n",
      "9950 访问50次网页，耗时：2.6936745643615723\n",
      "10000 访问50次网页，耗时：2.3812577724456787\n",
      "10050 访问50次网页，耗时：2.2855141162872314\n",
      "10100 访问50次网页，耗时：2.1046009063720703\n",
      "10150 访问50次网页，耗时：2.378539562225342\n",
      "10200 访问50次网页，耗时：2.3805923461914062\n",
      "10250 访问50次网页，耗时：2.0032870769500732\n"
     ]
    },
    {
     "name": "stderr",
     "output_type": "stream",
     "text": [
      "Exception in thread Thread-10330:\n",
      "Traceback (most recent call last):\n",
      "  File \"C:\\MYSOFT\\anaconda\\anaconda\\lib\\threading.py\", line 973, in _bootstrap_inner\n",
      "    self.run()\n",
      "  File \"C:\\MYSOFT\\anaconda\\anaconda\\lib\\threading.py\", line 910, in run\n",
      "    self._target(*self._args, **self._kwargs)\n",
      "  File \"C:\\Users\\daichuan\\AppData\\Local\\Temp/ipykernel_12592/2605260685.py\", line 14, in get_detail_all\n",
      "IndexError: list index out of range\n"
     ]
    },
    {
     "name": "stdout",
     "output_type": "stream",
     "text": [
      "10300 访问50次网页，耗时：2.758216381072998\n",
      "10350 访问50次网页，耗时：2.32019305229187\n",
      "10400 访问50次网页，耗时：2.356196165084839\n",
      "10450 访问50次网页，耗时：2.2239997386932373\n",
      "10500 访问50次网页，耗时：2.253446340560913\n",
      "10550 访问50次网页，耗时：2.4682326316833496\n",
      "10600 访问50次网页，耗时：2.059751510620117\n",
      "10650 访问50次网页，耗时：2.2549068927764893\n",
      "10700 访问50次网页，耗时：2.207231044769287\n",
      "10750 访问50次网页，耗时：2.175889015197754\n",
      "10800 访问50次网页，耗时：2.1656291484832764\n",
      "10850 访问50次网页，耗时：2.020172119140625\n"
     ]
    },
    {
     "name": "stderr",
     "output_type": "stream",
     "text": [
      "Exception in thread Thread-10926:\n",
      "Traceback (most recent call last):\n",
      "  File \"C:\\MYSOFT\\anaconda\\anaconda\\lib\\threading.py\", line 973, in _bootstrap_inner\n",
      "    self.run()\n",
      "  File \"C:\\MYSOFT\\anaconda\\anaconda\\lib\\threading.py\", line 910, in run\n",
      "    self._target(*self._args, **self._kwargs)\n",
      "  File \"C:\\Users\\daichuan\\AppData\\Local\\Temp/ipykernel_12592/2605260685.py\", line 14, in get_detail_all\n",
      "IndexError: list index out of range\n"
     ]
    },
    {
     "name": "stdout",
     "output_type": "stream",
     "text": [
      "10900 访问50次网页，耗时：2.133202075958252\n",
      "10950 访问50次网页，耗时：2.2243168354034424\n"
     ]
    },
    {
     "name": "stderr",
     "output_type": "stream",
     "text": [
      "Exception in thread Thread-11035:\n",
      "Traceback (most recent call last):\n",
      "  File \"C:\\MYSOFT\\anaconda\\anaconda\\lib\\threading.py\", line 973, in _bootstrap_inner\n",
      "    self.run()\n",
      "  File \"C:\\MYSOFT\\anaconda\\anaconda\\lib\\threading.py\", line 910, in run\n",
      "    self._target(*self._args, **self._kwargs)\n",
      "  File \"C:\\Users\\daichuan\\AppData\\Local\\Temp/ipykernel_12592/2605260685.py\", line 14, in get_detail_all\n",
      "IndexError: list index out of range\n"
     ]
    },
    {
     "name": "stdout",
     "output_type": "stream",
     "text": [
      "11000 访问50次网页，耗时：2.3830795288085938\n",
      "11050 访问50次网页，耗时：2.581944465637207\n",
      "11100 访问50次网页，耗时：2.3638012409210205\n",
      "11150 访问50次网页，耗时：2.1696338653564453\n",
      "11200 访问50次网页，耗时：2.364981174468994\n",
      "11250 访问50次网页，耗时：2.3970389366149902\n",
      "11300 访问50次网页，耗时：2.9432942867279053\n",
      "11350 访问50次网页，耗时：2.2082624435424805\n",
      "11400 访问50次网页，耗时：2.3163559436798096\n",
      "11450 访问50次网页，耗时：2.269430637359619\n",
      "11500 访问50次网页，耗时：2.3011090755462646\n",
      "11550 访问50次网页，耗时：2.0515048503875732\n",
      "11600 访问50次网页，耗时：2.160895347595215\n",
      "11650 访问50次网页，耗时：2.164489507675171\n"
     ]
    },
    {
     "name": "stderr",
     "output_type": "stream",
     "text": [
      "Exception in thread Thread-11738:\n",
      "Traceback (most recent call last):\n",
      "  File \"C:\\MYSOFT\\anaconda\\anaconda\\lib\\threading.py\", line 973, in _bootstrap_inner\n",
      "    self.run()\n",
      "  File \"C:\\MYSOFT\\anaconda\\anaconda\\lib\\threading.py\", line 910, in run\n",
      "    self._target(*self._args, **self._kwargs)\n",
      "  File \"C:\\Users\\daichuan\\AppData\\Local\\Temp/ipykernel_12592/2605260685.py\", line 22, in get_detail_all\n",
      "IndexError: list index out of range\n"
     ]
    },
    {
     "name": "stdout",
     "output_type": "stream",
     "text": [
      "11700 访问50次网页，耗时：3.789067268371582\n",
      "11750 访问50次网页，耗时：2.4326181411743164\n",
      "11800 访问50次网页，耗时：2.417271614074707\n",
      "11850 访问50次网页，耗时：2.081399917602539\n",
      "11900 访问50次网页，耗时：2.6606342792510986\n",
      "11950 访问50次网页，耗时：2.2534890174865723\n",
      "12000 访问50次网页，耗时：2.1773204803466797\n",
      "12050 访问50次网页，耗时：2.238863468170166\n",
      "12100 访问50次网页，耗时：2.5629730224609375\n",
      "12150 访问50次网页，耗时：2.621389389038086\n",
      "12200 访问50次网页，耗时：2.1127889156341553\n"
     ]
    },
    {
     "name": "stderr",
     "output_type": "stream",
     "text": [
      "Exception in thread Thread-12281:\n",
      "Traceback (most recent call last):\n",
      "  File \"C:\\MYSOFT\\anaconda\\anaconda\\lib\\threading.py\", line 973, in _bootstrap_inner\n",
      "    self.run()\n",
      "  File \"C:\\MYSOFT\\anaconda\\anaconda\\lib\\threading.py\", line 910, in run\n",
      "    self._target(*self._args, **self._kwargs)\n",
      "  File \"C:\\Users\\daichuan\\AppData\\Local\\Temp/ipykernel_12592/2605260685.py\", line 14, in get_detail_all\n",
      "IndexError: list index out of range\n"
     ]
    },
    {
     "name": "stdout",
     "output_type": "stream",
     "text": [
      "12250 访问50次网页，耗时：2.203284502029419\n",
      "12300 访问50次网页，耗时：2.408529281616211\n",
      "12350 访问50次网页，耗时：2.7391679286956787\n",
      "12400 访问50次网页，耗时：2.034815788269043\n",
      "12450 访问50次网页，耗时：2.394291639328003\n",
      "12500 访问50次网页，耗时：2.1611363887786865\n",
      "12550 访问50次网页，耗时：2.112245798110962\n",
      "12600 访问50次网页，耗时：2.300480842590332\n",
      "12650 访问50次网页，耗时：2.2862861156463623\n",
      "12700 访问50次网页，耗时：2.3490421772003174\n",
      "12750 访问50次网页，耗时：2.067549228668213\n",
      "12800 访问50次网页，耗时：2.629991292953491\n",
      "12850 访问50次网页，耗时：2.133848190307617\n"
     ]
    },
    {
     "name": "stderr",
     "output_type": "stream",
     "text": [
      "Exception in thread Thread-12952:\n",
      "Traceback (most recent call last):\n",
      "  File \"C:\\MYSOFT\\anaconda\\anaconda\\lib\\threading.py\", line 973, in _bootstrap_inner\n",
      "    self.run()\n",
      "  File \"C:\\MYSOFT\\anaconda\\anaconda\\lib\\threading.py\", line 910, in run\n",
      "    self._target(*self._args, **self._kwargs)\n",
      "  File \"C:\\Users\\daichuan\\AppData\\Local\\Temp/ipykernel_12592/2605260685.py\", line 14, in get_detail_all\n",
      "IndexError: list index out of range\n"
     ]
    },
    {
     "name": "stdout",
     "output_type": "stream",
     "text": [
      "12900 访问50次网页，耗时：2.2589828968048096\n",
      "12950 访问50次网页，耗时：2.2868378162384033\n",
      "13000 访问50次网页，耗时：2.2412168979644775\n",
      "13050 访问50次网页，耗时：2.1759519577026367\n",
      "13100 访问50次网页，耗时：2.347696304321289\n",
      "13150 访问50次网页，耗时：2.222010374069214\n",
      "13200 访问50次网页，耗时：2.101793050765991\n",
      "13250 访问50次网页，耗时：2.1813392639160156\n",
      "13300 访问50次网页，耗时：2.176290988922119\n",
      "13350 访问50次网页，耗时：2.5987374782562256\n",
      "13400 访问50次网页，耗时：2.239306688308716\n"
     ]
    },
    {
     "name": "stderr",
     "output_type": "stream",
     "text": [
      "Exception in thread Thread-13466:\n",
      "Traceback (most recent call last):\n",
      "  File \"C:\\MYSOFT\\anaconda\\anaconda\\lib\\threading.py\", line 973, in _bootstrap_inner\n",
      "    self.run()\n",
      "  File \"C:\\MYSOFT\\anaconda\\anaconda\\lib\\threading.py\", line 910, in run\n",
      "    self._target(*self._args, **self._kwargs)\n",
      "  File \"C:\\Users\\daichuan\\AppData\\Local\\Temp/ipykernel_12592/2605260685.py\", line 14, in get_detail_all\n",
      "IndexError: list index out of range\n"
     ]
    },
    {
     "name": "stdout",
     "output_type": "stream",
     "text": [
      "13450 访问50次网页，耗时：2.3969383239746094\n",
      "13500 访问50次网页，耗时：2.1763570308685303\n",
      "13550 访问50次网页，耗时：2.2087230682373047\n",
      "13600 访问50次网页，耗时：2.302358627319336\n",
      "13650 访问50次网页，耗时：2.2536983489990234\n",
      "13700 访问50次网页，耗时：2.3456990718841553\n",
      "13750 访问50次网页，耗时：2.743422746658325\n",
      "13800 访问50次网页，耗时：2.158660650253296\n",
      "13850 访问50次网页，耗时：2.104336738586426\n",
      "13900 访问50次网页，耗时：2.0053234100341797\n",
      "13950 访问50次网页，耗时：2.5441861152648926\n",
      "14000 访问50次网页，耗时：2.176008701324463\n",
      "14050 访问50次网页，耗时：2.245619773864746\n",
      "14100 访问50次网页，耗时：2.4419713020324707\n",
      "14150 访问50次网页，耗时：2.3322291374206543\n",
      "14200 访问50次网页，耗时：2.254424810409546\n",
      "14250 访问50次网页，耗时：2.036114454269409\n",
      "14300 访问50次网页，耗时：2.176288604736328\n",
      "14350 访问50次网页，耗时：2.1291158199310303\n",
      "14400 访问50次网页，耗时：2.1480417251586914\n",
      "14450 访问50次网页，耗时：2.2550384998321533\n",
      "14500 访问50次网页，耗时：2.0253939628601074\n",
      "14550 访问50次网页，耗时：2.1861371994018555\n",
      "14600 访问50次网页，耗时：2.145047426223755\n",
      "14650 访问50次网页，耗时：2.1471030712127686\n"
     ]
    },
    {
     "name": "stderr",
     "output_type": "stream",
     "text": [
      "Exception in thread Thread-14708:\n",
      "Traceback (most recent call last):\n",
      "  File \"C:\\MYSOFT\\anaconda\\anaconda\\lib\\threading.py\", line 973, in _bootstrap_inner\n",
      "    self.run()\n",
      "  File \"C:\\MYSOFT\\anaconda\\anaconda\\lib\\threading.py\", line 910, in run\n",
      "    self._target(*self._args, **self._kwargs)\n",
      "  File \"C:\\Users\\daichuan\\AppData\\Local\\Temp/ipykernel_12592/2605260685.py\", line 14, in get_detail_all\n",
      "IndexError: list index out of range\n"
     ]
    },
    {
     "name": "stdout",
     "output_type": "stream",
     "text": [
      "14700 访问50次网页，耗时：2.414682388305664\n",
      "14750 访问50次网页，耗时：2.3481392860412598\n",
      "14800 访问50次网页，耗时：2.2549538612365723\n",
      "14850 访问50次网页，耗时：2.683469772338867\n",
      "14900 访问50次网页，耗时：2.249396562576294\n",
      "14950 访问50次网页，耗时：2.62821102142334\n",
      "15000 访问50次网页，耗时：2.6766090393066406\n",
      "15050 访问50次网页，耗时：2.630344867706299\n",
      "15100 访问50次网页，耗时：2.5035650730133057\n",
      "15150 访问50次网页，耗时：2.363304853439331\n",
      "15200 访问50次网页，耗时：2.7938170433044434\n",
      "15250 访问50次网页，耗时：2.223710298538208\n",
      "15300 访问50次网页，耗时：2.3529555797576904\n",
      "15350 访问50次网页，耗时：2.5045251846313477\n",
      "15400 访问50次网页，耗时：2.2222447395324707\n",
      "15450 访问50次网页，耗时：2.410768985748291\n",
      "15500 访问50次网页，耗时：2.3107051849365234\n",
      "15550 访问50次网页，耗时：2.0632967948913574\n",
      "15600 访问50次网页，耗时：2.066208839416504\n",
      "15650 访问50次网页，耗时：5.396918296813965\n",
      "15700 访问50次网页，耗时：2.676943302154541\n",
      "15750 访问50次网页，耗时：2.2628250122070312\n",
      "15800 访问50次网页，耗时：2.238975763320923\n",
      "15850 访问50次网页，耗时：2.0657174587249756\n",
      "15900 访问50次网页，耗时：2.3167884349823\n",
      "15950 访问50次网页，耗时：2.035417318344116\n",
      "16000 访问50次网页，耗时：2.099411964416504\n",
      "16050 访问50次网页，耗时：2.302257776260376\n",
      "16100 访问50次网页，耗时：2.664889097213745\n",
      "16150 访问50次网页，耗时：2.332379102706909\n",
      "16200 访问50次网页，耗时：2.4743263721466064\n",
      "16250 访问50次网页，耗时：2.2068467140197754\n",
      "16300 访问50次网页，耗时：2.3161461353302\n",
      "16350 访问50次网页，耗时：2.2675888538360596\n",
      "16400 访问50次网页，耗时：6.413573980331421\n",
      "16450 访问50次网页，耗时：1.9739925861358643\n",
      "16500 访问50次网页，耗时：2.0834524631500244\n",
      "16550 访问50次网页，耗时：2.270817279815674\n",
      "16600 访问50次网页，耗时：2.51889705657959\n",
      "16650 访问50次网页，耗时：2.4971961975097656\n",
      "16700 访问50次网页，耗时：2.037198543548584\n",
      "16750 访问50次网页，耗时：2.2535769939422607\n",
      "16800 访问50次网页，耗时：2.2092130184173584\n",
      "16850 访问50次网页，耗时：2.135124921798706\n"
     ]
    },
    {
     "name": "stderr",
     "output_type": "stream",
     "text": [
      "Exception in thread Thread-16955:\n",
      "Traceback (most recent call last):\n",
      "  File \"C:\\MYSOFT\\anaconda\\anaconda\\lib\\threading.py\", line 973, in _bootstrap_inner\n",
      "    self.run()\n",
      "  File \"C:\\MYSOFT\\anaconda\\anaconda\\lib\\threading.py\", line 910, in run\n",
      "    self._target(*self._args, **self._kwargs)\n",
      "  File \"C:\\Users\\daichuan\\AppData\\Local\\Temp/ipykernel_12592/2605260685.py\", line 14, in get_detail_all\n",
      "IndexError: list index out of range\n"
     ]
    },
    {
     "name": "stdout",
     "output_type": "stream",
     "text": [
      "16900 访问50次网页，耗时：2.2203664779663086\n",
      "16950 访问50次网页，耗时：2.5189647674560547\n",
      "17000 访问50次网页，耗时：2.270850419998169\n",
      "17050 访问50次网页，耗时：2.1287670135498047\n",
      "17100 访问50次网页，耗时：2.4952938556671143\n",
      "17150 访问50次网页，耗时：2.3157875537872314\n",
      "17200 访问50次网页，耗时：2.305408000946045\n",
      "17250 访问50次网页，耗时：2.2539713382720947\n",
      "17300 访问50次网页，耗时：2.253293514251709\n",
      "17350 访问50次网页，耗时：2.3788044452667236\n",
      "17400 访问50次网页，耗时：2.6606009006500244\n",
      "17450 访问50次网页，耗时：2.8955163955688477\n"
     ]
    },
    {
     "name": "stderr",
     "output_type": "stream",
     "text": [
      "Exception in thread Thread-17526:\n",
      "Traceback (most recent call last):\n",
      "  File \"C:\\MYSOFT\\anaconda\\anaconda\\lib\\threading.py\", line 973, in _bootstrap_inner\n",
      "    self.run()\n",
      "  File \"C:\\MYSOFT\\anaconda\\anaconda\\lib\\threading.py\", line 910, in run\n",
      "    self._target(*self._args, **self._kwargs)\n",
      "  File \"C:\\Users\\daichuan\\AppData\\Local\\Temp/ipykernel_12592/2605260685.py\", line 14, in get_detail_all\n",
      "IndexError: list index out of range\n"
     ]
    },
    {
     "name": "stdout",
     "output_type": "stream",
     "text": [
      "17500 访问50次网页，耗时：2.9618141651153564\n",
      "17550 访问50次网页，耗时：2.36083984375\n",
      "17600 访问50次网页，耗时：2.2228715419769287\n",
      "17650 访问50次网页，耗时：2.15751051902771\n",
      "17700 访问50次网页，耗时：2.6009788513183594\n",
      "17750 访问50次网页，耗时：2.4179739952087402\n"
     ]
    },
    {
     "name": "stderr",
     "output_type": "stream",
     "text": [
      "Exception in thread Thread-17852:\n",
      "Traceback (most recent call last):\n",
      "  File \"C:\\MYSOFT\\anaconda\\anaconda\\lib\\threading.py\", line 973, in _bootstrap_inner\n",
      "    self.run()\n",
      "  File \"C:\\MYSOFT\\anaconda\\anaconda\\lib\\threading.py\", line 910, in run\n",
      "    self._target(*self._args, **self._kwargs)\n",
      "  File \"C:\\Users\\daichuan\\AppData\\Local\\Temp/ipykernel_12592/2605260685.py\", line 14, in get_detail_all\n",
      "IndexError: list index out of range\n"
     ]
    },
    {
     "name": "stdout",
     "output_type": "stream",
     "text": [
      "17800 访问50次网页，耗时：2.721632719039917\n"
     ]
    },
    {
     "name": "stderr",
     "output_type": "stream",
     "text": [
      "Exception in thread Thread-17867:\n",
      "Traceback (most recent call last):\n",
      "  File \"C:\\MYSOFT\\anaconda\\anaconda\\lib\\threading.py\", line 973, in _bootstrap_inner\n",
      "    self.run()\n",
      "  File \"C:\\MYSOFT\\anaconda\\anaconda\\lib\\threading.py\", line 910, in run\n",
      "    self._target(*self._args, **self._kwargs)\n",
      "  File \"C:\\Users\\daichuan\\AppData\\Local\\Temp/ipykernel_12592/2605260685.py\", line 14, in get_detail_all\n",
      "IndexError: list index out of range\n"
     ]
    },
    {
     "name": "stdout",
     "output_type": "stream",
     "text": [
      "17850 访问50次网页，耗时：2.1994123458862305\n",
      "17900 访问50次网页，耗时：2.1419379711151123\n",
      "17950 访问50次网页，耗时：2.691248893737793\n",
      "18000 访问50次网页，耗时：2.2554919719696045\n"
     ]
    },
    {
     "name": "stderr",
     "output_type": "stream",
     "text": [
      "Exception in thread Thread-18074:\n",
      "Traceback (most recent call last):\n",
      "  File \"C:\\MYSOFT\\anaconda\\anaconda\\lib\\threading.py\", line 973, in _bootstrap_inner\n",
      "    self.run()\n",
      "  File \"C:\\MYSOFT\\anaconda\\anaconda\\lib\\threading.py\", line 910, in run\n",
      "    self._target(*self._args, **self._kwargs)\n",
      "  File \"C:\\Users\\daichuan\\AppData\\Local\\Temp/ipykernel_12592/2605260685.py\", line 14, in get_detail_all\n",
      "IndexError: list index out of range\n"
     ]
    },
    {
     "name": "stdout",
     "output_type": "stream",
     "text": [
      "18050 访问50次网页，耗时：2.3104445934295654\n",
      "18100 访问50次网页，耗时：2.4274237155914307\n",
      "18150 访问50次网页，耗时：2.372690200805664\n",
      "18200 访问50次网页，耗时：2.0216262340545654\n",
      "18250 访问50次网页，耗时：2.126542091369629\n",
      "18300 访问50次网页，耗时：2.2559149265289307\n",
      "18350 访问50次网页，耗时：2.220369815826416\n",
      "18400 访问50次网页，耗时：2.3893158435821533\n",
      "18450 访问50次网页，耗时：2.086599826812744\n"
     ]
    },
    {
     "name": "stderr",
     "output_type": "stream",
     "text": [
      "Exception in thread Thread-18542:\n",
      "Traceback (most recent call last):\n",
      "  File \"C:\\MYSOFT\\anaconda\\anaconda\\lib\\threading.py\", line 973, in _bootstrap_inner\n",
      "    self.run()\n",
      "  File \"C:\\MYSOFT\\anaconda\\anaconda\\lib\\threading.py\", line 910, in run\n",
      "    self._target(*self._args, **self._kwargs)\n",
      "  File \"C:\\Users\\daichuan\\AppData\\Local\\Temp/ipykernel_12592/2605260685.py\", line 22, in get_detail_all\n",
      "IndexError: list index out of range\n"
     ]
    },
    {
     "name": "stdout",
     "output_type": "stream",
     "text": [
      "18500 访问50次网页，耗时：3.4573001861572266\n"
     ]
    },
    {
     "name": "stderr",
     "output_type": "stream",
     "text": [
      "Exception in thread Thread-18567:\n",
      "Traceback (most recent call last):\n",
      "  File \"C:\\MYSOFT\\anaconda\\anaconda\\lib\\threading.py\", line 973, in _bootstrap_inner\n",
      "    self.run()\n",
      "  File \"C:\\MYSOFT\\anaconda\\anaconda\\lib\\threading.py\", line 910, in run\n",
      "    self._target(*self._args, **self._kwargs)\n",
      "  File \"C:\\Users\\daichuan\\AppData\\Local\\Temp/ipykernel_12592/2605260685.py\", line 14, in get_detail_all\n",
      "IndexError: list index out of range\n",
      "Exception in thread Thread-18587:\n",
      "Traceback (most recent call last):\n",
      "  File \"C:\\MYSOFT\\anaconda\\anaconda\\lib\\threading.py\", line 973, in _bootstrap_inner\n",
      "    self.run()\n",
      "  File \"C:\\MYSOFT\\anaconda\\anaconda\\lib\\threading.py\", line 910, in run\n",
      "    self._target(*self._args, **self._kwargs)\n",
      "  File \"C:\\Users\\daichuan\\AppData\\Local\\Temp/ipykernel_12592/2605260685.py\", line 14, in get_detail_all\n",
      "IndexError: list index out of range\n"
     ]
    },
    {
     "name": "stdout",
     "output_type": "stream",
     "text": [
      "18550 访问50次网页，耗时：2.079399824142456\n",
      "18600 访问50次网页，耗时：2.6259970664978027\n",
      "18650 访问50次网页，耗时：2.3820674419403076\n"
     ]
    },
    {
     "name": "stderr",
     "output_type": "stream",
     "text": [
      "Exception in thread Thread-18718:\n",
      "Traceback (most recent call last):\n",
      "  File \"C:\\MYSOFT\\anaconda\\anaconda\\lib\\threading.py\", line 973, in _bootstrap_inner\n",
      "    self.run()\n",
      "  File \"C:\\MYSOFT\\anaconda\\anaconda\\lib\\threading.py\", line 910, in run\n",
      "    self._target(*self._args, **self._kwargs)\n",
      "  File \"C:\\Users\\daichuan\\AppData\\Local\\Temp/ipykernel_12592/2605260685.py\", line 14, in get_detail_all\n",
      "IndexError: list index out of range\n"
     ]
    },
    {
     "name": "stdout",
     "output_type": "stream",
     "text": [
      "18700 访问50次网页，耗时：2.3900277614593506\n",
      "18750 访问50次网页，耗时：2.315126657485962\n",
      "18800 访问50次网页，耗时：2.7547850608825684\n",
      "18850 访问50次网页，耗时：2.2649574279785156\n",
      "18900 访问50次网页，耗时：2.0810904502868652\n",
      "18950 访问50次网页，耗时：2.4573769569396973\n",
      "19000 访问50次网页，耗时：2.5306684970855713\n",
      "19050 访问50次网页，耗时：2.3575990200042725\n",
      "19100 访问50次网页，耗时：2.1031198501586914\n",
      "19150 访问50次网页，耗时：2.0998291969299316\n",
      "19200 访问50次网页，耗时：2.2075252532958984\n",
      "19250 访问50次网页，耗时：2.342540740966797\n",
      "19300 访问50次网页，耗时：2.2076480388641357\n",
      "19350 访问50次网页，耗时：2.247978925704956\n",
      "19400 访问50次网页，耗时：2.3424441814422607\n",
      "19450 访问50次网页，耗时：2.1154391765594482\n",
      "19500 访问50次网页，耗时：2.133657693862915\n",
      "19550 访问50次网页，耗时：2.164994478225708\n",
      "19600 访问50次网页，耗时：2.1804773807525635\n",
      "19650 访问50次网页，耗时：2.712909698486328\n"
     ]
    },
    {
     "name": "stderr",
     "output_type": "stream",
     "text": [
      "Exception in thread Thread-19756:\n",
      "Traceback (most recent call last):\n",
      "  File \"C:\\MYSOFT\\anaconda\\anaconda\\lib\\threading.py\", line 973, in _bootstrap_inner\n",
      "    self.run()\n",
      "  File \"C:\\MYSOFT\\anaconda\\anaconda\\lib\\threading.py\", line 910, in run\n",
      "    self._target(*self._args, **self._kwargs)\n",
      "  File \"C:\\Users\\daichuan\\AppData\\Local\\Temp/ipykernel_12592/2605260685.py\", line 14, in get_detail_all\n",
      "IndexError: list index out of range\n",
      "Exception in thread Thread-19732:\n",
      "Traceback (most recent call last):\n",
      "  File \"C:\\MYSOFT\\anaconda\\anaconda\\lib\\threading.py\", line 973, in _bootstrap_inner\n",
      "    self.run()\n",
      "  File \"C:\\MYSOFT\\anaconda\\anaconda\\lib\\threading.py\", line 910, in run\n",
      "    self._target(*self._args, **self._kwargs)\n",
      "  File \"C:\\Users\\daichuan\\AppData\\Local\\Temp/ipykernel_12592/2605260685.py\", line 14, in get_detail_all\n",
      "IndexError: list index out of range\n"
     ]
    },
    {
     "name": "stdout",
     "output_type": "stream",
     "text": [
      "19700 访问50次网页，耗时：2.289858102798462\n",
      "19750 访问50次网页，耗时：2.509047031402588\n",
      "19800 访问50次网页，耗时：2.688030481338501\n",
      "19850 访问50次网页，耗时：2.448702096939087\n",
      "19900 访问50次网页，耗时：2.1361141204833984\n",
      "19950 访问50次网页，耗时：2.3385353088378906\n",
      "20000 访问50次网页，耗时：2.113739252090454\n",
      "20050 访问50次网页，耗时：2.3982009887695312\n",
      "20100 访问50次网页，耗时：2.5856330394744873\n",
      "20150 访问50次网页，耗时：2.242464303970337\n",
      "20200 访问50次网页，耗时：2.031665802001953\n",
      "20250 访问50次网页，耗时：2.1553850173950195\n",
      "20300 访问50次网页，耗时：2.274521589279175\n",
      "20350 访问50次网页，耗时：2.4873857498168945\n",
      "20400 访问50次网页，耗时：2.280787944793701\n",
      "20450 访问50次网页，耗时：2.1773667335510254\n",
      "20500 访问50次网页，耗时：2.421351194381714\n",
      "20550 访问50次网页，耗时：2.3519668579101562\n",
      "20600 访问50次网页，耗时：2.21938419342041\n",
      "20650 访问50次网页，耗时：2.480962038040161\n",
      "20700 访问50次网页，耗时：2.298060894012451\n",
      "20750 访问50次网页，耗时：2.2831661701202393\n",
      "20800 访问50次网页，耗时：2.2201881408691406\n",
      "20850 访问50次网页，耗时：3.48154354095459\n",
      "20900 访问50次网页，耗时：2.378246784210205\n",
      "20950 访问50次网页，耗时：6.628710746765137\n",
      "21000 访问50次网页，耗时：2.321627616882324\n",
      "21050 访问50次网页，耗时：2.457394599914551\n",
      "21100 访问50次网页，耗时：2.512722969055176\n",
      "21150 访问50次网页，耗时：2.236114740371704\n",
      "21200 访问50次网页，耗时：2.044023275375366\n",
      "21250 访问50次网页，耗时：2.1346230506896973\n",
      "21300 访问50次网页，耗时：2.3780224323272705\n",
      "21350 访问50次网页，耗时：2.2583723068237305\n",
      "21400 访问50次网页，耗时：2.248521089553833\n",
      "21450 访问50次网页，耗时：2.3757994174957275\n",
      "21500 访问50次网页，耗时：2.2263782024383545\n",
      "21550 访问50次网页，耗时：2.5021774768829346\n",
      "21600 访问50次网页，耗时：2.1828572750091553\n",
      "21650 访问50次网页，耗时：2.3595123291015625\n"
     ]
    },
    {
     "name": "stderr",
     "output_type": "stream",
     "text": [
      "Exception in thread Thread-21753:\n",
      "Traceback (most recent call last):\n",
      "  File \"C:\\MYSOFT\\anaconda\\anaconda\\lib\\threading.py\", line 973, in _bootstrap_inner\n",
      "    self.run()\n",
      "  File \"C:\\MYSOFT\\anaconda\\anaconda\\lib\\threading.py\", line 910, in run\n",
      "    self._target(*self._args, **self._kwargs)\n",
      "  File \"C:\\Users\\daichuan\\AppData\\Local\\Temp/ipykernel_12592/2605260685.py\", line 14, in get_detail_all\n",
      "IndexError: list index out of range\n"
     ]
    },
    {
     "name": "stdout",
     "output_type": "stream",
     "text": [
      "21700 访问50次网页，耗时：2.509197950363159\n",
      "21750 访问50次网页，耗时：2.277259349822998\n",
      "21800 访问50次网页，耗时：2.2339861392974854\n",
      "21850 访问50次网页，耗时：2.3606772422790527\n",
      "21900 访问50次网页，耗时：2.0985448360443115\n",
      "21950 访问50次网页，耗时：2.1155550479888916\n",
      "22000 访问50次网页，耗时：2.227036714553833\n",
      "22050 访问50次网页，耗时：2.4343106746673584\n"
     ]
    },
    {
     "name": "stderr",
     "output_type": "stream",
     "text": [
      "Exception in thread Thread-22112:\n",
      "Traceback (most recent call last):\n",
      "  File \"C:\\MYSOFT\\anaconda\\anaconda\\lib\\threading.py\", line 973, in _bootstrap_inner\n",
      "    self.run()\n",
      "  File \"C:\\MYSOFT\\anaconda\\anaconda\\lib\\threading.py\", line 910, in run\n",
      "    self._target(*self._args, **self._kwargs)\n",
      "  File \"C:\\Users\\daichuan\\AppData\\Local\\Temp/ipykernel_12592/2605260685.py\", line 14, in get_detail_all\n",
      "IndexError: list index out of range\n"
     ]
    },
    {
     "name": "stdout",
     "output_type": "stream",
     "text": [
      "22100 访问50次网页，耗时：2.3854451179504395\n",
      "22150 访问50次网页，耗时：2.4058780670166016\n",
      "22200 访问50次网页，耗时：2.083080291748047\n",
      "22250 访问50次网页，耗时：2.1334898471832275\n"
     ]
    },
    {
     "name": "stderr",
     "output_type": "stream",
     "text": [
      "Exception in thread Thread-22335:\n",
      "Traceback (most recent call last):\n",
      "  File \"C:\\MYSOFT\\anaconda\\anaconda\\lib\\threading.py\", line 973, in _bootstrap_inner\n",
      "    self.run()\n",
      "  File \"C:\\MYSOFT\\anaconda\\anaconda\\lib\\threading.py\", line 910, in run\n",
      "    self._target(*self._args, **self._kwargs)\n",
      "  File \"C:\\Users\\daichuan\\AppData\\Local\\Temp/ipykernel_12592/2605260685.py\", line 14, in get_detail_all\n",
      "IndexError: list index out of range\n"
     ]
    },
    {
     "name": "stdout",
     "output_type": "stream",
     "text": [
      "22300 访问50次网页，耗时：2.1017401218414307\n",
      "22350 访问50次网页，耗时：2.315574884414673\n",
      "22400 访问50次网页，耗时：2.4257700443267822\n",
      "22450 访问50次网页，耗时：2.2444820404052734\n",
      "22500 访问50次网页，耗时：2.235772132873535\n",
      "22550 访问50次网页，耗时：2.091938018798828\n",
      "22600 访问50次网页，耗时：2.569251537322998\n",
      "22650 访问50次网页，耗时：2.2220890522003174\n",
      "22700 访问50次网页，耗时：2.3253018856048584\n",
      "22750 访问50次网页，耗时：2.318624496459961\n",
      "22800 访问50次网页，耗时：2.3791236877441406\n",
      "22850 访问50次网页，耗时：2.961196184158325\n",
      "22900 访问50次网页，耗时：2.288120985031128\n",
      "22950 访问50次网页，耗时：2.1460587978363037\n"
     ]
    },
    {
     "name": "stderr",
     "output_type": "stream",
     "text": [
      "Exception in thread Thread-23048:\n",
      "Traceback (most recent call last):\n",
      "  File \"C:\\MYSOFT\\anaconda\\anaconda\\lib\\threading.py\", line 973, in _bootstrap_inner\n",
      "    self.run()\n",
      "  File \"C:\\MYSOFT\\anaconda\\anaconda\\lib\\threading.py\", line 910, in run\n",
      "    self._target(*self._args, **self._kwargs)\n",
      "  File \"C:\\Users\\daichuan\\AppData\\Local\\Temp/ipykernel_12592/2605260685.py\", line 14, in get_detail_all\n",
      "IndexError: list index out of range\n"
     ]
    },
    {
     "name": "stdout",
     "output_type": "stream",
     "text": [
      "23000 访问50次网页，耗时：2.515087604522705\n",
      "23050 访问50次网页，耗时：2.278428077697754\n",
      "23100 访问50次网页，耗时：2.377753496170044\n",
      "23150 访问50次网页，耗时：2.2794628143310547\n",
      "23200 访问50次网页，耗时：2.776388645172119\n",
      "23250 访问50次网页，耗时：2.231823205947876\n",
      "23300 访问50次网页，耗时：2.3638663291931152\n",
      "23350 访问50次网页，耗时：2.382063627243042\n",
      "23400 访问50次网页，耗时：2.1968650817871094\n",
      "23450 访问50次网页，耗时：2.181588649749756\n",
      "23500 访问50次网页，耗时：2.3381948471069336\n",
      "23550 访问50次网页，耗时：2.1346662044525146\n",
      "23600 访问50次网页，耗时：2.055116891860962\n",
      "23650 访问50次网页，耗时：2.5015921592712402\n",
      "23700 访问50次网页，耗时：2.2107248306274414\n",
      "23750 访问50次网页，耗时：2.223529100418091\n",
      "23800 访问50次网页，耗时：2.247971773147583\n",
      "23850 访问50次网页，耗时：2.546668529510498\n",
      "23900 访问50次网页，耗时：2.2217910289764404\n",
      "23950 访问50次网页，耗时：2.1860969066619873\n",
      "24000 访问50次网页，耗时：2.5975656509399414\n",
      "24050 访问50次网页，耗时：2.0768094062805176\n",
      "24100 访问50次网页，耗时：2.6736505031585693\n",
      "24150 访问50次网页，耗时：2.4566688537597656\n",
      "24200 访问50次网页，耗时：2.1286473274230957\n",
      "24250 访问50次网页，耗时：2.7382867336273193\n",
      "24300 访问50次网页，耗时：2.1162707805633545\n",
      "24350 访问50次网页，耗时：2.353783369064331\n",
      "24400 访问50次网页，耗时：2.316793203353882\n",
      "24450 访问50次网页，耗时：2.115126371383667\n",
      "24500 访问50次网页，耗时：2.179006576538086\n",
      "24550 访问50次网页，耗时：2.3173859119415283\n",
      "24600 访问50次网页，耗时：2.0513720512390137\n",
      "24650 访问50次网页，耗时：2.2861547470092773\n",
      "24700 访问50次网页，耗时：2.3194313049316406\n",
      "24750 访问50次网页，耗时：2.463225841522217\n",
      "24800 访问50次网页，耗时：2.315850257873535\n",
      "24850 访问50次网页，耗时：2.193108081817627\n",
      "24900 访问50次网页，耗时：2.47585129737854\n",
      "24950 访问50次网页，耗时：2.202589511871338\n",
      "25000 访问50次网页，耗时：2.3446359634399414\n",
      "25050 访问50次网页，耗时：2.301981210708618\n",
      "25100 访问50次网页，耗时：2.317222833633423\n",
      "25150 访问50次网页，耗时：2.23836350440979\n",
      "25200 访问50次网页，耗时：2.2015397548675537\n",
      "25250 访问50次网页，耗时：2.2105979919433594\n",
      "25300 访问50次网页，耗时：2.3505706787109375\n",
      "25350 访问50次网页，耗时：2.175907611846924\n",
      "25400 访问50次网页，耗时：2.457782030105591\n",
      "25450 访问50次网页，耗时：2.2847249507904053\n",
      "25500 访问50次网页，耗时：2.066927671432495\n",
      "25550 访问50次网页，耗时：2.4785616397857666\n",
      "25600 访问50次网页，耗时：2.4132347106933594\n",
      "25650 访问50次网页，耗时：2.4429097175598145\n",
      "25700 访问50次网页，耗时：2.1760716438293457\n",
      "25750 访问50次网页，耗时：2.3160159587860107\n",
      "25800 访问50次网页，耗时：2.2224652767181396\n",
      "25850 访问50次网页，耗时：2.4757578372955322\n",
      "25900 访问50次网页，耗时：2.0971014499664307\n",
      "25950 访问50次网页，耗时：2.211461067199707\n",
      "26000 访问50次网页，耗时：2.347036838531494\n",
      "26050 访问50次网页，耗时：2.597350597381592\n",
      "26100 访问50次网页，耗时：2.711621046066284\n",
      "26150 访问50次网页，耗时：2.253359079360962\n",
      "26200 访问50次网页，耗时：2.0685997009277344\n",
      "26250 访问50次网页，耗时：2.161458730697632\n",
      "26300 访问50次网页，耗时：2.3372251987457275\n",
      "26350 访问50次网页，耗时：2.2379276752471924\n",
      "26400 访问50次网页，耗时：2.427050828933716\n",
      "26450 访问50次网页，耗时：2.3335816860198975\n",
      "26500 访问50次网页，耗时：2.2533693313598633\n",
      "26550 访问50次网页，耗时：2.1620934009552\n",
      "26600 访问50次网页，耗时：2.2854695320129395\n",
      "26650 访问50次网页，耗时：2.6283063888549805\n",
      "26700 访问50次网页，耗时：2.1295583248138428\n",
      "26750 访问50次网页，耗时：2.300145387649536\n",
      "26800 访问50次网页，耗时：2.1612038612365723\n",
      "26850 访问50次网页，耗时：2.4038193225860596\n",
      "26900 访问50次网页，耗时：2.3782122135162354\n",
      "26950 访问50次网页，耗时：2.4727234840393066\n",
      "27000 访问50次网页，耗时：2.316781759262085\n"
     ]
    },
    {
     "name": "stderr",
     "output_type": "stream",
     "text": [
      "Exception in thread Thread-27074:\n",
      "Traceback (most recent call last):\n",
      "  File \"C:\\MYSOFT\\anaconda\\anaconda\\lib\\threading.py\", line 973, in _bootstrap_inner\n",
      "    self.run()\n",
      "  File \"C:\\MYSOFT\\anaconda\\anaconda\\lib\\threading.py\", line 910, in run\n",
      "    self._target(*self._args, **self._kwargs)\n",
      "  File \"C:\\Users\\daichuan\\AppData\\Local\\Temp/ipykernel_12592/2605260685.py\", line 14, in get_detail_all\n",
      "IndexError: list index out of range\n"
     ]
    },
    {
     "name": "stdout",
     "output_type": "stream",
     "text": [
      "27050 访问50次网页，耗时：2.4092087745666504\n",
      "27100 访问50次网页，耗时：2.660445213317871\n",
      "27150 访问50次网页，耗时：2.457768440246582\n",
      "27200 访问50次网页，耗时：2.4882373809814453\n",
      "27250 访问50次网页，耗时：2.380366086959839\n",
      "27300 访问50次网页，耗时：2.5345821380615234\n",
      "27350 访问50次网页，耗时：2.287321090698242\n",
      "27400 访问50次网页，耗时：2.2376551628112793\n",
      "27450 访问50次网页，耗时：2.6129446029663086\n",
      "27500 访问50次网页，耗时：2.722872495651245\n",
      "27550 访问50次网页，耗时：2.474163055419922\n",
      "27600 访问50次网页，耗时：2.0660083293914795\n",
      "27650 访问50次网页，耗时：2.332254409790039\n",
      "27700 访问50次网页，耗时：2.3319010734558105\n",
      "27750 访问50次网页，耗时：2.4568331241607666\n",
      "27800 访问50次网页，耗时：2.36283278465271\n",
      "27850 访问50次网页，耗时：2.7527637481689453\n",
      "27900 访问50次网页，耗时：2.897162437438965\n",
      "27950 访问50次网页，耗时：2.441274642944336\n",
      "28000 访问50次网页，耗时：2.738375186920166\n",
      "28050 访问50次网页，耗时：2.2745180130004883\n",
      "28100 访问50次网页，耗时：2.2892160415649414\n",
      "28150 访问50次网页，耗时：2.178483724594116\n",
      "28200 访问50次网页，耗时：2.550185203552246\n",
      "28250 访问50次网页，耗时：2.3320796489715576\n",
      "28300 访问50次网页，耗时：2.2231035232543945\n",
      "28350 访问50次网页，耗时：2.192857265472412\n",
      "28400 访问50次网页，耗时：2.441016435623169\n",
      "28450 访问50次网页，耗时：3.2842624187469482\n",
      "28500 访问50次网页，耗时：2.5839083194732666\n",
      "28550 访问50次网页，耗时：2.1776721477508545\n"
     ]
    },
    {
     "name": "stderr",
     "output_type": "stream",
     "text": [
      "Exception in thread Thread-28656:\n",
      "Traceback (most recent call last):\n",
      "  File \"C:\\MYSOFT\\anaconda\\anaconda\\lib\\threading.py\", line 973, in _bootstrap_inner\n",
      "    self.run()\n",
      "  File \"C:\\MYSOFT\\anaconda\\anaconda\\lib\\threading.py\", line 910, in run\n",
      "    self._target(*self._args, **self._kwargs)\n",
      "  File \"C:\\Users\\daichuan\\AppData\\Local\\Temp/ipykernel_12592/2605260685.py\", line 14, in get_detail_all\n",
      "IndexError: list index out of range\n"
     ]
    },
    {
     "name": "stdout",
     "output_type": "stream",
     "text": [
      "28600 访问50次网页，耗时：2.135000228881836\n",
      "28650 访问50次网页，耗时：2.2717487812042236\n",
      "28700 访问50次网页，耗时：2.2538156509399414\n",
      "28750 访问50次网页，耗时：2.2069618701934814\n",
      "28800 访问50次网页，耗时：2.224113941192627\n",
      "28850 访问50次网页，耗时：2.6804192066192627\n",
      "28900 访问50次网页，耗时：2.0204873085021973\n",
      "28950 访问50次网页，耗时：2.3956949710845947\n",
      "29000 访问50次网页，耗时：3.190725326538086\n",
      "29050 访问50次网页，耗时：2.05499529838562\n",
      "29100 访问50次网页，耗时：2.1288187503814697\n",
      "29150 访问50次网页，耗时：2.3174266815185547\n",
      "29200 访问50次网页，耗时：2.1800758838653564\n",
      "29250 访问50次网页，耗时：2.378577947616577\n",
      "29300 访问50次网页，耗时：4.565385103225708\n",
      "29350 访问50次网页，耗时：2.3165507316589355\n",
      "29400 访问50次网页，耗时：2.113532781600952\n",
      "29450 访问50次网页，耗时：2.0679712295532227\n",
      "29500 访问50次网页，耗时：2.394925832748413\n",
      "29550 访问50次网页，耗时：2.4884326457977295\n",
      "29600 访问50次网页，耗时：2.3019156455993652\n",
      "29650 访问50次网页，耗时：2.1300735473632812\n",
      "29700 访问50次网页，耗时：2.5410029888153076\n",
      "29750 访问50次网页，耗时：2.238837242126465\n",
      "29800 访问50次网页，耗时：2.4618947505950928\n",
      "29850 访问50次网页，耗时：2.411407709121704\n",
      "29900 访问50次网页，耗时：2.525376796722412\n",
      "29950 访问50次网页，耗时：2.603849411010742\n",
      "30000 访问50次网页，耗时：2.370943546295166\n",
      "30050 访问50次网页，耗时：2.223503828048706\n",
      "30100 访问50次网页，耗时：2.472001075744629\n",
      "30150 访问50次网页，耗时：2.5416271686553955\n",
      "30200 访问50次网页，耗时：2.426414966583252\n",
      "30250 访问50次网页，耗时：2.645315647125244\n"
     ]
    },
    {
     "name": "stderr",
     "output_type": "stream",
     "text": [
      "Exception in thread Thread-30313:\n",
      "Traceback (most recent call last):\n",
      "  File \"C:\\MYSOFT\\anaconda\\anaconda\\lib\\threading.py\", line 973, in _bootstrap_inner\n",
      "    self.run()\n",
      "  File \"C:\\MYSOFT\\anaconda\\anaconda\\lib\\threading.py\", line 910, in run\n",
      "    self._target(*self._args, **self._kwargs)\n",
      "  File \"C:\\Users\\daichuan\\AppData\\Local\\Temp/ipykernel_12592/2605260685.py\", line 14, in get_detail_all\n",
      "IndexError: list index out of range\n"
     ]
    },
    {
     "name": "stdout",
     "output_type": "stream",
     "text": [
      "30300 访问50次网页，耗时：2.3092153072357178\n",
      "30350 访问50次网页，耗时：2.3022289276123047\n",
      "30400 访问50次网页，耗时：2.3319199085235596\n",
      "30450 访问50次网页，耗时：2.5052852630615234\n",
      "30500 访问50次网页，耗时：2.125704526901245\n",
      "30550 访问50次网页，耗时：2.3160603046417236\n",
      "30600 访问50次网页，耗时：2.4722630977630615\n",
      "30650 访问50次网页，耗时：2.396531105041504\n",
      "30700 访问50次网页，耗时：2.37956166267395\n",
      "30750 访问50次网页，耗时：2.1292660236358643\n",
      "30800 访问50次网页，耗时：2.1926944255828857\n",
      "30850 访问50次网页，耗时：2.0673186779022217\n",
      "30900 访问50次网页，耗时：2.31650447845459\n",
      "30950 访问50次网页，耗时：2.411223888397217\n",
      "31000 访问50次网页，耗时：2.458035945892334\n"
     ]
    },
    {
     "name": "stderr",
     "output_type": "stream",
     "text": [
      "Exception in thread Thread-31079:\n",
      "Traceback (most recent call last):\n",
      "  File \"C:\\MYSOFT\\anaconda\\anaconda\\lib\\threading.py\", line 973, in _bootstrap_inner\n",
      "    self.run()\n",
      "  File \"C:\\MYSOFT\\anaconda\\anaconda\\lib\\threading.py\", line 910, in run\n",
      "    self._target(*self._args, **self._kwargs)\n",
      "  File \"C:\\Users\\daichuan\\AppData\\Local\\Temp/ipykernel_12592/2605260685.py\", line 14, in get_detail_all\n",
      "IndexError: list index out of range\n"
     ]
    },
    {
     "name": "stdout",
     "output_type": "stream",
     "text": [
      "31050 访问50次网页，耗时：2.4095993041992188\n",
      "31100 访问50次网页，耗时：2.159782648086548\n",
      "31150 访问50次网页，耗时：2.3198165893554688\n",
      "31200 访问50次网页，耗时：2.347504138946533\n",
      "31250 访问50次网页，耗时：4.143572568893433\n",
      "31300 访问50次网页，耗时：2.5344767570495605\n",
      "31350 访问50次网页，耗时：2.4651191234588623\n",
      "31400 访问50次网页，耗时：2.2912755012512207\n",
      "31450 访问50次网页，耗时：2.266120672225952\n",
      "31500 访问50次网页，耗时：2.1764755249023438\n",
      "31550 访问50次网页，耗时：2.2294962406158447\n",
      "31600 访问50次网页，耗时：2.307882785797119\n",
      "31650 访问50次网页，耗时：2.6247334480285645\n",
      "31700 访问50次网页，耗时：2.96687388420105\n",
      "31750 访问50次网页，耗时：2.2064337730407715\n",
      "31800 访问50次网页，耗时：2.406712055206299\n",
      "31850 访问50次网页，耗时：2.6235296726226807\n",
      "31900 访问50次网页，耗时：2.3797500133514404\n",
      "31950 访问50次网页，耗时：2.2387242317199707\n",
      "32000 访问50次网页，耗时：2.4114785194396973\n",
      "32050 访问50次网页，耗时：2.432852029800415\n",
      "32100 访问50次网页，耗时：2.490867853164673\n",
      "32150 访问50次网页，耗时：2.1970067024230957\n",
      "32200 访问50次网页，耗时：2.3720967769622803\n",
      "32250 访问50次网页，耗时：2.380138874053955\n",
      "32300 访问50次网页，耗时：2.7459590435028076\n",
      "32350 访问50次网页，耗时：2.1690433025360107\n",
      "32400 访问50次网页，耗时：2.286012887954712\n",
      "32450 访问50次网页，耗时：2.774954080581665\n",
      "32500 访问50次网页，耗时：3.458470106124878\n",
      "32550 访问50次网页，耗时：2.487793207168579\n",
      "32600 访问50次网页，耗时：2.5871870517730713\n",
      "32650 访问50次网页，耗时：2.3140273094177246\n",
      "32700 访问50次网页，耗时：2.2702760696411133\n",
      "32750 访问50次网页，耗时：2.1951920986175537\n",
      "32800 访问50次网页，耗时：2.2376556396484375\n",
      "32850 访问50次网页，耗时：2.364651918411255\n",
      "32900 访问50次网页，耗时：2.3948984146118164\n",
      "32950 访问50次网页，耗时：2.2861146926879883\n",
      "33000 访问50次网页，耗时：2.956249237060547\n",
      "33050 访问50次网页，耗时：2.2387688159942627\n",
      "33100 访问50次网页，耗时：2.5062098503112793\n",
      "33150 访问50次网页，耗时：2.161012649536133\n",
      "33200 访问50次网页，耗时：2.443802833557129\n",
      "33250 访问50次网页，耗时：2.768883228302002\n",
      "33300 访问50次网页，耗时：2.3170740604400635\n",
      "33350 访问50次网页，耗时：2.5055642127990723\n",
      "33400 访问50次网页，耗时：2.540177822113037\n",
      "33450 访问50次网页，耗时：2.2840938568115234\n"
     ]
    },
    {
     "name": "stderr",
     "output_type": "stream",
     "text": [
      "Exception in thread Thread-33529:\n",
      "Traceback (most recent call last):\n",
      "  File \"C:\\MYSOFT\\anaconda\\anaconda\\lib\\threading.py\", line 973, in _bootstrap_inner\n",
      "    self.run()\n",
      "  File \"C:\\MYSOFT\\anaconda\\anaconda\\lib\\threading.py\", line 910, in run\n",
      "    self._target(*self._args, **self._kwargs)\n",
      "  File \"C:\\Users\\daichuan\\AppData\\Local\\Temp/ipykernel_12592/2605260685.py\", line 14, in get_detail_all\n",
      "IndexError: list index out of range\n"
     ]
    },
    {
     "name": "stdout",
     "output_type": "stream",
     "text": [
      "33500 访问50次网页，耗时：2.3474268913269043\n",
      "33550 访问50次网页，耗时：2.442009925842285\n",
      "33600 访问50次网页，耗时：16.110817193984985\n",
      "33650 访问50次网页，耗时：2.398629665374756\n",
      "33700 访问50次网页，耗时：2.2245094776153564\n",
      "33750 访问50次网页，耗时：2.2324564456939697\n",
      "33800 访问50次网页，耗时：2.276987075805664\n",
      "33850 访问50次网页，耗时：2.206536054611206\n",
      "33900 访问50次网页，耗时：2.6374754905700684\n",
      "33950 访问50次网页，耗时：2.518880605697632\n",
      "34000 访问50次网页，耗时：2.6604299545288086\n",
      "34050 访问50次网页，耗时：2.44333553314209\n",
      "34100 访问50次网页，耗时：2.2865493297576904\n",
      "34150 访问50次网页，耗时：2.4096462726593018\n",
      "34200 访问50次网页，耗时：2.394078016281128\n",
      "34250 访问50次网页，耗时：2.3642585277557373\n",
      "34300 访问50次网页，耗时：2.363790273666382\n",
      "34350 访问50次网页，耗时：2.3334052562713623\n",
      "34400 访问50次网页，耗时：2.119858503341675\n",
      "34450 访问50次网页，耗时：2.1601290702819824\n",
      "34500 访问50次网页，耗时：2.4139490127563477\n",
      "34550 访问50次网页，耗时：2.3621585369110107\n",
      "34600 访问50次网页，耗时：2.2234787940979004\n",
      "34650 访问50次网页，耗时：2.415570020675659\n",
      "34700 访问50次网页，耗时：2.0228660106658936\n",
      "34750 访问50次网页，耗时：2.378347873687744\n"
     ]
    },
    {
     "name": "stderr",
     "output_type": "stream",
     "text": [
      "Exception in thread Thread-34811:\n",
      "Traceback (most recent call last):\n",
      "  File \"C:\\MYSOFT\\anaconda\\anaconda\\lib\\threading.py\", line 973, in _bootstrap_inner\n",
      "    self.run()\n",
      "  File \"C:\\MYSOFT\\anaconda\\anaconda\\lib\\threading.py\", line 910, in run\n",
      "    self._target(*self._args, **self._kwargs)\n",
      "  File \"C:\\Users\\daichuan\\AppData\\Local\\Temp/ipykernel_12592/2605260685.py\", line 14, in get_detail_all\n",
      "IndexError: list index out of range\n"
     ]
    },
    {
     "name": "stdout",
     "output_type": "stream",
     "text": [
      "34800 访问50次网页，耗时：2.133732557296753\n",
      "34850 访问50次网页，耗时：2.4732744693756104\n",
      "34900 访问50次网页，耗时：2.355820417404175\n",
      "34950 访问50次网页，耗时：4.597670555114746\n",
      "35000 访问50次网页，耗时：2.800724744796753\n",
      "35050 访问50次网页，耗时：2.2964954376220703\n",
      "35100 访问50次网页，耗时：2.4418249130249023\n",
      "35150 访问50次网页，耗时：2.161731004714966\n",
      "35200 访问50次网页，耗时：2.2386598587036133\n",
      "35250 访问50次网页，耗时：2.3363518714904785\n",
      "35300 访问50次网页，耗时：5.850651264190674\n",
      "35350 访问50次网页，耗时：2.284548759460449\n",
      "35400 访问50次网页，耗时：2.324458360671997\n",
      "35450 访问50次网页，耗时：2.6759684085845947\n",
      "35500 访问50次网页，耗时：2.3316004276275635\n",
      "35550 访问50次网页，耗时：2.6977641582489014\n",
      "35600 访问50次网页，耗时：2.6617047786712646\n",
      "35650 访问50次网页，耗时：2.4414596557617188\n",
      "35700 访问50次网页，耗时：2.0369420051574707\n"
     ]
    },
    {
     "name": "stderr",
     "output_type": "stream",
     "text": [
      "Exception in thread Thread-35770:\n",
      "Traceback (most recent call last):\n",
      "  File \"C:\\MYSOFT\\anaconda\\anaconda\\lib\\threading.py\", line 973, in _bootstrap_inner\n",
      "    self.run()\n",
      "  File \"C:\\MYSOFT\\anaconda\\anaconda\\lib\\threading.py\", line 910, in run\n",
      "    self._target(*self._args, **self._kwargs)\n",
      "  File \"C:\\Users\\daichuan\\AppData\\Local\\Temp/ipykernel_12592/2605260685.py\", line 14, in get_detail_all\n",
      "IndexError: list index out of range\n"
     ]
    },
    {
     "name": "stdout",
     "output_type": "stream",
     "text": [
      "35750 访问50次网页，耗时：2.3286824226379395\n",
      "35800 访问50次网页，耗时：2.581817865371704\n",
      "35850 访问50次网页，耗时：2.3912618160247803\n"
     ]
    },
    {
     "name": "stderr",
     "output_type": "stream",
     "text": [
      "Exception in thread Thread-35920:\n",
      "Traceback (most recent call last):\n",
      "  File \"C:\\MYSOFT\\anaconda\\anaconda\\lib\\threading.py\", line 973, in _bootstrap_inner\n",
      "    self.run()\n",
      "  File \"C:\\MYSOFT\\anaconda\\anaconda\\lib\\threading.py\", line 910, in run\n",
      "    self._target(*self._args, **self._kwargs)\n",
      "  File \"C:\\Users\\daichuan\\AppData\\Local\\Temp/ipykernel_12592/2605260685.py\", line 14, in get_detail_all\n",
      "IndexError: list index out of range\n"
     ]
    },
    {
     "name": "stdout",
     "output_type": "stream",
     "text": [
      "35900 访问50次网页，耗时：2.5973284244537354\n",
      "35950 访问50次网页，耗时：2.316758394241333\n",
      "36000 访问50次网页，耗时：2.1430163383483887\n",
      "36050 访问50次网页，耗时：2.6869006156921387\n",
      "36100 访问50次网页，耗时：2.2758307456970215\n",
      "36150 访问50次网页，耗时：2.395909309387207\n",
      "36200 访问50次网页，耗时：2.3419015407562256\n",
      "36250 访问50次网页，耗时：2.4113004207611084\n",
      "36300 访问50次网页，耗时：2.8016867637634277\n",
      "36350 访问50次网页，耗时：2.4604194164276123\n",
      "36400 访问50次网页，耗时：2.7399189472198486\n",
      "36450 访问50次网页，耗时：2.4748096466064453\n",
      "36500 访问50次网页，耗时：2.1909878253936768\n",
      "36550 访问50次网页，耗时：2.255080461502075\n",
      "36600 访问50次网页，耗时：2.238680601119995\n",
      "36650 访问50次网页，耗时：2.365365505218506\n",
      "36700 访问50次网页，耗时：2.280341148376465\n",
      "36750 访问50次网页，耗时：2.209881544113159\n",
      "36800 访问50次网页，耗时：2.706557035446167\n",
      "36850 访问50次网页，耗时：2.3326456546783447\n",
      "36900 访问50次网页，耗时：2.378574848175049\n",
      "36950 访问50次网页，耗时：2.223020315170288\n",
      "37000 访问50次网页，耗时：2.3002402782440186\n",
      "37050 访问50次网页，耗时：2.5051207542419434\n",
      "37100 访问50次网页，耗时：2.550349235534668\n",
      "37150 访问50次网页，耗时：2.370652198791504\n",
      "37200 访问50次网页，耗时：2.3644046783447266\n",
      "37250 访问50次网页，耗时：2.427072286605835\n",
      "37300 访问50次网页，耗时：2.3325977325439453\n",
      "37350 访问50次网页，耗时：2.2075672149658203\n",
      "37400 访问50次网页，耗时：2.1595396995544434\n",
      "37450 访问50次网页，耗时：2.159942150115967\n",
      "37500 访问50次网页，耗时：2.2766551971435547\n",
      "37550 访问50次网页，耗时：2.520115375518799\n",
      "37600 访问50次网页，耗时：2.5190911293029785\n",
      "37650 访问50次网页，耗时：2.177234172821045\n",
      "37700 访问50次网页，耗时：2.041584014892578\n",
      "37750 访问50次网页，耗时：2.3471310138702393\n",
      "37800 访问50次网页，耗时：2.5995123386383057\n",
      "37850 访问50次网页，耗时：2.3197336196899414\n",
      "37900 访问50次网页，耗时：2.458620071411133\n",
      "37950 访问50次网页，耗时：2.3798460960388184\n",
      "38000 访问50次网页，耗时：2.331634044647217\n",
      "38050 访问50次网页，耗时：2.5358338356018066\n",
      "38100 访问50次网页，耗时：2.3482933044433594\n",
      "38150 访问50次网页，耗时：2.3734757900238037\n",
      "38200 访问50次网页，耗时：2.1127126216888428\n",
      "38250 访问50次网页，耗时：2.4418749809265137\n",
      "38300 访问50次网页，耗时：2.6146976947784424\n"
     ]
    },
    {
     "name": "stderr",
     "output_type": "stream",
     "text": [
      "Exception in thread Thread-38389:\n",
      "Traceback (most recent call last):\n",
      "  File \"C:\\MYSOFT\\anaconda\\anaconda\\lib\\threading.py\", line 973, in _bootstrap_inner\n",
      "    self.run()\n",
      "  File \"C:\\MYSOFT\\anaconda\\anaconda\\lib\\threading.py\", line 910, in run\n",
      "    self._target(*self._args, **self._kwargs)\n",
      "  File \"C:\\Users\\daichuan\\AppData\\Local\\Temp/ipykernel_12592/2605260685.py\", line 14, in get_detail_all\n",
      "IndexError: list index out of range\n"
     ]
    },
    {
     "name": "stdout",
     "output_type": "stream",
     "text": [
      "38350 访问50次网页，耗时：2.2922608852386475\n",
      "38400 访问50次网页，耗时：2.098785877227783\n",
      "38450 访问50次网页，耗时：2.505216360092163\n"
     ]
    },
    {
     "name": "stderr",
     "output_type": "stream",
     "text": [
      "Exception in thread Thread-38520:\n",
      "Traceback (most recent call last):\n",
      "  File \"C:\\MYSOFT\\anaconda\\anaconda\\lib\\threading.py\", line 973, in _bootstrap_inner\n",
      "    self.run()\n",
      "  File \"C:\\MYSOFT\\anaconda\\anaconda\\lib\\threading.py\", line 910, in run\n",
      "    self._target(*self._args, **self._kwargs)\n",
      "  File \"C:\\Users\\daichuan\\AppData\\Local\\Temp/ipykernel_12592/2605260685.py\", line 14, in get_detail_all\n",
      "IndexError: list index out of range\n"
     ]
    },
    {
     "name": "stdout",
     "output_type": "stream",
     "text": [
      "38500 访问50次网页，耗时：2.1622586250305176\n",
      "38550 访问50次网页，耗时：2.347898244857788\n",
      "38600 访问50次网页，耗时：2.1631128787994385\n",
      "38650 访问50次网页，耗时：2.475100517272949\n",
      "38700 访问50次网页，耗时：2.1042447090148926\n",
      "38750 访问50次网页，耗时：2.4063401222229004\n",
      "38800 访问50次网页，耗时：2.4877774715423584\n",
      "38850 访问50次网页，耗时：2.3642234802246094\n",
      "38900 访问50次网页，耗时：2.37910795211792\n",
      "38950 访问50次网页，耗时：2.145646572113037\n",
      "39000 访问50次网页，耗时：2.2397713661193848\n",
      "39050 访问50次网页，耗时：2.332918643951416\n",
      "39100 访问50次网页，耗时：2.60027813911438\n",
      "39150 访问50次网页，耗时：2.411006212234497\n",
      "39200 访问50次网页，耗时：2.3649377822875977\n",
      "39250 访问50次网页，耗时：2.647674083709717\n",
      "39300 访问50次网页，耗时：2.1426308155059814\n",
      "39350 访问50次网页，耗时：2.053072690963745\n",
      "39400 访问50次网页，耗时：2.3474392890930176\n",
      "39450 访问50次网页，耗时：2.582850933074951\n",
      "39500 访问50次网页，耗时：2.3625030517578125\n",
      "39550 访问50次网页，耗时：2.144791603088379\n",
      "39600 访问50次网页，耗时：2.483541488647461\n"
     ]
    },
    {
     "name": "stderr",
     "output_type": "stream",
     "text": [
      "Exception in thread Thread-39681:\n",
      "Traceback (most recent call last):\n",
      "  File \"C:\\MYSOFT\\anaconda\\anaconda\\lib\\threading.py\", line 973, in _bootstrap_inner\n",
      "    self.run()\n",
      "  File \"C:\\MYSOFT\\anaconda\\anaconda\\lib\\threading.py\", line 910, in run\n",
      "    self._target(*self._args, **self._kwargs)\n",
      "  File \"C:\\Users\\daichuan\\AppData\\Local\\Temp/ipykernel_12592/2605260685.py\", line 14, in get_detail_all\n",
      "IndexError: list index out of range\n"
     ]
    },
    {
     "name": "stdout",
     "output_type": "stream",
     "text": [
      "39650 访问50次网页，耗时：2.535728931427002\n",
      "39700 访问50次网页，耗时：2.39522385597229\n",
      "39750 访问50次网页，耗时：2.1768250465393066\n"
     ]
    },
    {
     "name": "stderr",
     "output_type": "stream",
     "text": [
      "Exception in thread Thread-39808:\n",
      "Traceback (most recent call last):\n",
      "  File \"C:\\MYSOFT\\anaconda\\anaconda\\lib\\threading.py\", line 973, in _bootstrap_inner\n",
      "    self.run()\n",
      "  File \"C:\\MYSOFT\\anaconda\\anaconda\\lib\\threading.py\", line 910, in run\n",
      "    self._target(*self._args, **self._kwargs)\n",
      "  File \"C:\\Users\\daichuan\\AppData\\Local\\Temp/ipykernel_12592/2605260685.py\", line 14, in get_detail_all\n",
      "IndexError: list index out of range\n"
     ]
    },
    {
     "name": "stdout",
     "output_type": "stream",
     "text": [
      "39800 访问50次网页，耗时：2.7592809200286865\n",
      "39850 访问50次网页，耗时：2.593104362487793\n",
      "39900 访问50次网页，耗时：2.067490339279175\n",
      "39950 访问50次网页，耗时：2.3799562454223633\n",
      "40000 访问50次网页，耗时：2.338366985321045\n",
      "40050 访问50次网页，耗时：2.566786289215088\n",
      "40100 访问50次网页，耗时：2.895958185195923\n",
      "40150 访问50次网页，耗时：2.160600185394287\n",
      "40200 访问50次网页，耗时：2.5670342445373535\n",
      "40250 访问50次网页，耗时：2.1462996006011963\n",
      "40300 访问50次网页，耗时：2.364729881286621\n",
      "40350 访问50次网页，耗时：2.3395917415618896\n",
      "40400 访问50次网页，耗时：2.145982503890991\n",
      "40450 访问50次网页，耗时：2.537616491317749\n",
      "40500 访问50次网页，耗时：2.599393129348755\n",
      "40550 访问50次网页，耗时：2.271883487701416\n",
      "40600 访问50次网页，耗时：2.623520851135254\n",
      "40650 访问50次网页，耗时：2.1456551551818848\n",
      "40700 访问50次网页，耗时：2.4107227325439453\n",
      "40750 访问50次网页，耗时：2.519547700881958\n",
      "40800 访问50次网页，耗时：2.2502923011779785\n",
      "40850 访问50次网页，耗时：2.6385602951049805\n",
      "40900 访问50次网页，耗时：2.318697214126587\n",
      "40950 访问50次网页，耗时：2.453162670135498\n",
      "41000 访问50次网页，耗时：2.2171130180358887\n",
      "41050 访问50次网页，耗时：2.3303680419921875\n",
      "41100 访问50次网页，耗时：2.2991364002227783\n",
      "41150 访问50次网页，耗时：2.288879632949829\n",
      "41200 访问50次网页，耗时：2.521348237991333\n",
      "41250 访问50次网页，耗时：2.2424583435058594\n",
      "41300 访问50次网页，耗时：2.175450563430786\n",
      "41350 访问50次网页，耗时：2.3014771938323975\n",
      "41400 访问50次网页，耗时：2.662463665008545\n",
      "41450 访问50次网页，耗时：2.245978355407715\n",
      "41500 访问50次网页，耗时：2.600909948348999\n",
      "41550 访问50次网页，耗时：2.4803264141082764\n",
      "41600 访问50次网页，耗时：2.2245213985443115\n",
      "41650 访问50次网页，耗时：2.2770256996154785\n",
      "41700 访问50次网页，耗时：2.20487380027771\n",
      "41750 访问50次网页，耗时：2.2726941108703613\n",
      "41800 访问50次网页，耗时：2.302490234375\n",
      "41850 访问50次网页，耗时：2.4248268604278564\n",
      "41900 访问50次网页，耗时：2.5573225021362305\n",
      "41950 访问50次网页，耗时：14.518825769424438\n",
      "42000 访问50次网页，耗时：8.595751762390137\n",
      "42050 访问50次网页，耗时：2.957402467727661\n",
      "42100 访问50次网页，耗时：2.670884132385254\n",
      "42150 访问50次网页，耗时：3.010983943939209\n",
      "42200 访问50次网页，耗时：2.548508405685425\n",
      "42250 访问50次网页，耗时：2.512448310852051\n",
      "42300 访问50次网页，耗时：3.867473602294922\n",
      "42350 访问50次网页，耗时：2.769681930541992\n",
      "42400 访问50次网页，耗时：2.2335150241851807\n",
      "42450 访问50次网页，耗时：2.3785593509674072\n",
      "42500 访问50次网页，耗时：2.459096670150757\n",
      "42550 访问50次网页，耗时：2.215019702911377\n",
      "42600 访问50次网页，耗时：2.1416101455688477\n",
      "42650 访问50次网页，耗时：2.60270094871521\n",
      "42700 访问50次网页，耗时：2.1289408206939697\n",
      "42750 访问50次网页，耗时：2.3687424659729004\n",
      "42800 访问50次网页，耗时：2.537146806716919\n",
      "42850 访问50次网页，耗时：2.4251251220703125\n",
      "42900 访问50次网页，耗时：2.2294936180114746\n",
      "42950 访问50次网页，耗时：2.360912561416626\n",
      "43000 访问50次网页，耗时：2.0808353424072266\n",
      "43050 访问50次网页，耗时：2.5411899089813232\n",
      "43100 访问50次网页，耗时：4.481297731399536\n",
      "43150 访问50次网页，耗时：2.35841965675354\n",
      "43200 访问50次网页，耗时：2.7404637336730957\n",
      "43250 访问50次网页，耗时：2.2332825660705566\n",
      "43300 访问50次网页，耗时：2.4547157287597656\n",
      "43350 访问50次网页，耗时：2.8545620441436768\n",
      "43400 访问50次网页，耗时：4.912845849990845\n",
      "43450 访问50次网页，耗时：2.1359777450561523\n",
      "43500 访问50次网页，耗时：2.2120752334594727\n",
      "43550 访问50次网页，耗时：2.4649343490600586\n",
      "43600 访问50次网页，耗时：2.263792037963867\n",
      "43650 访问50次网页，耗时：2.3279635906219482\n",
      "43700 访问50次网页，耗时：2.397301197052002\n",
      "43750 访问50次网页，耗时：2.1334962844848633\n",
      "43800 访问50次网页，耗时：2.5091323852539062\n",
      "43850 访问50次网页，耗时：2.3584465980529785\n",
      "43900 访问50次网页，耗时：2.7269814014434814\n",
      "43950 访问50次网页，耗时：2.3574271202087402\n",
      "44000 访问50次网页，耗时：2.240476369857788\n",
      "44050 访问50次网页，耗时：2.610743522644043\n",
      "44100 访问50次网页，耗时：2.4590399265289307\n",
      "44150 访问50次网页，耗时：2.683042287826538\n",
      "44200 访问50次网页，耗时：2.621124505996704\n",
      "44250 访问50次网页，耗时：2.336043119430542\n",
      "44300 访问50次网页，耗时：2.2349390983581543\n",
      "44350 访问50次网页，耗时：2.676391839981079\n",
      "44400 访问50次网页，耗时：2.41595721244812\n",
      "44450 访问50次网页，耗时：2.511824131011963\n",
      "44500 访问50次网页，耗时：2.344562530517578\n",
      "44550 访问50次网页，耗时：2.177834987640381\n",
      "44600 访问50次网页，耗时：2.2169950008392334\n",
      "44650 访问50次网页，耗时：2.4577770233154297\n",
      "44700 访问50次网页，耗时：2.2977845668792725\n",
      "44750 访问50次网页，耗时：2.4586713314056396\n",
      "44800 访问50次网页，耗时：2.1514172554016113\n",
      "44850 访问50次网页，耗时：2.338599920272827\n",
      "44900 访问50次网页，耗时：2.3519136905670166\n",
      "44950 访问50次网页，耗时：2.6446352005004883\n",
      "45000 访问50次网页，耗时：2.250720500946045\n",
      "45050 访问50次网页，耗时：2.320110321044922\n",
      "45100 访问50次网页，耗时：2.472910165786743\n",
      "45150 访问50次网页，耗时：2.403975009918213\n",
      "45200 访问50次网页，耗时：2.1041762828826904\n",
      "45250 访问50次网页，耗时：2.2279770374298096\n",
      "45300 访问50次网页，耗时：2.07428240776062\n",
      "45350 访问50次网页，耗时：2.7079005241394043\n",
      "45400 访问50次网页，耗时：6.780525207519531\n",
      "45450 访问50次网页，耗时：2.498314619064331\n",
      "45500 访问50次网页，耗时：2.3757994174957275\n",
      "45550 访问50次网页，耗时：2.694967031478882\n",
      "45600 访问50次网页，耗时：2.5419278144836426\n",
      "45650 访问50次网页，耗时：2.3010478019714355\n",
      "45700 访问50次网页，耗时：2.4716360569000244\n",
      "45750 访问50次网页，耗时：2.513402223587036\n",
      "45800 访问50次网页，耗时：2.4391839504241943\n",
      "45850 访问50次网页，耗时：2.416875123977661\n",
      "45900 访问50次网页，耗时：2.6679275035858154\n",
      "45950 访问50次网页，耗时：2.1570935249328613\n",
      "46000 访问50次网页，耗时：2.3481392860412598\n",
      "46050 访问50次网页，耗时：2.255427837371826\n",
      "46100 访问50次网页，耗时：2.266376256942749\n",
      "46150 访问50次网页，耗时：2.126051664352417\n",
      "46200 访问50次网页，耗时：2.2264397144317627\n",
      "46250 访问50次网页，耗时：2.376525402069092\n",
      "46300 访问50次网页，耗时：2.3004043102264404\n",
      "46350 访问50次网页，耗时：2.3154945373535156\n",
      "46400 访问50次网页，耗时：2.26979660987854\n",
      "46450 访问50次网页，耗时：2.1260323524475098\n",
      "46500 访问50次网页，耗时：2.1498494148254395\n",
      "46550 访问50次网页，耗时：2.0891661643981934\n",
      "46600 访问50次网页，耗时：2.3464126586914062\n",
      "46650 访问50次网页，耗时：2.5556509494781494\n",
      "46700 访问50次网页，耗时：2.328789472579956\n",
      "46750 访问50次网页，耗时：2.317143201828003\n",
      "46800 访问50次网页，耗时：2.442084312438965\n",
      "46850 访问50次网页，耗时：4.010720252990723\n",
      "46900 访问50次网页，耗时：3.5493643283843994\n",
      "46950 访问50次网页，耗时：2.2080538272857666\n",
      "47000 访问50次网页，耗时：2.8705828189849854\n",
      "47050 访问50次网页，耗时：2.227292776107788\n",
      "47100 访问50次网页，耗时：2.2981722354888916\n",
      "47150 访问50次网页，耗时：2.171564817428589\n",
      "47200 访问50次网页，耗时：2.086170196533203\n",
      "47250 访问50次网页，耗时：2.4921135902404785\n",
      "47300 访问50次网页，耗时：2.3879306316375732\n",
      "47350 访问50次网页，耗时：2.52630615234375\n",
      "47400 访问50次网页，耗时：2.20418119430542\n",
      "47450 访问50次网页，耗时：2.3391239643096924\n",
      "47500 访问50次网页，耗时：2.3811750411987305\n",
      "47550 访问50次网页，耗时：2.782151460647583\n",
      "47600 访问50次网页，耗时：2.463991403579712\n",
      "47650 访问50次网页，耗时：3.604600429534912\n",
      "47700 访问50次网页，耗时：2.3692989349365234\n",
      "47750 访问50次网页，耗时：2.2490930557250977\n",
      "47800 访问50次网页，耗时：2.223125696182251\n",
      "47850 访问50次网页，耗时：2.1088314056396484\n",
      "47900 访问50次网页，耗时：2.5380613803863525\n",
      "47950 访问50次网页，耗时：2.2206032276153564\n",
      "48000 访问50次网页，耗时：2.4197356700897217\n",
      "48050 访问50次网页，耗时：2.231015920639038\n",
      "48100 访问50次网页，耗时：2.2315540313720703\n",
      "48150 访问50次网页，耗时：2.53865909576416\n"
     ]
    },
    {
     "name": "stderr",
     "output_type": "stream",
     "text": [
      "Exception in thread Thread-48226:\n",
      "Traceback (most recent call last):\n",
      "  File \"C:\\MYSOFT\\anaconda\\anaconda\\lib\\threading.py\", line 973, in _bootstrap_inner\n",
      "    self.run()\n",
      "  File \"C:\\MYSOFT\\anaconda\\anaconda\\lib\\threading.py\", line 910, in run\n",
      "    self._target(*self._args, **self._kwargs)\n",
      "  File \"C:\\Users\\daichuan\\AppData\\Local\\Temp/ipykernel_12592/2605260685.py\", line 14, in get_detail_all\n",
      "IndexError: list index out of range\n"
     ]
    },
    {
     "name": "stdout",
     "output_type": "stream",
     "text": [
      "48200 访问50次网页，耗时：2.577949047088623\n",
      "48250 访问50次网页，耗时：2.818734645843506\n",
      "48300 访问50次网页，耗时：2.247283697128296\n",
      "48350 访问50次网页，耗时：3.01894474029541\n",
      "48400 访问50次网页，耗时：2.473320484161377\n",
      "48450 访问50次网页，耗时：2.5989222526550293\n",
      "48500 访问50次网页，耗时：3.02665114402771\n",
      "48550 访问50次网页，耗时：2.348233699798584\n",
      "48600 访问50次网页，耗时：2.5519609451293945\n",
      "48650 访问50次网页，耗时：2.6736769676208496\n",
      "48700 访问50次网页，耗时：2.2587037086486816\n",
      "48750 访问50次网页，耗时：2.300135612487793\n",
      "48800 访问50次网页，耗时：2.2868876457214355\n",
      "48850 访问50次网页，耗时：2.333378791809082\n",
      "48900 访问50次网页，耗时：2.37660813331604\n",
      "48950 访问50次网页，耗时：2.6243467330932617\n",
      "49000 访问50次网页，耗时：2.1759960651397705\n",
      "49050 访问50次网页，耗时：2.2379157543182373\n",
      "49100 访问50次网页，耗时：2.4735147953033447\n",
      "49150 访问50次网页，耗时：2.250077247619629\n",
      "49200 访问50次网页，耗时：2.160147190093994\n",
      "49250 访问50次网页，耗时：2.0829195976257324\n",
      "49300 访问50次网页，耗时：2.1926662921905518\n",
      "49350 访问50次网页，耗时：2.712822437286377\n",
      "49400 访问50次网页，耗时：2.4804811477661133\n",
      "49450 访问50次网页，耗时：2.1144611835479736\n",
      "49500 访问50次网页，耗时：2.2355709075927734\n",
      "49550 访问50次网页，耗时：1.9439935684204102\n",
      "49600 访问50次网页，耗时：2.379088878631592\n",
      "49650 访问50次网页，耗时：2.3331596851348877\n",
      "49700 访问50次网页，耗时：2.3479385375976562\n",
      "49750 访问50次网页，耗时：2.1450884342193604\n",
      "49800 访问50次网页，耗时：2.3965766429901123\n",
      "49850 访问50次网页，耗时：2.3645951747894287\n",
      "49900 访问50次网页，耗时：2.2869889736175537\n",
      "49950 访问50次网页，耗时：2.2884464263916016\n",
      "50000 访问50次网页，耗时：2.473403215408325\n",
      "50050 访问50次网页，耗时：2.3175413608551025\n"
     ]
    },
    {
     "name": "stderr",
     "output_type": "stream",
     "text": [
      "Exception in thread Thread-50123:\n",
      "Traceback (most recent call last):\n",
      "  File \"C:\\MYSOFT\\anaconda\\anaconda\\lib\\threading.py\", line 973, in _bootstrap_inner\n",
      "    self.run()\n",
      "  File \"C:\\MYSOFT\\anaconda\\anaconda\\lib\\threading.py\", line 910, in run\n",
      "    self._target(*self._args, **self._kwargs)\n",
      "  File \"C:\\Users\\daichuan\\AppData\\Local\\Temp/ipykernel_12592/2605260685.py\", line 22, in get_detail_all\n",
      "IndexError: list index out of range\n"
     ]
    },
    {
     "name": "stdout",
     "output_type": "stream",
     "text": [
      "50100 访问50次网页，耗时：4.0270676612854\n",
      "50150 访问50次网页，耗时：2.6192495822906494\n"
     ]
    },
    {
     "name": "stderr",
     "output_type": "stream",
     "text": [
      "Exception in thread Thread-50253:\n",
      "Traceback (most recent call last):\n",
      "  File \"C:\\MYSOFT\\anaconda\\anaconda\\lib\\threading.py\", line 973, in _bootstrap_inner\n",
      "    self.run()\n",
      "  File \"C:\\MYSOFT\\anaconda\\anaconda\\lib\\threading.py\", line 910, in run\n",
      "    self._target(*self._args, **self._kwargs)\n",
      "  File \"C:\\Users\\daichuan\\AppData\\Local\\Temp/ipykernel_12592/2605260685.py\", line 14, in get_detail_all\n",
      "IndexError: list index out of range\n"
     ]
    },
    {
     "name": "stdout",
     "output_type": "stream",
     "text": [
      "50200 访问50次网页，耗时：2.291644811630249\n",
      "50250 访问50次网页，耗时：2.1288106441497803\n",
      "50300 访问50次网页，耗时：2.223092794418335\n",
      "50350 访问50次网页，耗时：2.332761287689209\n",
      "50400 访问50次网页，耗时：2.1595468521118164\n",
      "50450 访问50次网页，耗时：2.8938512802124023\n",
      "50500 访问50次网页，耗时：2.0991992950439453\n",
      "50550 访问50次网页，耗时：3.269003391265869\n",
      "50600 访问50次网页，耗时：2.181403398513794\n",
      "50650 访问50次网页，耗时：2.222858428955078\n"
     ]
    },
    {
     "name": "stderr",
     "output_type": "stream",
     "text": [
      "Exception in thread Thread-50737:\n",
      "Traceback (most recent call last):\n",
      "  File \"C:\\MYSOFT\\anaconda\\anaconda\\lib\\threading.py\", line 973, in _bootstrap_inner\n",
      "    self.run()\n",
      "  File \"C:\\MYSOFT\\anaconda\\anaconda\\lib\\threading.py\", line 910, in run\n",
      "    self._target(*self._args, **self._kwargs)\n",
      "  File \"C:\\Users\\daichuan\\AppData\\Local\\Temp/ipykernel_12592/2605260685.py\", line 14, in get_detail_all\n",
      "IndexError: list index out of range\n"
     ]
    },
    {
     "name": "stdout",
     "output_type": "stream",
     "text": [
      "50700 访问50次网页，耗时：2.1704633235931396\n",
      "50750 访问50次网页，耗时：2.291621208190918\n",
      "50800 访问50次网页，耗时：2.440908908843994\n",
      "50850 访问50次网页，耗时：3.6135120391845703\n",
      "50900 访问50次网页，耗时：3.3483495712280273\n",
      "50950 访问50次网页，耗时：2.520425319671631\n",
      "51000 访问50次网页，耗时：5.081705331802368\n",
      "51050 访问50次网页，耗时：2.9432106018066406\n"
     ]
    },
    {
     "name": "stderr",
     "output_type": "stream",
     "text": [
      "Exception in thread Thread-51132:\n",
      "Traceback (most recent call last):\n",
      "  File \"C:\\MYSOFT\\anaconda\\anaconda\\lib\\threading.py\", line 973, in _bootstrap_inner\n",
      "    self.run()\n",
      "  File \"C:\\MYSOFT\\anaconda\\anaconda\\lib\\threading.py\", line 910, in run\n",
      "    self._target(*self._args, **self._kwargs)\n",
      "  File \"C:\\Users\\daichuan\\AppData\\Local\\Temp/ipykernel_12592/2605260685.py\", line 14, in get_detail_all\n",
      "IndexError: list index out of range\n"
     ]
    },
    {
     "name": "stdout",
     "output_type": "stream",
     "text": [
      "51100 访问50次网页，耗时：2.431603193283081\n",
      "51150 访问50次网页，耗时：4.848537445068359\n",
      "51200 访问50次网页，耗时：2.576427936553955\n",
      "51250 访问50次网页，耗时：2.257120132446289\n",
      "51300 访问50次网页，耗时：2.363572597503662\n",
      "51350 访问50次网页，耗时：2.5045905113220215\n",
      "51400 访问50次网页，耗时：2.286810874938965\n"
     ]
    },
    {
     "name": "stderr",
     "output_type": "stream",
     "text": [
      "Exception in thread Thread-51490:\n",
      "Traceback (most recent call last):\n",
      "  File \"C:\\MYSOFT\\anaconda\\anaconda\\lib\\threading.py\", line 973, in _bootstrap_inner\n",
      "    self.run()\n",
      "  File \"C:\\MYSOFT\\anaconda\\anaconda\\lib\\threading.py\", line 910, in run\n",
      "    self._target(*self._args, **self._kwargs)\n",
      "  File \"C:\\Users\\daichuan\\AppData\\Local\\Temp/ipykernel_12592/2605260685.py\", line 14, in get_detail_all\n",
      "IndexError: list index out of range\n"
     ]
    },
    {
     "name": "stdout",
     "output_type": "stream",
     "text": [
      "51450 访问50次网页，耗时：2.4559292793273926\n"
     ]
    },
    {
     "name": "stderr",
     "output_type": "stream",
     "text": [
      "Exception in thread Thread-51526:\n",
      "Traceback (most recent call last):\n",
      "  File \"C:\\MYSOFT\\anaconda\\anaconda\\lib\\threading.py\", line 973, in _bootstrap_inner\n",
      "    self.run()\n",
      "  File \"C:\\MYSOFT\\anaconda\\anaconda\\lib\\threading.py\", line 910, in run\n",
      "    self._target(*self._args, **self._kwargs)\n",
      "  File \"C:\\Users\\daichuan\\AppData\\Local\\Temp/ipykernel_12592/2605260685.py\", line 14, in get_detail_all\n",
      "IndexError: list index out of range\n"
     ]
    },
    {
     "name": "stdout",
     "output_type": "stream",
     "text": [
      "51500 访问50次网页，耗时：2.4126861095428467\n",
      "51550 访问50次网页，耗时：3.090080738067627\n",
      "51600 访问50次网页，耗时：5.008420944213867\n",
      "51650 访问50次网页，耗时：4.86374306678772\n",
      "51700 访问50次网页，耗时：6.471642732620239\n",
      "51750 访问50次网页，耗时：8.972453117370605\n",
      "51800 访问50次网页，耗时：5.378248691558838\n",
      "51850 访问50次网页，耗时：5.315564155578613\n",
      "51900 访问50次网页，耗时：4.771252870559692\n",
      "51950 访问50次网页，耗时：6.452820301055908\n",
      "52000 访问50次网页，耗时：3.4255893230438232\n",
      "52050 访问50次网页，耗时：3.1281681060791016\n"
     ]
    },
    {
     "name": "stderr",
     "output_type": "stream",
     "text": [
      "Exception in thread Thread-52156:\n",
      "Traceback (most recent call last):\n",
      "  File \"C:\\MYSOFT\\anaconda\\anaconda\\lib\\threading.py\", line 973, in _bootstrap_inner\n",
      "    self.run()\n",
      "  File \"C:\\MYSOFT\\anaconda\\anaconda\\lib\\threading.py\", line 910, in run\n",
      "    self._target(*self._args, **self._kwargs)\n",
      "  File \"C:\\Users\\daichuan\\AppData\\Local\\Temp/ipykernel_12592/2605260685.py\", line 14, in get_detail_all\n",
      "IndexError: list index out of range\n"
     ]
    },
    {
     "name": "stdout",
     "output_type": "stream",
     "text": [
      "52100 访问50次网页，耗时：4.208495140075684\n",
      "52150 访问50次网页，耗时：4.4721925258636475\n",
      "52200 访问50次网页，耗时：2.5823519229888916\n",
      "52250 访问50次网页，耗时：5.393230676651001\n",
      "52300 访问50次网页，耗时：2.3468329906463623\n",
      "52350 访问50次网页，耗时：2.097311496734619\n",
      "52400 访问50次网页，耗时：2.518885374069214\n",
      "52450 访问50次网页，耗时：2.397705316543579\n",
      "52500 访问50次网页，耗时：2.112677574157715\n",
      "52550 访问50次网页，耗时：2.128466844558716\n",
      "52600 访问50次网页，耗时：2.0974767208099365\n",
      "52650 访问50次网页，耗时：2.379310131072998\n",
      "52700 访问50次网页，耗时：2.2272469997406006\n",
      "52750 访问50次网页，耗时：2.242107629776001\n"
     ]
    }
   ],
   "source": [
    "#多线程解析详情页情况\n",
    "car_detail_all = []\n",
    "thread_list = []\n",
    "\n",
    "\n",
    "for k in range(0,1056,1):\n",
    "    start = time.time()\n",
    "    \n",
    "    for i in range(1,51,1):\n",
    "        url = r\"https://www.renrenche.com\" + array_table[50*k+i][0]\n",
    "        thread = threading.Thread(target=get_detail_all, args=(url,))\n",
    "        thread_list.append(thread)\n",
    "        thread.start()\n",
    "\n",
    "    for thread in thread_list:\n",
    "        thread.join()\n",
    "    \n",
    "    thread_list = []\n",
    "    \n",
    "    end = time.time()\n",
    "    print(50*k, f'访问50次网页，耗时：{end - start}')\n"
   ]
  },
  {
   "cell_type": "markdown",
   "id": "b15a486b",
   "metadata": {},
   "source": [
    "## 写入文件"
   ]
  },
  {
   "cell_type": "code",
   "execution_count": 7,
   "id": "35d37cad",
   "metadata": {},
   "outputs": [
    {
     "name": "stdout",
     "output_type": "stream",
     "text": [
      "写入完成 ['car_name', 'two_price', 'new_price', 'summary', 'tag', 'Chinese_description']\n"
     ]
    }
   ],
   "source": [
    "#写入csv文件\n",
    "import pandas as pd\n",
    "\n",
    "name=['car_name', 'two_price', 'new_price', 'summary', 'tag', 'Chinese_description']\n",
    "test=pd.DataFrame(columns=name, data=car_detail_all)\n",
    "test.to_csv('data/car_detail.csv', encoding='gbk')\n",
    "\n",
    "print(\"写入完成\",name)"
   ]
  },
  {
   "cell_type": "code",
   "execution_count": null,
   "id": "1fb07de1",
   "metadata": {},
   "outputs": [],
   "source": []
  }
 ],
 "metadata": {
  "kernelspec": {
   "display_name": "Python 3 (ipykernel)",
   "language": "python",
   "name": "python3"
  },
  "language_info": {
   "codemirror_mode": {
    "name": "ipython",
    "version": 3
   },
   "file_extension": ".py",
   "mimetype": "text/x-python",
   "name": "python",
   "nbconvert_exporter": "python",
   "pygments_lexer": "ipython3",
   "version": "3.9.7"
  }
 },
 "nbformat": 4,
 "nbformat_minor": 5
}
